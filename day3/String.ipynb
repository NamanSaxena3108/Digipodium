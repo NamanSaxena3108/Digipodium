{
 "cells": [
  {
   "cell_type": "markdown",
   "metadata": {},
   "source": [
    "### displaying output and input\n"
   ]
  },
  {
   "cell_type": "code",
   "execution_count": 1,
   "metadata": {},
   "outputs": [
    {
     "name": "stdout",
     "output_type": "stream",
     "text": [
      "\n",
      "hello\n",
      "example string\n",
      "example print() with multiple argument\n",
      "example_print()_with_multiple_argument\n",
      "example😎print()😎with😎multiple😎argument\n",
      "exampleprint()withmultipleargument\n"
     ]
    }
   ],
   "source": [
    "print()\n",
    "print('hello')\n",
    "print(\"example string\")\n",
    "print(\"example\",\"print()\",\"with\",\"multiple\",\"argument\")\n",
    "print(\"example\",\"print()\",\"with\",\"multiple\",\"argument\",sep=\"_\")\n",
    "print(\"example\",\"print()\",\"with\",\"multiple\",\"argument\",sep=\"😎\")\n",
    "print(\"example\",\"print()\",\"with\",\"multiple\",\"argument\",sep=\"\")"
   ]
  },
  {
   "cell_type": "code",
   "execution_count": 2,
   "metadata": {},
   "outputs": [
    {
     "name": "stdout",
     "output_type": "stream",
     "text": [
      "['apple', 'banana', 'cherry', 'tomato']\n",
      "apple\n",
      "banana\n",
      "cherry\n",
      "tomato\n"
     ]
    }
   ],
   "source": [
    "fruits=['apple','banana','cherry','tomato']\n",
    "print(fruits)\n",
    "print(*fruits,sep=\"\\n\")"
   ]
  },
  {
   "cell_type": "markdown",
   "metadata": {},
   "source": [
    "### displaying value with arguments\n"
   ]
  },
  {
   "cell_type": "code",
   "execution_count": 3,
   "metadata": {},
   "outputs": [
    {
     "name": "stdout",
     "output_type": "stream",
     "text": [
      "result = 10 + 20 = 30\n",
      "result = 10 + 20 = 30\n"
     ]
    }
   ],
   "source": [
    "a,b=10,20\n",
    "c=a+b\n",
    "print('result =',a,'+',b,'=',c)\n",
    "print(f\"result = {a} + {b} = {c}\")"
   ]
  },
  {
   "cell_type": "markdown",
   "metadata": {},
   "source": [
    "### input/output"
   ]
  },
  {
   "cell_type": "code",
   "execution_count": 4,
   "metadata": {},
   "outputs": [
    {
     "name": "stdout",
     "output_type": "stream",
     "text": [
      "so you are ddwad\n"
     ]
    }
   ],
   "source": [
    "name=input(\"who are you?\")\n",
    "print(f\"so you are {name}\")"
   ]
  },
  {
   "cell_type": "code",
   "execution_count": 5,
   "metadata": {},
   "outputs": [
    {
     "name": "stdout",
     "output_type": "stream",
     "text": [
      "simple interest calculation\n",
      "princial                  894\n",
      "Rate of intrest           8.0\n",
      "time in years               7\n",
      "------------------------------\n",
      "Simple interest will be=500.64\n"
     ]
    }
   ],
   "source": [
    "p=int(input(\"enter the principal amount\"))\n",
    "r=float(input(\"enter the rate\"))\n",
    "t=int(input(\"enter the time period\"))\n",
    "si=p*r*t/100\n",
    "print(f\"simple interest calculation\")\n",
    "print(f\"princial {p:20}\")\n",
    "print(f\"Rate of intrest {r:13}\")\n",
    "print(f\"time in years {t:15}\")\n",
    "print(f\"---\"*10)\n",
    "print(f\"Simple interest will be={si:5}\")"
   ]
  },
  {
   "cell_type": "markdown",
   "metadata": {},
   "source": [
    "### Alingment and formating"
   ]
  },
  {
   "cell_type": "code",
   "execution_count": 6,
   "metadata": {},
   "outputs": [
    {
     "name": "stdout",
     "output_type": "stream",
     "text": [
      "Journey\n",
      "Journey\n",
      "Journey                                                                                             \n",
      "                                                                                             Journey\n",
      "                                              Journey                                               \n",
      "Journey                                                                                             \n"
     ]
    }
   ],
   "source": [
    "word='Journey'\n",
    "print(word)\n",
    "print(f\"{word}\")\n",
    "print(f\"{word:100}\") #give extra space on selecting\n",
    "print(f\"{word:>100}\") #alingment to right\n",
    "print(f\"{word:^100}\") #alingment to middle\n",
    "print(f\"{word:<100}\") #alingment to left"
   ]
  },
  {
   "cell_type": "code",
   "execution_count": 7,
   "metadata": {},
   "outputs": [
    {
     "name": "stdout",
     "output_type": "stream",
     "text": [
      "1200.2314616854644\n",
      "                                                                                  1200.2314616854644\n",
      "1200.2314616854644                                                                                  \n",
      "                                                                                  1200.2314616854644\n",
      "                                         1200.2314616854644                                         \n",
      "                                                                                             1200.23\n",
      "1200.231\n"
     ]
    }
   ],
   "source": [
    "num=1200.2314616854644564\n",
    "print(f\"{num}\")\n",
    "print(f\"{num:100}\")\n",
    "print(f\"{num:<100}\")\n",
    "print(f\"{num:>100}\")\n",
    "print(f\"{num:^100}\")\n",
    "print(f\"{num:100.2f}\")\n",
    "print(f\"{num:.3f}\")"
   ]
  },
  {
   "cell_type": "code",
   "execution_count": 8,
   "metadata": {},
   "outputs": [
    {
     "name": "stdout",
     "output_type": "stream",
     "text": [
      "The length of each side                  5.0\n",
      "The Volume of square is                  125.0\n"
     ]
    }
   ],
   "source": [
    "a=float(input(\"Enter the length of each side\"))\n",
    "vol=a**3\n",
    "print(f\"The length of each side {a:20}\")\n",
    "print(f\"The Volume of square is {vol:22}\")"
   ]
  }
 ],
 "metadata": {
  "kernelspec": {
   "display_name": "base",
   "language": "python",
   "name": "python3"
  },
  "language_info": {
   "codemirror_mode": {
    "name": "ipython",
    "version": 3
   },
   "file_extension": ".py",
   "mimetype": "text/x-python",
   "name": "python",
   "nbconvert_exporter": "python",
   "pygments_lexer": "ipython3",
   "version": "3.12.4"
  }
 },
 "nbformat": 4,
 "nbformat_minor": 2
}
