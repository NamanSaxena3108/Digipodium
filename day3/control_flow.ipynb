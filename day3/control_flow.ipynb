{
 "cells": [
  {
   "cell_type": "markdown",
   "metadata": {},
   "source": [
    "# Control Flow\n",
    "### Condition\n",
    "    - `if`\n",
    "    - `if elif`\n",
    "    - `if elif ladder`\n",
    "    - `match case`\n",
    "    - `nested if`\n",
    "### Loops\n",
    "    - `for loop`\n",
    "    - `while loop`"
   ]
  },
  {
   "cell_type": "code",
   "execution_count": 1,
   "metadata": {},
   "outputs": [
    {
     "name": "stdout",
     "output_type": "stream",
     "text": [
      "very nice\n",
      "🐞no bug here\n",
      "Name exist\n"
     ]
    }
   ],
   "source": [
    "X=10\n",
    "if X>=5:\n",
    "    print(\"very nice\")\n",
    "\n",
    "y=2\n",
    "if X>5 and y<5:\n",
    "    print(\"🐞no bug here\")\n",
    "\n",
    "name=\"Aryton Senna\"\n",
    "if name:\n",
    "    print(\"Name exist\")"
   ]
  },
  {
   "cell_type": "code",
   "execution_count": 2,
   "metadata": {},
   "outputs": [
    {
     "name": "stdout",
     "output_type": "stream",
     "text": [
      "a is ❌ empty\n"
     ]
    }
   ],
   "source": [
    "a='Apple'\n",
    "if len(a):\n",
    "    print(\"a is ❌ empty\")\n",
    "else:\n",
    "    print(\"a ✔ empty\")"
   ]
  }
 ],
 "metadata": {
  "kernelspec": {
   "display_name": "Python 3",
   "language": "python",
   "name": "python3"
  },
  "language_info": {
   "codemirror_mode": {
    "name": "ipython",
    "version": 3
   },
   "file_extension": ".py",
   "mimetype": "text/x-python",
   "name": "python",
   "nbconvert_exporter": "python",
   "pygments_lexer": "ipython3",
   "version": "3.12.4"
  }
 },
 "nbformat": 4,
 "nbformat_minor": 2
}
