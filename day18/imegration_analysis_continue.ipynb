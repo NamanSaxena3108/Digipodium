{
  "cells": [
    {
      "cell_type": "code",
      "execution_count": 3,
      "metadata": {
        "id": "sgend2b4R_7t"
      },
      "outputs": [],
      "source": [
        "import pandas as pd\n",
        "import numpy as np\n",
        "import matplotlib.pyplot as plt\n",
        "import seaborn as sns\n",
        "import plotly.express as px"
      ]
    },
    {
      "cell_type": "code",
      "execution_count": null,
      "metadata": {
        "colab": {
          "base_uri": "https://localhost:8080/",
          "height": 635
        },
        "id": "nL5BWRK4R_71",
        "outputId": "75f4b532-dcf7-4f0e-fa27-d456ec165cd6"
      },
      "outputs": [],
      "source": [
        "df=pd.read_excel(\"F:/Languages/python/Digipodium/Data Sets/Canada.xlsx\",header=0,skiprows=20,skipfooter=2)\n",
        "#sheet_name=1 to select the required sheet from excel if there are multiple sheets in given excel file\n",
        "#skiprows=skip the number of rows given\n",
        "#skipfooter=skip the number of rows given from the last\n",
        "df"
      ]
    },
    {
      "cell_type": "code",
      "execution_count": 5,
      "metadata": {
        "id": "i6URqDpIR_75"
      },
      "outputs": [],
      "source": [
        "#set pandas to display all columns(optional)\n",
        "pd.set_option('display.max_columns',None)"
      ]
    },
    {
      "cell_type": "code",
      "execution_count": null,
      "metadata": {
        "colab": {
          "base_uri": "https://localhost:8080/",
          "height": 635
        },
        "id": "9Kbm2DM3R_76",
        "outputId": "c9400e84-11be-4cbb-aa47-f8aaa1c07345"
      },
      "outputs": [],
      "source": [
        "df"
      ]
    },
    {
      "cell_type": "code",
      "execution_count": null,
      "metadata": {
        "colab": {
          "base_uri": "https://localhost:8080/",
          "height": 313
        },
        "id": "0B8vIEmYR_77",
        "outputId": "69e42ca1-4059-4a24-92cd-7e104ce55ec0"
      },
      "outputs": [],
      "source": [
        "df.head() #first 5 rows"
      ]
    },
    {
      "cell_type": "code",
      "execution_count": null,
      "metadata": {
        "colab": {
          "base_uri": "https://localhost:8080/",
          "height": 330
        },
        "id": "MIPNRXfXR_78",
        "outputId": "f49ae290-ff75-4f10-ade2-b0f5c4c8f2f1"
      },
      "outputs": [],
      "source": [
        "df.tail() #last five rows"
      ]
    },
    {
      "cell_type": "markdown",
      "metadata": {
        "id": "JalzaDDJRp-N"
      },
      "source": [
        "check for null values"
      ]
    },
    {
      "cell_type": "code",
      "execution_count": null,
      "metadata": {
        "colab": {
          "base_uri": "https://localhost:8080/",
          "height": 1000
        },
        "id": "2qF3WSnTUEiA",
        "outputId": "4f937079-0dec-4759-b1be-5e4d512e4f72"
      },
      "outputs": [],
      "source": [
        "df.isnull().sum()"
      ]
    },
    {
      "cell_type": "markdown",
      "metadata": {
        "id": "DTxqVRi3TKVP"
      },
      "source": [
        "Data in DataFrame can be of\n",
        "- Numeric Type\n",
        "- Categorical Type(Repeating values either numeric or string)\n",
        "- Text Type (Non-Repeating values) // Unique values only\n",
        "- Data Type\n",
        "- Boolean Type"
      ]
    },
    {
      "cell_type": "markdown",
      "metadata": {
        "id": "c9p60i9iT7lJ"
      },
      "source": [
        "Data Types in DataFrame\n",
        "\n",
        "`int,float,object,bool,datetime64,timedelta64`"
      ]
    },
    {
      "cell_type": "code",
      "execution_count": null,
      "metadata": {
        "colab": {
          "base_uri": "https://localhost:8080/"
        },
        "id": "WDK389DiRxGD",
        "outputId": "1db35adb-7171-4094-da57-e72ddae4fed9"
      },
      "outputs": [],
      "source": [
        "df.info()  #info is used to give the data type of data present in the dataset"
      ]
    },
    {
      "cell_type": "code",
      "execution_count": null,
      "metadata": {
        "colab": {
          "base_uri": "https://localhost:8080/",
          "height": 635
        },
        "id": "s3n6N4DVTwLB",
        "outputId": "1b10b321-da11-4736-de17-0b1e5535f1bc"
      },
      "outputs": [],
      "source": [
        "df.iloc[100:200] #rows 100 to 200"
      ]
    },
    {
      "cell_type": "code",
      "execution_count": null,
      "metadata": {
        "colab": {
          "base_uri": "https://localhost:8080/",
          "height": 609
        },
        "id": "K8LD6LzzUvFp",
        "outputId": "5a23d615-fb14-4bbf-df2e-fd4d88ca2f0d"
      },
      "outputs": [],
      "source": [
        "df.sample(10) #random 10 rows"
      ]
    },
    {
      "cell_type": "markdown",
      "metadata": {
        "id": "cbnwnEv5VBrC"
      },
      "source": [
        "Seperating data"
      ]
    },
    {
      "cell_type": "code",
      "execution_count": null,
      "metadata": {
        "colab": {
          "base_uri": "https://localhost:8080/",
          "height": 444
        },
        "id": "TjVxdSKqU7Ii",
        "outputId": "ba48a545-7135-4123-f7a5-942513ccf951"
      },
      "outputs": [],
      "source": [
        "df.select_dtypes(include='number')  #it is used to show the data based on there particular DataType"
      ]
    },
    {
      "cell_type": "code",
      "execution_count": null,
      "metadata": {
        "colab": {
          "base_uri": "https://localhost:8080/",
          "height": 424
        },
        "id": "-gwLD6h9VMt0",
        "outputId": "0e33a1c2-e4bd-4573-e2d6-e6d576156d12"
      },
      "outputs": [],
      "source": [
        "df.select_dtypes(include='object')"
      ]
    },
    {
      "cell_type": "code",
      "execution_count": null,
      "metadata": {
        "colab": {
          "base_uri": "https://localhost:8080/",
          "height": 272
        },
        "id": "c8_gehNlVPgf",
        "outputId": "b3a69ea3-2f79-4ca9-d823-cacf4ba4243e"
      },
      "outputs": [],
      "source": [
        "df.select_dtypes(include='object').nunique()  #nunique is used to give the number of unique data present in columns"
      ]
    },
    {
      "cell_type": "code",
      "execution_count": null,
      "metadata": {
        "colab": {
          "base_uri": "https://localhost:8080/"
        },
        "id": "3yiuQSB0Vgk-",
        "outputId": "493df616-5fe2-499c-dc8a-a84d01524b70"
      },
      "outputs": [],
      "source": [
        "for col in df.select_dtypes(include='object'):\n",
        "  print(f\"{col} : {df[col].unique()}\")   #unique is used to give a list of all the unique data"
      ]
    },
    {
      "cell_type": "code",
      "execution_count": null,
      "metadata": {
        "colab": {
          "base_uri": "https://localhost:8080/",
          "height": 178
        },
        "id": "hIu_g2ylW95W",
        "outputId": "f7035dc6-b843-4771-cc41-e2a40e855d8c"
      },
      "outputs": [],
      "source": [
        "df['Coverage'].value_counts()   #it is used to count the value that is repeated in a particular column"
      ]
    },
    {
      "cell_type": "markdown",
      "metadata": {
        "id": "6kNbq7kBZKzG"
      },
      "source": [
        "Dropping some unwanted columns"
      ]
    },
    {
      "cell_type": "code",
      "execution_count": 18,
      "metadata": {
        "id": "Pc8IyHAHWabj"
      },
      "outputs": [],
      "source": [
        "cols_to_drop =[\"Type\",'AREA','REG','DEV','Coverage']\n",
        "df=df.drop(columns=cols_to_drop)"
      ]
    },
    {
      "cell_type": "code",
      "execution_count": null,
      "metadata": {
        "colab": {
          "base_uri": "https://localhost:8080/",
          "height": 635
        },
        "id": "2yD6BiVzXV9J",
        "outputId": "79e7e362-67d0-4364-9f7c-827c48d44eed"
      },
      "outputs": [],
      "source": [
        "df"
      ]
    },
    {
      "cell_type": "markdown",
      "metadata": {
        "id": "zFDXqBIRY9Fx"
      },
      "source": [
        "Rename the column"
      ]
    },
    {
      "cell_type": "code",
      "execution_count": 20,
      "metadata": {
        "id": "Eh4x7iV2XpTr"
      },
      "outputs": [],
      "source": [
        "df=df.rename(columns={'OdName':'Country','AreaName':'Continent','RegName':'Region','DevName':'Status'})"
      ]
    },
    {
      "cell_type": "markdown",
      "metadata": {
        "id": "qea0m1c5Z7nG"
      },
      "source": [
        "Sorting Data"
      ]
    },
    {
      "cell_type": "code",
      "execution_count": null,
      "metadata": {
        "colab": {
          "base_uri": "https://localhost:8080/",
          "height": 669
        },
        "id": "gdqzmDPwaCfo",
        "outputId": "5d49a05a-f05c-4c3c-e953-37d910fc0dcc"
      },
      "outputs": [],
      "source": [
        "df.sort_values(by=2013,ascending=False)  #ascending=False is used to sort the value in descending order\n",
        "                                         #and if we pass nothing it is in ascending"
      ]
    },
    {
      "cell_type": "code",
      "execution_count": null,
      "metadata": {
        "colab": {
          "base_uri": "https://localhost:8080/",
          "height": 635
        },
        "id": "u9bpiCAgagBL",
        "outputId": "d6c31dcf-b22e-400d-d1e3-d5c851aaff8d"
      },
      "outputs": [],
      "source": [
        "df.sort_values(by='Continent')"
      ]
    },
    {
      "cell_type": "markdown",
      "metadata": {
        "id": "ssLWmE7caAet"
      },
      "source": [
        "Add Columns"
      ]
    },
    {
      "cell_type": "code",
      "execution_count": null,
      "metadata": {
        "colab": {
          "base_uri": "https://localhost:8080/",
          "height": 458
        },
        "id": "dwOoEfZiY39I",
        "outputId": "fe50f3ab-af7c-4a28-c287-8cf49f0a2053"
      },
      "outputs": [],
      "source": [
        "years=range(1980,2014)\n",
        "df[years].sum(axis=1)  #add data column waise if not given add data row wise"
      ]
    },
    {
      "cell_type": "code",
      "execution_count": null,
      "metadata": {
        "colab": {
          "base_uri": "https://localhost:8080/",
          "height": 635
        },
        "id": "fXSGmvlZbHz_",
        "outputId": "72fa2343-57fc-4d50-afce-be393963daee"
      },
      "outputs": [],
      "source": [
        "df['total']=df[years].sum(axis=1)  #add a new column\n",
        "df"
      ]
    },
    {
      "cell_type": "markdown",
      "metadata": {
        "id": "inR1Dc3LdMXP"
      },
      "source": [
        "Replacing Values"
      ]
    },
    {
      "cell_type": "code",
      "execution_count": null,
      "metadata": {
        "colab": {
          "base_uri": "https://localhost:8080/",
          "height": 635
        },
        "id": "qp8AkDdTbtZB",
        "outputId": "77f3ea52-024e-48b4-8f01-fd58604d37fc"
      },
      "outputs": [],
      "source": [
        "df['Status']=df['Status'].replace('Developing regions',False)\n",
        "df['Status']=df['Status'].replace('Developed regions',True)\n",
        "df=df.rename(columns={'Status':'Developed'})\n",
        "df"
      ]
    },
    {
      "cell_type": "markdown",
      "metadata": {
        "id": "7gkj9yCedZaQ"
      },
      "source": [
        "Saving the processed data"
      ]
    },
    {
      "cell_type": "code",
      "execution_count": null,
      "metadata": {
        "id": "AuXqBmXscthr"
      },
      "outputs": [],
      "source": [
        "df.to_csv('/content/canada_clean.csv',index=False)"
      ]
    },
    {
      "cell_type": "markdown",
      "metadata": {
        "id": "dlmq1sBAef0c"
      },
      "source": [
        "# EDA(Exploratory Data Analysis) + Visualization"
      ]
    },
    {
      "cell_type": "code",
      "execution_count": null,
      "metadata": {
        "colab": {
          "base_uri": "https://localhost:8080/",
          "height": 178
        },
        "id": "mUYmyWX8dAFC",
        "outputId": "220308d8-daf7-4026-f92a-99c58c44fb7b"
      },
      "outputs": [],
      "source": [
        "df['Developed'].value_counts()   #this is analysis"
      ]
    },
    {
      "cell_type": "code",
      "execution_count": null,
      "metadata": {
        "colab": {
          "base_uri": "https://localhost:8080/",
          "height": 423
        },
        "id": "Lb2NjpeVepD3",
        "outputId": "3ddfb84b-e699-40e4-be02-18a70401f8b4"
      },
      "outputs": [],
      "source": [
        "df['Developed'].value_counts().plot(kind='pie',autopct='%.2f%%')"
      ]
    },
    {
      "cell_type": "code",
      "execution_count": null,
      "metadata": {
        "colab": {
          "base_uri": "https://localhost:8080/",
          "height": 466
        },
        "id": "ZVOUJ6z-faMx",
        "outputId": "c1d42d46-f79b-41c5-c15a-c0e62807c18e"
      },
      "outputs": [],
      "source": [
        "sns.countplot(data=df,x='Developed')"
      ]
    },
    {
      "cell_type": "code",
      "execution_count": null,
      "metadata": {
        "colab": {
          "base_uri": "https://localhost:8080/",
          "height": 542
        },
        "id": "Sq-edSDZfunq",
        "outputId": "eeea122f-a3f1-468f-eddf-e0164d9ccf16"
      },
      "outputs": [],
      "source": [
        "df['Developed'].value_counts().plot(kind='bar',backend='plotly')"
      ]
    },
    {
      "cell_type": "code",
      "execution_count": null,
      "metadata": {
        "colab": {
          "base_uri": "https://localhost:8080/",
          "height": 363
        },
        "id": "H4MToZIVf7f1",
        "outputId": "a596b5d9-5a96-40c6-a329-7cbe2d28f7ab"
      },
      "outputs": [],
      "source": [
        "df.sort_values(by='total',ascending=False).head(10)[['Country','total']]"
      ]
    },
    {
      "cell_type": "markdown",
      "metadata": {
        "id": "09GhPbqlg1nH"
      },
      "source": [
        "Creating a Subset"
      ]
    },
    {
      "cell_type": "code",
      "execution_count": 58,
      "metadata": {
        "id": "YvsMrMRrgpLS"
      },
      "outputs": [],
      "source": [
        "top10=df.sort_values(by='total',ascending=False).head(10)[['Country','total']].copy()"
      ]
    },
    {
      "cell_type": "code",
      "execution_count": null,
      "metadata": {
        "colab": {
          "base_uri": "https://localhost:8080/",
          "height": 363
        },
        "id": "aZ-WHDhYgz2m",
        "outputId": "a5a7a6bc-5b83-4e34-89d9-27be6daa11ed"
      },
      "outputs": [],
      "source": [
        "top10"
      ]
    },
    {
      "cell_type": "markdown",
      "metadata": {
        "id": "PCaeLE__hu7P"
      },
      "source": [
        "- Task 1:Change the United Kingdom to UK in the country column\n",
        "- Task 2:Change Iran(Islamic Republic of) to Iran in the counrty column\n",
        "- Task 3:Create a bar chart for this"
      ]
    },
    {
      "cell_type": "code",
      "execution_count": null,
      "metadata": {
        "colab": {
          "base_uri": "https://localhost:8080/",
          "height": 363
        },
        "id": "-8Iu9f2eid7g",
        "outputId": "73311989-6994-460f-bc88-438ce90259ce"
      },
      "outputs": [],
      "source": [
        "top10=top10.replace('United Kingdom of Great Britain and Northern Ireland','UK')\n",
        "top10=top10.replace('Iran(Islamic Republic of)','Iran')\n",
        "top10=top10.replace('United States of America','USA')\n",
        "top10"
      ]
    },
    {
      "cell_type": "code",
      "execution_count": null,
      "metadata": {
        "colab": {
          "base_uri": "https://localhost:8080/",
          "height": 466
        },
        "id": "-SHbM9cTjGSU",
        "outputId": "1c688707-0159-448d-fd48-0cb7fa630854"
      },
      "outputs": [],
      "source": [
        "sns.barplot(data=top10,hue='Country',x='total',y='Country',palette='rainbow',legend=False,orient='h')"
      ]
    },
    {
      "cell_type": "code",
      "execution_count": null,
      "metadata": {
        "id": "rDfA4lwdjhIn"
      },
      "outputs": [],
      "source": []
    }
  ],
  "metadata": {
    "colab": {
      "provenance": []
    },
    "kernelspec": {
      "display_name": "base",
      "language": "python",
      "name": "python3"
    },
    "language_info": {
      "codemirror_mode": {
        "name": "ipython",
        "version": 3
      },
      "file_extension": ".py",
      "mimetype": "text/x-python",
      "name": "python",
      "nbconvert_exporter": "python",
      "pygments_lexer": "ipython3",
      "version": "3.12.4"
    }
  },
  "nbformat": 4,
  "nbformat_minor": 0
}
