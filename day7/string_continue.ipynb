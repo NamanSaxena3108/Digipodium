{
 "cells": [
  {
   "cell_type": "markdown",
   "metadata": {},
   "source": [
    "### String Methods\n",
    "- formatting\n",
    "- validation\n",
    "- utility\n"
   ]
  },
  {
   "cell_type": "code",
   "execution_count": 41,
   "metadata": {},
   "outputs": [
    {
     "name": "stdout",
     "output_type": "stream",
     "text": [
      "Journey before Destination\n",
      "upper: JOURNEY BEFORE DESTINATION\n",
      "lower: journey before destination\n",
      "capatalize Journey before destination\n",
      "Title Journey Before Destination\n",
      "Swapcase jOURNEY BEFORE dESTINATION\n",
      "Casefold journey before destination\n",
      "Original Journey before Destination\n",
      "After complete change to lower case journey before destination\n"
     ]
    }
   ],
   "source": [
    "#Formatting\n",
    "qoute=\"Journey before Destination\"\n",
    "print(qoute)\n",
    "print(\"upper:\",qoute.upper())\n",
    "print(\"lower:\",qoute.lower())\n",
    "print(\"capatalize\",qoute.capitalize())\n",
    "print(\"Title\",qoute.title())\n",
    "print(\"Swapcase\",qoute.swapcase())\n",
    "print(\"Casefold\",qoute.casefold())\n",
    "print(\"Original\",qoute)\n",
    "qoute=qoute.lower()\n",
    "print(\"After complete change to lower case\",qoute)"
   ]
  },
  {
   "cell_type": "code",
   "execution_count": 40,
   "metadata": {},
   "outputs": [
    {
     "name": "stdout",
     "output_type": "stream",
     "text": [
      "sl__p_ng b_for_ d_st_n_t_on                                                     \n",
      "sl__p_ng b_for_ d_st_n_t_on-----------------------------------------------------\n",
      "                                                     sl__p_ng b_for_ d_st_n_t_on\n",
      "^^^^^^^^^^^^^^^^^^^^^^^^^^^^^^^^^^^^^^^^^^^^^^^^^^^^^sl__p_ng b_for_ d_st_n_t_on\n",
      "                          sl__p_ng b_for_ d_st_n_t_on                           \n",
      "--------------------------sl__p_ng b_for_ d_st_n_t_on---------------------------\n"
     ]
    }
   ],
   "source": [
    "#allingment\n",
    "print(qoute.ljust(80))\n",
    "print(qoute.ljust(80,\"-\"))\n",
    "print(qoute.rjust(80))\n",
    "print(qoute.rjust(80,\"^\"))\n",
    "print(qoute.center(80))\n",
    "print(qoute.center(80,\"-\"))"
   ]
  },
  {
   "cell_type": "code",
   "execution_count": 39,
   "metadata": {},
   "outputs": [
    {
     "name": "stdout",
     "output_type": "stream",
     "text": [
      "True\n",
      "False\n",
      "True\n",
      "False\n",
      "False\n",
      "True\n",
      "True\n",
      "True\n",
      "False\n",
      "False\n",
      "True\n",
      "True\n",
      "False\n"
     ]
    }
   ],
   "source": [
    "#validation\n",
    "print('123'.isdigit())#isdigit\n",
    "print('1 23'.isdigit())\n",
    "print(\"apple\".isalpha())#isalpha\n",
    "print(\"Apple pie\".isalpha())\n",
    "print(\"Apple1pie\".isalpha())\n",
    "print(\"apple123\".isalnum())#isalnum\n",
    "print(\"123\".isalnum())\n",
    "print(\"cheery\".isalnum())\n",
    "print(\"cherry 123\".isalnum())\n",
    "print(\"cheery 123\".isnumeric())#isnumeric\n",
    "print(\"123\".isnumeric())\n",
    "print(\" \".isspace()) #isspace\n",
    "print(\"1 2 3\".isspace()) "
   ]
  },
  {
   "cell_type": "code",
   "execution_count": 38,
   "metadata": {},
   "outputs": [
    {
     "name": "stdout",
     "output_type": "stream",
     "text": [
      "shabash\n"
     ]
    }
   ],
   "source": [
    "num=input(\"enter a number\")\n",
    "if num.isnumeric():\n",
    "    num=int(num)\n",
    "    print(\"shabash\")\n",
    "else:\n",
    "    print(\"Please go back to kindergarden\")"
   ]
  },
  {
   "cell_type": "code",
   "execution_count": 37,
   "metadata": {},
   "outputs": [
    {
     "name": "stdout",
     "output_type": "stream",
     "text": [
      "True\n",
      "False\n",
      "False\n",
      "True\n",
      "True\n",
      "True\n",
      "False\n"
     ]
    }
   ],
   "source": [
    "print(\"apple\".startswith('a'))\n",
    "print(\"apple\".startswith('A'))\n",
    "print(\"apple\".startswith('b'))\n",
    "print(\"apple\".endswith('e'))\n",
    "print(\"book.pdf\".endswith(\"pdf\"))\n",
    "print(\"book_one.pdf\".startswith('book'))\n",
    "print(\"book.pdf\".startswith('one'))"
   ]
  },
  {
   "cell_type": "code",
   "execution_count": 36,
   "metadata": {},
   "outputs": [
    {
     "name": "stdout",
     "output_type": "stream",
     "text": [
      "a.exe\n",
      "b.exe\n",
      "d.exe\n",
      "3\n"
     ]
    }
   ],
   "source": [
    "apps=[\"a.exe\",'b.exe','c.pdf','d.exe','e.doc','f.doc']\n",
    "c=0\n",
    "for app in apps:\n",
    "    if app.endswith('.exe'):\n",
    "        print(app)\n",
    "        c+=1\n",
    "print(c)"
   ]
  },
  {
   "cell_type": "code",
   "execution_count": 35,
   "metadata": {},
   "outputs": [
    {
     "name": "stdout",
     "output_type": "stream",
     "text": [
      "-1\n",
      "9\n",
      "6\n",
      "6\n",
      "-1\n",
      "-1\n",
      "-1\n",
      "-1\n"
     ]
    }
   ],
   "source": [
    "#utility - find,replace,count,strip,split,join\n",
    "print(qoute.find('before'))\n",
    "print(qoute.find('b'))\n",
    "print(qoute.find('n'))\n",
    "print(qoute.find('n',5))#start from 5th index\n",
    "print(qoute.find('i',1,10))#start from 5th index and ends at 10th index\n",
    "print(qoute.find('i',))\n",
    "print(qoute.find('fore de'))\n",
    "print(qoute.find('forede'))"
   ]
  },
  {
   "cell_type": "code",
   "execution_count": 34,
   "metadata": {},
   "outputs": [
    {
     "name": "stdout",
     "output_type": "stream",
     "text": [
      "journey after destination\n",
      "journay bafora dastination\n",
      "journay bafore destination\n",
      "journ^^^y b^^^for^^^ d^^^stination\n",
      "sleeping before destination\n",
      "sl__p_ng b_for_ d_st_n_t_on\n"
     ]
    }
   ],
   "source": [
    "qoute=\"Journey before Destination\".lower()\n",
    "print(qoute.replace('before','after'))\n",
    "print(qoute.replace('e','a'))\n",
    "print(qoute.replace('e','a',2)) #replace only 2 places\n",
    "print(qoute.replace('e','^^^'))\n",
    "qoute=qoute.replace('journey','sleeping')\n",
    "print(qoute)\n",
    "qoute=qoute.replace('a','_').replace('e','_').replace('i','_')\n",
    "print(qoute)"
   ]
  },
  {
   "cell_type": "code",
   "execution_count": 33,
   "metadata": {},
   "outputs": [
    {
     "name": "stdout",
     "output_type": "stream",
     "text": [
      "5\n",
      "5\n",
      "1\n",
      "0\n",
      "4\n"
     ]
    }
   ],
   "source": [
    "words='egg spam egg spam egg spam egg bacon spam  egg spam'\n",
    "print(words.count('egg'))\n",
    "print(words.count('spam'))\n",
    "print(words.count('bacon'))\n",
    "print(words.count('pie'))\n",
    "print(words.count('egg s'))"
   ]
  },
  {
   "cell_type": "code",
   "execution_count": 46,
   "metadata": {},
   "outputs": [
    {
     "name": "stdout",
     "output_type": "stream",
     "text": [
      " Lewis Hamilton \n",
      "Lewis Hamilton\n",
      "\n",
      "\n",
      "        129340\n",
      "\n",
      "\n",
      "\n",
      "129340\n"
     ]
    }
   ],
   "source": [
    "name=' Lewis Hamilton '\n",
    "print(name)\n",
    "print(name.strip())\n",
    "data =\"\"\"\n",
    "\n",
    "        129340\n",
    "\n",
    "\n",
    "\"\"\"\n",
    "print(data)\n",
    "print(data.strip())"
   ]
  },
  {
   "cell_type": "code",
   "execution_count": 51,
   "metadata": {},
   "outputs": [
    {
     "name": "stdout",
     "output_type": "stream",
     "text": [
      "['egg', 'spam', 'egg', 'spam', 'egg', 'spam', 'egg', 'bacon', 'spam', 'egg', 'spam']\n",
      "['a', 'b', 'c', 'd', 'e']\n",
      "['a', 'b', 'c', 'd', 'e']\n",
      "['Jonny Jonney, yes papa,', 'eating sugar,no papa,', 'Telling a lie, no papa,', 'Open Your mouth, ha ha ha!!!']\n"
     ]
    }
   ],
   "source": [
    "print(words.split())\n",
    "print(\"a,b,c,d,e\".split(','))\n",
    "print(\"a-b-c-d-e\".split('-'))\n",
    "poem=\"\"\"\n",
    "Jonny Jonney, yes papa,\n",
    "eating sugar,no papa,\n",
    "Telling a lie, no papa,\n",
    "Open Your mouth, ha ha ha!!!\n",
    "\"\"\"\n",
    "sentence=poem.strip().splitlines()\n",
    "print(sentence)"
   ]
  },
  {
   "cell_type": "code",
   "execution_count": 52,
   "metadata": {},
   "outputs": [
    {
     "name": "stdout",
     "output_type": "stream",
     "text": [
      "192.168.1.1\n"
     ]
    }
   ],
   "source": [
    "addr=[\"192\",'168','1','1']\n",
    "ip_addr=\".\".join(addr)\n",
    "print(ip_addr)"
   ]
  }
 ],
 "metadata": {
  "kernelspec": {
   "display_name": "base",
   "language": "python",
   "name": "python3"
  },
  "language_info": {
   "codemirror_mode": {
    "name": "ipython",
    "version": 3
   },
   "file_extension": ".py",
   "mimetype": "text/x-python",
   "name": "python",
   "nbconvert_exporter": "python",
   "pygments_lexer": "ipython3",
   "version": "3.12.4"
  }
 },
 "nbformat": 4,
 "nbformat_minor": 2
}
