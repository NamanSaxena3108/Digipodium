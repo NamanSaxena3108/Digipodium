{
 "cells": [
  {
   "cell_type": "markdown",
   "metadata": {},
   "source": [
    "pip install sqlalchemy"
   ]
  },
  {
   "cell_type": "markdown",
   "metadata": {},
   "source": [
    "### Step1 - setup up the database and its table"
   ]
  },
  {
   "cell_type": "code",
   "execution_count": null,
   "metadata": {},
   "outputs": [],
   "source": [
    "from sqlalchemy import create_engine"
   ]
  },
  {
   "cell_type": "code",
   "execution_count": 2,
   "metadata": {},
   "outputs": [],
   "source": [
    "from sqlalchemy.orm import sessionmaker,declarative_base"
   ]
  },
  {
   "cell_type": "code",
   "execution_count": 3,
   "metadata": {},
   "outputs": [],
   "source": [
    "from sqlalchemy import Column,Integer,String,Boolean"
   ]
  },
  {
   "cell_type": "code",
   "execution_count": 4,
   "metadata": {},
   "outputs": [],
   "source": [
    "Base=declarative_base() #create a base class for table models"
   ]
  },
  {
   "cell_type": "code",
   "execution_count": 5,
   "metadata": {},
   "outputs": [],
   "source": [
    "class Report(Base):\n",
    "    __tablename__='reports'\n",
    "    id = Column(Integer, primary_key=True)\n",
    "    name=Column(String(25))\n",
    "    eng=Column(Integer)\n",
    "    math=Column(Integer)\n",
    "    sci=Column(Integer)\n",
    "    hin=Column(Integer)\n",
    "    is_passed=Column(Boolean)"
   ]
  },
  {
   "cell_type": "code",
   "execution_count": 8,
   "metadata": {},
   "outputs": [],
   "source": [
    "#Create a database engine\n",
    "#syntax\n",
    "#create_engine('driver:///databaseconnection)\n",
    "engine=create_engine('sqlite:///school.db')\n",
    "Base.metadata.create_all(engine)\n"
   ]
  },
  {
   "cell_type": "markdown",
   "metadata": {},
   "source": [
    "### Step2 - Creating a connection to the database"
   ]
  },
  {
   "cell_type": "code",
   "execution_count": 10,
   "metadata": {},
   "outputs": [],
   "source": [
    "def opendb():\n",
    "    engine=create_engine('sqlite:///school.db')\n",
    "    Session=sessionmaker(bind=engine)\n",
    "    session=Session()\n",
    "    return session"
   ]
  },
  {
   "cell_type": "markdown",
   "metadata": {},
   "source": [
    "### Step3 - Storing data"
   ]
  },
  {
   "cell_type": "code",
   "execution_count": 15,
   "metadata": {},
   "outputs": [
    {
     "name": "stdout",
     "output_type": "stream",
     "text": [
      "Successfuly Stored\n"
     ]
    }
   ],
   "source": [
    "name=input(\"Enter name: \")\n",
    "eng=int(input(\"Enter English marks: \"))\n",
    "math=int(input(\"Enter maths marks: \"))\n",
    "sci=int(input(\"Enter Science marks: \"))\n",
    "hin=int(input(\"Enter Hindi marks: \"))\n",
    "total=eng+math+sci+hin\n",
    "perc=total/400*100\n",
    "is_passed=perc>=40\n",
    "\n",
    "db=opendb()\n",
    "report=Report(name=name,eng=eng,math=math,sci=sci,hin=hin,is_passed=is_passed)\n",
    "db.add(report)\n",
    "db.commit()\n",
    "db.close()\n",
    "print(\"Successfuly Stored\")"
   ]
  },
  {
   "cell_type": "markdown",
   "metadata": {},
   "source": [
    "### Step4 - Retreving Data"
   ]
  },
  {
   "cell_type": "code",
   "execution_count": 30,
   "metadata": {},
   "outputs": [
    {
     "name": "stdout",
     "output_type": "stream",
     "text": [
      "1 Naman\n",
      "English = 50\n",
      "Maths = 87\n",
      "Science = 72\n",
      "Hindi = 84 \n",
      "Passed \n",
      "\n",
      "3 Ayush Shrivastav\n",
      "English = 60\n",
      "Maths = 50\n",
      "Science = 55\n",
      "Hindi = 42 \n",
      "Passed \n",
      "\n",
      "4 Hasan\n",
      "English = 70\n",
      "Maths = 80\n",
      "Science = 90\n",
      "Hindi = 70 \n",
      "Passed \n",
      "\n"
     ]
    }
   ],
   "source": [
    "db=opendb()\n",
    "reports=db.query(Report).all()\n",
    "db.close()\n",
    "\n",
    "for item in reports:\n",
    "    print(item.id,item.name)\n",
    "    print(f\"English = {item.eng}\")\n",
    "    print(f\"Maths = {item.math}\")\n",
    "    print(f\"Science = {item.sci}\")\n",
    "    print(f\"Hindi = {item.hin} \")\n",
    "    print(\"Passed \\n\" if item.is_passed else \"Failed\")"
   ]
  },
  {
   "cell_type": "markdown",
   "metadata": {},
   "source": [
    "### Step5 - Removing data\n"
   ]
  },
  {
   "cell_type": "code",
   "execution_count": 29,
   "metadata": {},
   "outputs": [
    {
     "name": "stdout",
     "output_type": "stream",
     "text": [
      "Report is Deleted\n"
     ]
    }
   ],
   "source": [
    "id=2\n",
    "db=opendb()\n",
    "report=db.query(Report).filter(Report.id==id).delete()\n",
    "db.commit()\n",
    "db.close()\n",
    "print(\"Report is Deleted\")"
   ]
  },
  {
   "cell_type": "markdown",
   "metadata": {},
   "source": [
    "### Step6- Searching Data"
   ]
  },
  {
   "cell_type": "code",
   "execution_count": 36,
   "metadata": {},
   "outputs": [
    {
     "name": "stdout",
     "output_type": "stream",
     "text": [
      "3 ,Ayush Shrivastav,True\n",
      "4 ,Hasan,True\n"
     ]
    }
   ],
   "source": [
    "eng_marks=60\n",
    "db=opendb()\n",
    "reports=db.query(Report).filter(Report.eng >= eng_marks).all()\n",
    "db.close()\n",
    "for item in reports:\n",
    "    print(f\"{item.id} ,{item.name},{item.is_passed}\")"
   ]
  },
  {
   "cell_type": "code",
   "execution_count": 37,
   "metadata": {},
   "outputs": [
    {
     "name": "stdout",
     "output_type": "stream",
     "text": [
      "1 ,Naman,True\n"
     ]
    }
   ],
   "source": [
    "hin_marks=75\n",
    "db=opendb()\n",
    "reports=db.query(Report).filter(Report.hin >= hin_marks).all()\n",
    "db.close()\n",
    "for item in reports:\n",
    "    print(f\"{item.id} ,{item.name},{item.is_passed}\")"
   ]
  },
  {
   "cell_type": "code",
   "execution_count": 38,
   "metadata": {},
   "outputs": [
    {
     "name": "stdout",
     "output_type": "stream",
     "text": [
      "Ayush Shrivastav True\n"
     ]
    }
   ],
   "source": [
    "id=3\n",
    "db=opendb()\n",
    "report=db.query(Report).filter(Report.id == id).first()\n",
    "db.close()\n",
    "if report:\n",
    "    print(report.name,report.is_passed)\n",
    "else:\n",
    "    print(\"ID not found\")"
   ]
  },
  {
   "cell_type": "code",
   "execution_count": 44,
   "metadata": {},
   "outputs": [
    {
     "name": "stdout",
     "output_type": "stream",
     "text": [
      "1 Naman\n",
      "3 Ayush Shrivastav\n",
      "4 Hasan\n"
     ]
    }
   ],
   "source": [
    "name=\"a\"\n",
    "db=opendb()\n",
    "report=db.query(Report).filter(Report.name.like(f\"%{name}%\")).all()\n",
    "db.close()\n",
    "for item in report:\n",
    "    print(item.id,item.name)"
   ]
  },
  {
   "cell_type": "markdown",
   "metadata": {},
   "source": [
    "### Step7 - Upating Data"
   ]
  },
  {
   "cell_type": "code",
   "execution_count": 46,
   "metadata": {},
   "outputs": [
    {
     "name": "stdout",
     "output_type": "stream",
     "text": [
      "Report Updated\n"
     ]
    }
   ],
   "source": [
    "id=4\n",
    "db=opendb()\n",
    "report=db.query(Report).filter(Report.id==id).first()\n",
    "if report:\n",
    "    report.eng=60\n",
    "    report.math=60\n",
    "    report.is_passed=True\n",
    "    db.commit()\n",
    "    print(\"Report Updated\")\n",
    "db.close()\n"
   ]
  }
 ],
 "metadata": {
  "kernelspec": {
   "display_name": "base",
   "language": "python",
   "name": "python3"
  },
  "language_info": {
   "codemirror_mode": {
    "name": "ipython",
    "version": 3
   },
   "file_extension": ".py",
   "mimetype": "text/x-python",
   "name": "python",
   "nbconvert_exporter": "python",
   "pygments_lexer": "ipython3",
   "version": "3.12.3"
  }
 },
 "nbformat": 4,
 "nbformat_minor": 2
}
