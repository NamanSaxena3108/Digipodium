{
  "nbformat": 4,
  "nbformat_minor": 0,
  "metadata": {
    "colab": {
      "provenance": []
    },
    "kernelspec": {
      "name": "python3",
      "display_name": "Python 3"
    },
    "language_info": {
      "name": "python"
    }
  },
  "cells": [
    {
      "cell_type": "markdown",
      "source": [
        "# Data Structure - Set\n",
        "- unorderd\n",
        "- unindexed\n",
        "- mutable\n",
        "- mixed immutable elements\n",
        "- unique elements\n",
        "- iterable\n",
        "- represented by curly braces {}\n",
        "- set() for creating set\n",
        "- empty set is created by set()"
      ],
      "metadata": {
        "id": "exWC4jVk8cHf"
      }
    },
    {
      "cell_type": "code",
      "source": [
        "x=set()\n",
        "print(x,type(x))\n",
        "y={1,2,3}\n",
        "z={'a','b','c','d'}\n",
        "print(y)\n",
        "print(z)\n",
        "a=set([1,2,3,4,5])\n",
        "print(a)\n",
        "b={'a',1,'b',2,'c',3}\n",
        "print(b)\n",
        "c={1,2,3,1,2,3,1,2,3}\n",
        "print(c)"
      ],
      "metadata": {
        "colab": {
          "base_uri": "https://localhost:8080/"
        },
        "id": "NxG8F5J586M2",
        "outputId": "e31a9ceb-0dc4-4453-e70d-e5287d69efc1"
      },
      "execution_count": 3,
      "outputs": [
        {
          "output_type": "stream",
          "name": "stdout",
          "text": [
            "set() <class 'set'>\n",
            "{1, 2, 3}\n",
            "{'a', 'd', 'b', 'c'}\n",
            "{1, 2, 3, 4, 5}\n",
            "{'a', 1, 2, 3, 'c', 'b'}\n",
            "{1, 2, 3}\n"
          ]
        }
      ]
    },
    {
      "cell_type": "code",
      "source": [
        "# traversing of set\n",
        "for i in b:\n",
        "  print(i)"
      ],
      "metadata": {
        "colab": {
          "base_uri": "https://localhost:8080/"
        },
        "id": "9sI-SYvJ9fRl",
        "outputId": "47826d21-da59-46df-d378-0394f5b57ea6"
      },
      "execution_count": 4,
      "outputs": [
        {
          "output_type": "stream",
          "name": "stdout",
          "text": [
            "a\n",
            "1\n",
            "2\n",
            "3\n",
            "c\n",
            "b\n"
          ]
        }
      ]
    },
    {
      "cell_type": "code",
      "source": [
        "books=set()\n",
        "books.add(\"Legion\")\n",
        "books.add(\"Snapshot\")\n",
        "books.add(\"SteelHeart\")\n",
        "books.add(\"FireFighter\")\n",
        "print(books)"
      ],
      "metadata": {
        "colab": {
          "base_uri": "https://localhost:8080/"
        },
        "id": "QrLoXNlk9nC4",
        "outputId": "b204e41e-5c3b-4fe3-a146-769316c0606e"
      },
      "execution_count": 5,
      "outputs": [
        {
          "output_type": "stream",
          "name": "stdout",
          "text": [
            "{'Snapshot', 'FireFighter', 'SteelHeart', 'Legion'}\n"
          ]
        }
      ]
    },
    {
      "cell_type": "code",
      "source": [
        "books.update(['Calamity','Mistborn','Elnastries'])\n",
        "print(books)"
      ],
      "metadata": {
        "colab": {
          "base_uri": "https://localhost:8080/"
        },
        "id": "uP3AggP792Ls",
        "outputId": "0f3eae0a-17b1-4e89-c3cd-139d259b64ae"
      },
      "execution_count": 6,
      "outputs": [
        {
          "output_type": "stream",
          "name": "stdout",
          "text": [
            "{'SteelHeart', 'Legion', 'Elnastries', 'FireFighter', 'Calamity', 'Mistborn', 'Snapshot'}\n"
          ]
        }
      ]
    },
    {
      "cell_type": "code",
      "source": [
        "books.discard(\"Mistborn\")  #Discard is better than remove"
      ],
      "metadata": {
        "id": "RgvhA-HW9-pI"
      },
      "execution_count": 7,
      "outputs": []
    },
    {
      "cell_type": "code",
      "source": [
        "books.pop()  #Remove a random element"
      ],
      "metadata": {
        "colab": {
          "base_uri": "https://localhost:8080/",
          "height": 35
        },
        "id": "4Hf2LeV3-GT6",
        "outputId": "f3e0130e-ee1d-419d-b65c-b5e15859e2f7"
      },
      "execution_count": 8,
      "outputs": [
        {
          "output_type": "execute_result",
          "data": {
            "text/plain": [
              "'SteelHeart'"
            ],
            "application/vnd.google.colaboratory.intrinsic+json": {
              "type": "string"
            }
          },
          "metadata": {},
          "execution_count": 8
        }
      ]
    },
    {
      "cell_type": "markdown",
      "source": [
        "### Set Operation"
      ],
      "metadata": {
        "id": "eYs-O1BQ-NME"
      }
    },
    {
      "cell_type": "code",
      "source": [
        "a={1,2,3,4,5}\n",
        "b={4,5,6,7,8}\n",
        "c={1,2,3}\n",
        "d={5,6,7}"
      ],
      "metadata": {
        "id": "RprlNHqC-KK_"
      },
      "execution_count": 9,
      "outputs": []
    },
    {
      "cell_type": "markdown",
      "source": [
        "- 'union()'=> |\n",
        "- 'intersection()'=> &\n",
        "- 'difference()'=> -\n",
        "- 'symmetric_difference()'=> ^"
      ],
      "metadata": {
        "id": "WZrr2ujO-Xw9"
      }
    },
    {
      "cell_type": "code",
      "source": [
        "print(\"Union\")\n",
        "print(a.union(b))\n",
        "print(a | b)\n",
        "\n",
        "print(\"Intersection\")\n",
        "print(a.intersection(b))\n",
        "print(a & b)\n",
        "\n",
        "print(\"Difference\")\n",
        "print(a.difference(b))\n",
        "print(a - b)\n",
        "\n",
        "print(\"Symmetric Difference\")\n",
        "print(a.symmetric_difference(b))\n",
        "print(a ^ b)"
      ],
      "metadata": {
        "colab": {
          "base_uri": "https://localhost:8080/"
        },
        "id": "lp3HrA6x-W5_",
        "outputId": "86411de5-8bbb-4b5d-fb57-2719437a2663"
      },
      "execution_count": 11,
      "outputs": [
        {
          "output_type": "stream",
          "name": "stdout",
          "text": [
            "Union\n",
            "{1, 2, 3, 4, 5, 6, 7, 8}\n",
            "{1, 2, 3, 4, 5, 6, 7, 8}\n",
            "Intersection\n",
            "{4, 5}\n",
            "{4, 5}\n",
            "Difference\n",
            "{1, 2, 3}\n",
            "{1, 2, 3}\n",
            "Symmetric Difference\n",
            "{1, 2, 3, 6, 7, 8}\n",
            "{1, 2, 3, 6, 7, 8}\n"
          ]
        }
      ]
    },
    {
      "cell_type": "code",
      "source": [
        "print(\"Joined:\",a.isdisjoint(c))\n",
        "print(\"disJoined:\",a.isdisjoint({11,12}))"
      ],
      "metadata": {
        "colab": {
          "base_uri": "https://localhost:8080/"
        },
        "id": "DB2ny-ZK_iGG",
        "outputId": "bf97785d-9f43-4329-fde6-d42a542ba0c4"
      },
      "execution_count": 13,
      "outputs": [
        {
          "output_type": "stream",
          "name": "stdout",
          "text": [
            "Joined: False\n",
            "disJoined: True\n"
          ]
        }
      ]
    },
    {
      "cell_type": "code",
      "source": [
        "print(\"subset:\",c.issubset(a))\n",
        "print(\"superset:\",d.issuperset(c))\n",
        "print(\"superset:\",b.issuperset(d))"
      ],
      "metadata": {
        "colab": {
          "base_uri": "https://localhost:8080/"
        },
        "id": "yGksEsdY_y7l",
        "outputId": "3484b86e-5ee4-4053-e798-e54ae0f96e8f"
      },
      "execution_count": 14,
      "outputs": [
        {
          "output_type": "stream",
          "name": "stdout",
          "text": [
            "subset: True\n",
            "superset: False\n",
            "superset: True\n"
          ]
        }
      ]
    },
    {
      "cell_type": "code",
      "source": [
        "#wap that allows user to enter data and then remove the duplicates and print the unique set\n",
        "n=int(input(\"Enter the number of data to be entered\"))\n",
        "s=set()\n",
        "for i in range(n):\n",
        "  a=int(input(\"Enter a number\"))\n",
        "  s.add(a)\n",
        "print(s)"
      ],
      "metadata": {
        "colab": {
          "base_uri": "https://localhost:8080/"
        },
        "id": "rpw0Zmp7AE6V",
        "outputId": "c86e8062-d6fb-4146-ca4f-749a93fc6d7f"
      },
      "execution_count": 16,
      "outputs": [
        {
          "output_type": "stream",
          "name": "stdout",
          "text": [
            "Enter the number of data to be entered5\n",
            "Enter a number10\n",
            "Enter a number20\n",
            "Enter a number30\n",
            "Enter a number10\n",
            "Enter a number20\n",
            "{10, 20, 30}\n"
          ]
        }
      ]
    },
    {
      "cell_type": "code",
      "source": [
        "# Wap that allows user to enter data as much as they want (infinity) and then remove the duplicate and print the unique set\n",
        "s=set()\n",
        "while True:\n",
        "  num=input(\"enter a number\")\n",
        "  if num:\n",
        "    s.add(int(num))\n",
        "  else:\n",
        "    break\n",
        "print(s)"
      ],
      "metadata": {
        "colab": {
          "base_uri": "https://localhost:8080/"
        },
        "id": "KeuxmHMMAbyP",
        "outputId": "94155163-efae-4435-a436-f97056ac783e"
      },
      "execution_count": 17,
      "outputs": [
        {
          "output_type": "stream",
          "name": "stdout",
          "text": [
            "enter a number10\n",
            "enter a number20\n",
            "enter a number30\n",
            "enter a number10\n",
            "enter a number20\n",
            "enter a number30\n",
            "enter a number\n",
            "{10, 20, 30}\n"
          ]
        }
      ]
    }
  ]
}