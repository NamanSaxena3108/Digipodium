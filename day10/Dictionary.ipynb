{
  "nbformat": 4,
  "nbformat_minor": 0,
  "metadata": {
    "colab": {
      "provenance": []
    },
    "kernelspec": {
      "name": "python3",
      "display_name": "Python 3"
    },
    "language_info": {
      "name": "python"
    }
  },
  "cells": [
    {
      "cell_type": "markdown",
      "source": [
        "# Data Structure - Dictionary\n",
        "- ordered\n",
        "- mutable\n",
        "- key-value pairs(unindexed)\n",
        "- keys are unique\n",
        "- values can be any data type\n",
        "- keys should be immutable('int','float','string','tuple')\n",
        "- keys are sensitive\n",
        "- represented with {}\n",
        "- dict() is used to make dicitonary\n"
      ],
      "metadata": {
        "id": "pz8LUw_3Bc20"
      }
    },
    {
      "cell_type": "code",
      "execution_count": 2,
      "metadata": {
        "colab": {
          "base_uri": "https://localhost:8080/"
        },
        "id": "YWaLVcryBUT_",
        "outputId": "4bdb5f6d-2b29-41ec-b62c-dc33d42735b3"
      },
      "outputs": [
        {
          "output_type": "stream",
          "name": "stdout",
          "text": [
            "{} {'apples': 50, 'oranges': 25} {'almond': 200, 'cashew': 100}\n"
          ]
        }
      ],
      "source": [
        "a={} #empty dicitonary\n",
        "b={'apples':50,\"oranges\":25}\n",
        "c=dict(almond=200,cashew=100)\n",
        "print(a,b,c)"
      ]
    },
    {
      "cell_type": "code",
      "source": [
        "d={'k1':\n",
        "   {\n",
        "       'k11':5,\n",
        "       'k12':10\n",
        "   },\n",
        "   'k2':\n",
        "   {\n",
        "       'k21':15,\n",
        "       'k22':20\n",
        "   }\n",
        "   }\n",
        "print(d)"
      ],
      "metadata": {
        "colab": {
          "base_uri": "https://localhost:8080/"
        },
        "id": "YTytXkLaCEQ_",
        "outputId": "485ef5c3-2c7b-4a1c-b89f-e5c828e8b02b"
      },
      "execution_count": 3,
      "outputs": [
        {
          "output_type": "stream",
          "name": "stdout",
          "text": [
            "{'k1': {'k11': 5, 'k12': 10}, 'k2': {'k21': 15, 'k22': 20}}\n"
          ]
        }
      ]
    },
    {
      "cell_type": "code",
      "source": [
        "print(b['apples'])\n",
        "#print(b['apple]) #this will throw an error\n",
        "print(b.get('apple'))\n",
        "print(b.get('apple','not found'))  #default values\n",
        "print(b.get('apples'))\n",
        "print(b.get('apples','not found'))"
      ],
      "metadata": {
        "colab": {
          "base_uri": "https://localhost:8080/"
        },
        "id": "RI6H6hCkDJqP",
        "outputId": "1ff202b8-a266-495e-9d93-d162996d12ad"
      },
      "execution_count": 5,
      "outputs": [
        {
          "output_type": "stream",
          "name": "stdout",
          "text": [
            "50\n",
            "None\n",
            "not found\n",
            "50\n",
            "50\n"
          ]
        }
      ]
    },
    {
      "cell_type": "code",
      "source": [
        "#Add/Update\n",
        "b['mango']=10 #add\n",
        "b['dates']=5 #add\n",
        "b['peaches']=10 #add\n",
        "b['apples']=50 #update(existing key is used)\n",
        "print(b)"
      ],
      "metadata": {
        "colab": {
          "base_uri": "https://localhost:8080/"
        },
        "id": "gG9hP2D3D8DU",
        "outputId": "2cc9701f-c744-4920-a95b-6bd9148cf917"
      },
      "execution_count": 6,
      "outputs": [
        {
          "output_type": "stream",
          "name": "stdout",
          "text": [
            "{'apples': 50, 'oranges': 25, 'mango': 10, 'dates': 5, 'peaches': 10}\n"
          ]
        }
      ]
    },
    {
      "cell_type": "code",
      "source": [
        "#Remove\n",
        "b.pop('mango')\n",
        "print(b)"
      ],
      "metadata": {
        "colab": {
          "base_uri": "https://localhost:8080/"
        },
        "id": "Ct6j-LXzESLK",
        "outputId": "1822ad29-93f1-4e06-bf45-9d3af9adba94"
      },
      "execution_count": 7,
      "outputs": [
        {
          "output_type": "stream",
          "name": "stdout",
          "text": [
            "{'apples': 50, 'oranges': 25, 'dates': 5, 'peaches': 10}\n"
          ]
        }
      ]
    },
    {
      "cell_type": "code",
      "source": [
        "#Traversal\n",
        "print(\"Style 1\")\n",
        "for key in b:\n",
        "  print(key,b[key])\n",
        "\n",
        "print(\"Style 2\")\n",
        "for k,v in b.items():\n",
        "  print(k,v)\n",
        "\n",
        "print(\"Style 3\")\n",
        "for v in b.values():\n",
        "  print(v)\n",
        "\n",
        "print(b.values())\n",
        "print(b.keys())"
      ],
      "metadata": {
        "colab": {
          "base_uri": "https://localhost:8080/"
        },
        "id": "v9TGp-ZpEXW9",
        "outputId": "8202a18d-6041-4a45-952e-33520f86c58b"
      },
      "execution_count": 8,
      "outputs": [
        {
          "output_type": "stream",
          "name": "stdout",
          "text": [
            "Style 1\n",
            "apples 50\n",
            "oranges 25\n",
            "dates 5\n",
            "peaches 10\n",
            "Style 2\n",
            "apples 50\n",
            "oranges 25\n",
            "dates 5\n",
            "peaches 10\n",
            "Style 3\n",
            "50\n",
            "25\n",
            "5\n",
            "10\n",
            "dict_values([50, 25, 5, 10])\n",
            "dict_keys(['apples', 'oranges', 'dates', 'peaches'])\n"
          ]
        }
      ]
    },
    {
      "cell_type": "code",
      "source": [],
      "metadata": {
        "id": "XPRHAxpNE0jl"
      },
      "execution_count": null,
      "outputs": []
    }
  ]
}