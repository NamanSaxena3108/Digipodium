{
 "cells": [
  {
   "cell_type": "markdown",
   "metadata": {},
   "source": [
    "# if elif ladder\n"
   ]
  },
  {
   "cell_type": "code",
   "execution_count": 1,
   "metadata": {},
   "outputs": [
    {
     "name": "stdout",
     "output_type": "stream",
     "text": [
      "B is greatest\n"
     ]
    }
   ],
   "source": [
    "a=15\n",
    "b=22\n",
    "c=10\n",
    "if a>b and a>c:\n",
    "    print(\"A is greatest\")\n",
    "elif b>a and b>c:\n",
    "    print(\"B is greatest\")\n",
    "else:\n",
    "    print(\"C is greatest\")"
   ]
  },
  {
   "cell_type": "code",
   "execution_count": 2,
   "metadata": {},
   "outputs": [
    {
     "name": "stdout",
     "output_type": "stream",
     "text": [
      "Students Marks = 75\n",
      "Students Grades = B \n"
     ]
    }
   ],
   "source": [
    "marks=int(input(\"Enter the Marks:\"))\n",
    "if marks>=90:\n",
    "    grade=\"A\"\n",
    "elif marks<90 and marks>=75:\n",
    "    grade=\"B\"\n",
    "elif marks<75 and marks>=60:\n",
    "    grade=\"C\"\n",
    "elif marks<60 and marks>=50:\n",
    "    grade=\"D\"\n",
    "else:\n",
    "    grade=\"F\"\n",
    "print(f\"Students Marks = {marks}\")\n",
    "print(f\"Students Grades = {grade} \")"
   ]
  },
  {
   "cell_type": "markdown",
   "metadata": {},
   "source": [
    "# Match case"
   ]
  },
  {
   "cell_type": "code",
   "execution_count": 5,
   "metadata": {},
   "outputs": [
    {
     "name": "stdout",
     "output_type": "stream",
     "text": [
      "Correct 🎉\n"
     ]
    }
   ],
   "source": [
    "ans=input(\"What is capital of India?\").title()\n",
    "match ans:\n",
    "    case 'Lucknow':\n",
    "        print(\"You are too stupid\")\n",
    "    case 'Delhi':\n",
    "        print(\"Correct 🎉\")\n",
    "    case 'Culcutta':\n",
    "        print(\"You must be under the stone\")\n",
    "    case 'Shimla':\n",
    "        print(\"This is free india\")\n",
    "    case _:\n",
    "        print(\"You are not from India\")\n",
    "\n",
    "    #if not using .title() case we can do like this case 'Delhi'|'delhi'| ....and so on."
   ]
  },
  {
   "cell_type": "code",
   "execution_count": 8,
   "metadata": {},
   "outputs": [
    {
     "name": "stdout",
     "output_type": "stream",
     "text": [
      "Chai ki Dukkan\n",
      "1. Chai 10 Rs.\n",
      "2. Bun Makkan 30 Rs.\n",
      "3. Cutting 5 Rs.\n",
      "4. Samosa 10 Rs.\n",
      "You have selected Cutting\n"
     ]
    }
   ],
   "source": [
    "print(\"Chai ki Dukkan\")\n",
    "print(\"1. Chai 10 Rs.\")\n",
    "print(\"2. Bun Makkan 30 Rs.\")\n",
    "print(\"3. Cutting 5 Rs.\")\n",
    "print(\"4. Samosa 10 Rs.\")\n",
    "choice=int(input(\"Enter your choice:\"))\n",
    "match choice:\n",
    "    case 1:\n",
    "        print(\"You have selected Chai\")\n",
    "    case 2:\n",
    "        print(\"You have selected Bun Makkan\")\n",
    "    case 3:\n",
    "        print(\"You have selected Cutting\")\n",
    "    case 4:\n",
    "        print(\"You have selected Samosa\")\n",
    "    case _:\n",
    "        print(\"Nikal yaha se dimmag kharab kar raha hai.\")"
   ]
  },
  {
   "cell_type": "markdown",
   "metadata": {},
   "source": [
    "### Nested if"
   ]
  },
  {
   "cell_type": "markdown",
   "metadata": {},
   "source": [
    "done in file name registration.py\n"
   ]
  },
  {
   "cell_type": "markdown",
   "metadata": {},
   "source": []
  }
 ],
 "metadata": {
  "kernelspec": {
   "display_name": "base",
   "language": "python",
   "name": "python3"
  },
  "language_info": {
   "codemirror_mode": {
    "name": "ipython",
    "version": 3
   },
   "file_extension": ".py",
   "mimetype": "text/x-python",
   "name": "python",
   "nbconvert_exporter": "python",
   "pygments_lexer": "ipython3",
   "version": "3.12.4"
  }
 },
 "nbformat": 4,
 "nbformat_minor": 2
}
