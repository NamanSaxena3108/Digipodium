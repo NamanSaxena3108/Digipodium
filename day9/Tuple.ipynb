{
  "nbformat": 4,
  "nbformat_minor": 0,
  "metadata": {
    "colab": {
      "provenance": []
    },
    "kernelspec": {
      "name": "python3",
      "display_name": "Python 3"
    },
    "language_info": {
      "name": "python"
    }
  },
  "cells": [
    {
      "cell_type": "markdown",
      "source": [
        "# Data Structure-Tuple\n",
        "- indexed\n",
        "- ordered\n",
        "- immutable\n",
        "- hetrogenous\n",
        "- duplicate allowed\n",
        "- represented by ()\n",
        "- tuple() for creating tuple"
      ],
      "metadata": {
        "id": "osMkHy-enjOb"
      }
    },
    {
      "cell_type": "code",
      "execution_count": 1,
      "metadata": {
        "colab": {
          "base_uri": "https://localhost:8080/"
        },
        "id": "zRtkY_mUnRvd",
        "outputId": "f9e883d9-1a34-4fd5-bb3f-4db1494f4dc2"
      },
      "outputs": [
        {
          "output_type": "stream",
          "name": "stdout",
          "text": [
            "<class 'tuple'>\n",
            "<class 'tuple'>\n",
            "<class 'tuple'>\n",
            "<class 'tuple'>\n"
          ]
        }
      ],
      "source": [
        "a=(1,2,3,4)\n",
        "b=(1,)\n",
        "c=('a','b','c','d')\n",
        "d=1,2,3,4,5,6    #packing\n",
        "print(type(a))\n",
        "print(type(b))\n",
        "print(type(c))\n",
        "print(type(d))"
      ]
    },
    {
      "cell_type": "code",
      "source": [
        "#traversing a tuple\n",
        "for i in a:\n",
        "  print(i)"
      ],
      "metadata": {
        "colab": {
          "base_uri": "https://localhost:8080/"
        },
        "id": "E_oBncQ9oJ0Y",
        "outputId": "06c09b5d-f1c0-46ac-a5a7-52c59aef9cae"
      },
      "execution_count": 2,
      "outputs": [
        {
          "output_type": "stream",
          "name": "stdout",
          "text": [
            "1\n",
            "2\n",
            "3\n",
            "4\n"
          ]
        }
      ]
    },
    {
      "cell_type": "code",
      "source": [
        "#indexing\n",
        "print(a[0])\n",
        "print(a[-1])\n",
        "print(a[2])"
      ],
      "metadata": {
        "colab": {
          "base_uri": "https://localhost:8080/"
        },
        "id": "0ygPNhqnoSkn",
        "outputId": "e7dec47b-a1da-4794-ccc7-169ff3aa16ad"
      },
      "execution_count": 5,
      "outputs": [
        {
          "output_type": "stream",
          "name": "stdout",
          "text": [
            "1\n",
            "4\n",
            "3\n"
          ]
        }
      ]
    },
    {
      "cell_type": "code",
      "source": [
        "#slicing\n",
        "print(a[1:3])\n",
        "print(a[::-1])"
      ],
      "metadata": {
        "colab": {
          "base_uri": "https://localhost:8080/"
        },
        "id": "2aetR0LRoahu",
        "outputId": "6b3d3b15-7088-41ff-9025-80915ce0dec1"
      },
      "execution_count": 6,
      "outputs": [
        {
          "output_type": "stream",
          "name": "stdout",
          "text": [
            "(2, 3)\n",
            "(4, 3, 2, 1)\n"
          ]
        }
      ]
    },
    {
      "cell_type": "markdown",
      "source": [
        "### Methods in Tuple\n",
        "- index()\n",
        "- count()"
      ],
      "metadata": {
        "id": "YDQ5eihNonOb"
      }
    },
    {
      "cell_type": "code",
      "source": [
        "a=1,1,1,1,1,1,1,1,2,2,2,13,11,34\n",
        "print(a.count(1))\n",
        "print(a.count(2))\n",
        "print(a.index(2))\n",
        "print(a.index(13))\n",
        "print(a.index(1))"
      ],
      "metadata": {
        "colab": {
          "base_uri": "https://localhost:8080/"
        },
        "id": "LxddfCrPojfO",
        "outputId": "a992c7ee-89cd-454b-ac5c-7edc8762f274"
      },
      "execution_count": 7,
      "outputs": [
        {
          "output_type": "stream",
          "name": "stdout",
          "text": [
            "8\n",
            "3\n",
            "8\n",
            "11\n",
            "0\n"
          ]
        }
      ]
    },
    {
      "cell_type": "markdown",
      "source": [
        "Tuple Unpacking"
      ],
      "metadata": {
        "id": "xPZXTFdDpULP"
      }
    },
    {
      "cell_type": "code",
      "source": [
        "x=(1,2,3,4)\n",
        "a,b,c,d=x\n",
        "print(a,b,c,d)\n",
        "i,*j=x\n",
        "print(i,j)\n",
        "*i,j=x\n",
        "print(i,j)\n",
        "x=(1,2)\n",
        "i,j,*k=x\n",
        "print(i,j,k)"
      ],
      "metadata": {
        "colab": {
          "base_uri": "https://localhost:8080/"
        },
        "id": "CfLxfp7_pSjN",
        "outputId": "4d8ca02a-e2ef-4a4d-ca62-ce297fb52a2d"
      },
      "execution_count": 8,
      "outputs": [
        {
          "output_type": "stream",
          "name": "stdout",
          "text": [
            "1 2 3 4\n",
            "1 [2, 3, 4]\n",
            "[1, 2, 3] 4\n",
            "1 2 []\n"
          ]
        }
      ]
    },
    {
      "cell_type": "code",
      "source": [
        "x=(1,2,3,4)\n",
        "x2=(i*2 for i in x)\n",
        "print(tuple(x2))"
      ],
      "metadata": {
        "colab": {
          "base_uri": "https://localhost:8080/"
        },
        "id": "zVsSYv2vpwh3",
        "outputId": "854d13b0-70e6-419d-e345-4e6741087175"
      },
      "execution_count": 9,
      "outputs": [
        {
          "output_type": "stream",
          "name": "stdout",
          "text": [
            "(2, 4, 6, 8)\n"
          ]
        }
      ]
    },
    {
      "cell_type": "code",
      "source": [],
      "metadata": {
        "id": "6r0HXsUNp4Ee"
      },
      "execution_count": null,
      "outputs": []
    }
  ]
}