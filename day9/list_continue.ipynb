{
  "nbformat": 4,
  "nbformat_minor": 0,
  "metadata": {
    "colab": {
      "provenance": []
    },
    "kernelspec": {
      "name": "python3",
      "display_name": "Python 3"
    },
    "language_info": {
      "name": "python"
    }
  },
  "cells": [
    {
      "cell_type": "code",
      "source": [
        "x=[1,2,3,4]\n",
        "x2=[]\n",
        "for i in x:\n",
        "  s=i**2\n",
        "  x2.append(s)\n",
        "print(x2)"
      ],
      "metadata": {
        "colab": {
          "base_uri": "https://localhost:8080/"
        },
        "id": "2rQcuUWjlDxQ",
        "outputId": "6a6ab4aa-804f-4273-c56b-e9b7aaf2b7ad"
      },
      "execution_count": 1,
      "outputs": [
        {
          "output_type": "stream",
          "name": "stdout",
          "text": [
            "[1, 4, 9, 16]\n"
          ]
        }
      ]
    },
    {
      "cell_type": "markdown",
      "source": [
        "# List Comprehension\n",
        "- Syntax\n",
        "- newlist=[operation loop]\n"
      ],
      "metadata": {
        "id": "lnp_j2nClVeA"
      }
    },
    {
      "cell_type": "code",
      "source": [
        "x2=[i+10 for i in x]\n",
        "print(x2)"
      ],
      "metadata": {
        "colab": {
          "base_uri": "https://localhost:8080/"
        },
        "id": "Hketft6RlegX",
        "outputId": "412d3c20-b146-44f8-c8a5-0df03759ed1b"
      },
      "execution_count": 2,
      "outputs": [
        {
          "output_type": "stream",
          "name": "stdout",
          "text": [
            "[11, 12, 13, 14]\n"
          ]
        }
      ]
    },
    {
      "cell_type": "markdown",
      "source": [
        "### Comprehension with condition\n",
        "- Syntax\n",
        "- newlist=[operation loop condition]"
      ],
      "metadata": {
        "id": "7zabdRwElpSu"
      }
    },
    {
      "cell_type": "code",
      "source": [
        "x=[1,3,6,7,10,11,20,2]\n",
        "x2=[i**2 for i in x if i%2==0]\n",
        "print(x2)"
      ],
      "metadata": {
        "colab": {
          "base_uri": "https://localhost:8080/"
        },
        "id": "ZZy_l_Xjlnb6",
        "outputId": "cbaaf55f-d633-4d81-8b1f-a47a73f5b3af"
      },
      "execution_count": 3,
      "outputs": [
        {
          "output_type": "stream",
          "name": "stdout",
          "text": [
            "[36, 100, 400, 4]\n"
          ]
        }
      ]
    },
    {
      "cell_type": "code",
      "source": [
        "names=['satwik','manas','shiv','naman','arpit','ritesh','paras','faheem','ammar','esha','sachin','shailja','savri']\n",
        "x=[]\n",
        "for i in names:\n",
        "  s=i[0]+i[-1]\n",
        "  x.append(s)\n",
        "print(x)"
      ],
      "metadata": {
        "colab": {
          "base_uri": "https://localhost:8080/"
        },
        "id": "TT5Ocp2OmB5w",
        "outputId": "de42ddd3-9e29-4e7e-a3fe-4fe27a458117"
      },
      "execution_count": 4,
      "outputs": [
        {
          "output_type": "stream",
          "name": "stdout",
          "text": [
            "['sk', 'ms', 'sv', 'nn', 'at', 'rh', 'ps', 'fm', 'ar', 'ea', 'sn', 'sa', 'si']\n"
          ]
        }
      ]
    },
    {
      "cell_type": "code",
      "source": [
        "x2=[i[0]+i[-1] for i in names]\n",
        "print(x2)"
      ],
      "metadata": {
        "colab": {
          "base_uri": "https://localhost:8080/"
        },
        "id": "GprChCRYme3D",
        "outputId": "3fcd7a98-243b-474d-b2dc-7e33eb6b624e"
      },
      "execution_count": 5,
      "outputs": [
        {
          "output_type": "stream",
          "name": "stdout",
          "text": [
            "['sk', 'ms', 'sv', 'nn', 'at', 'rh', 'ps', 'fm', 'ar', 'ea', 'sn', 'sa', 'si']\n"
          ]
        }
      ]
    }
  ]
}