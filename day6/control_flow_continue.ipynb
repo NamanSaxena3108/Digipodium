{
 "cells": [
  {
   "cell_type": "markdown",
   "metadata": {},
   "source": [
    "### While loop"
   ]
  },
  {
   "cell_type": "code",
   "execution_count": 1,
   "metadata": {},
   "outputs": [
    {
     "name": "stdout",
     "output_type": "stream",
     "text": [
      "10\n",
      "8\n",
      "6\n",
      "4\n",
      "2\n"
     ]
    }
   ],
   "source": [
    "i=10\n",
    "while i>0:\n",
    "    print(i)\n",
    "    i-=2"
   ]
  },
  {
   "cell_type": "code",
   "execution_count": 3,
   "metadata": {},
   "outputs": [
    {
     "name": "stdout",
     "output_type": "stream",
     "text": [
      "1234 5\n",
      "123 9\n",
      "12 12\n",
      "1 14\n",
      "0 15\n",
      "ans : 15\n"
     ]
    }
   ],
   "source": [
    "#sum of all digit\n",
    "number=12345\n",
    "result=0\n",
    "while number>0:\n",
    "    result +=number%10\n",
    "    number //= 10\n",
    "    print(number,result)\n",
    "print(f\"ans : {result}\")"
   ]
  },
  {
   "cell_type": "code",
   "execution_count": 5,
   "metadata": {},
   "outputs": [
    {
     "name": "stdout",
     "output_type": "stream",
     "text": [
      "Total => 57439\n"
     ]
    }
   ],
   "source": [
    "total=0\n",
    "while True:\n",
    "    num=input(\"enter value:\")\n",
    "    if num:\n",
    "        total += int(num)\n",
    "    else:\n",
    "        break\n",
    "print(f\"Total => {total}\")"
   ]
  },
  {
   "cell_type": "markdown",
   "metadata": {},
   "source": [
    "or\n"
   ]
  },
  {
   "cell_type": "code",
   "execution_count": 6,
   "metadata": {},
   "outputs": [
    {
     "name": "stdout",
     "output_type": "stream",
     "text": [
      "Total => 45\n"
     ]
    }
   ],
   "source": [
    "total=0\n",
    "while True:\n",
    "    num=input(\"Enter a number\")\n",
    "    if not num:\n",
    "        break\n",
    "    total += int(num)\n",
    "print(f'Total => {total}')"
   ]
  },
  {
   "cell_type": "markdown",
   "metadata": {},
   "source": [
    "for-else and while-else\n"
   ]
  },
  {
   "cell_type": "code",
   "execution_count": 8,
   "metadata": {},
   "outputs": [
    {
     "name": "stdout",
     "output_type": "stream",
     "text": [
      "0\n",
      "1\n",
      "2\n",
      "3\n"
     ]
    }
   ],
   "source": [
    "for i in range(5):\n",
    "    print(i)\n",
    "    if i == 3: break\n",
    "else:\n",
    "    print(\"loop completed\")"
   ]
  },
  {
   "cell_type": "code",
   "execution_count": 10,
   "metadata": {},
   "outputs": [
    {
     "name": "stdout",
     "output_type": "stream",
     "text": [
      "11/2=1\n",
      "11/3=2\n",
      "11/4=3\n",
      "11/5=1\n",
      "11/6=5\n",
      "11/7=4\n",
      "11/8=3\n",
      "11/9=2\n",
      "11/10=1\n",
      "prime 11\n"
     ]
    }
   ],
   "source": [
    "number=int(input(\"enter a number\"))\n",
    "for i in range(2,number):\n",
    "    print(f\"{number}/{i}={number%i}\")\n",
    "    if number%i==0:\n",
    "        print(f\"Not Prime {number}\")\n",
    "        break\n",
    "else:\n",
    "    print(f\"👑 prime {number}\")"
   ]
  },
  {
   "cell_type": "code",
   "execution_count": 11,
   "metadata": {},
   "outputs": [
    {
     "name": "stdout",
     "output_type": "stream",
     "text": [
      "144\n",
      "91125\n",
      "20151121\n",
      "2887174368\n",
      "148035889\n"
     ]
    }
   ],
   "source": [
    "x=[12,45,67,78,23]\n",
    "y=[2,3,4,5,6,2]\n",
    "for i,j in zip(x,y):\n",
    "    print(i**j)"
   ]
  }
 ],
 "metadata": {
  "kernelspec": {
   "display_name": "base",
   "language": "python",
   "name": "python3"
  },
  "language_info": {
   "codemirror_mode": {
    "name": "ipython",
    "version": 3
   },
   "file_extension": ".py",
   "mimetype": "text/x-python",
   "name": "python",
   "nbconvert_exporter": "python",
   "pygments_lexer": "ipython3",
   "version": "3.12.4"
  }
 },
 "nbformat": 4,
 "nbformat_minor": 2
}
