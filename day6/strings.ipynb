{
 "cells": [
  {
   "cell_type": "markdown",
   "metadata": {},
   "source": [
    "# String\n",
    "- creating\n",
    "- indexign\n",
    "- slicing\n",
    "- methods"
   ]
  },
  {
   "cell_type": "code",
   "execution_count": 2,
   "metadata": {},
   "outputs": [
    {
     "name": "stdout",
     "output_type": "stream",
     "text": [
      "Sara Lucknow This is an example\n",
      "of multi line string\n",
      "in python,Triple Quotes allow multi line concept\n"
     ]
    }
   ],
   "source": [
    "# Creation\n",
    "a='' # empty string\n",
    "name='Sara'\n",
    "city='Lucknow' \n",
    "message='''This is an example\n",
    "of multi line string\n",
    "in python,Triple Quotes allow multi line concept'''\n",
    "print(name,city,message)"
   ]
  },
  {
   "cell_type": "code",
   "execution_count": 4,
   "metadata": {},
   "outputs": [
    {
     "name": "stdout",
     "output_type": "stream",
     "text": [
      "~*~|~*~|~*~|~*~|~*~|~*~|~*~|~*~|~*~|~*~|\n"
     ]
    }
   ],
   "source": [
    "#String Duplication\n",
    "decor=\"~*~|\"*10\n",
    "print(decor)"
   ]
  },
  {
   "cell_type": "code",
   "execution_count": 5,
   "metadata": {},
   "outputs": [
    {
     "name": "stdout",
     "output_type": "stream",
     "text": [
      "123456\n",
      "[1, 2, 3]\n",
      "True\n",
      "False\n",
      "12.4\n"
     ]
    }
   ],
   "source": [
    "#casting\n",
    "a=str(123456)\n",
    "b=str([1,2,3])\n",
    "c=str(True)\n",
    "d=str(False)\n",
    "e=str(12.4)\n",
    "print(a)\n",
    "print(b)\n",
    "print(c)\n",
    "print(d)\n",
    "print(e)"
   ]
  },
  {
   "cell_type": "code",
   "execution_count": 7,
   "metadata": {},
   "outputs": [
    {
     "name": "stdout",
     "output_type": "stream",
     "text": [
      "SYNCRONIZED\n",
      "11\n",
      "S\n",
      "Y\n",
      "N\n",
      "C\n",
      "R\n",
      "D\n",
      "E\n",
      "Z\n",
      "N\n"
     ]
    }
   ],
   "source": [
    "word='SYNCRONIZED'\n",
    "print(word)\n",
    "print(len(word))\n",
    "print(word[0])\n",
    "print(word[1])\n",
    "print(word[2])\n",
    "print(word[3])\n",
    "print(word[4])\n",
    "print(word[-1])\n",
    "print(word[-2])\n",
    "print(word[-3])\n",
    "print(word[-5])"
   ]
  },
  {
   "cell_type": "markdown",
   "metadata": {},
   "source": [
    "# Slicing\n",
    "Syntax \n",
    "- var[start:stop]  # start from an index and get slice till stop -1 \n",
    "- var[start:stop:step]\n",
    "- var[:stop]   #start from beginning\n",
    "- var[start:]  # start from an index stop at the end"
   ]
  },
  {
   "cell_type": "code",
   "execution_count": 10,
   "metadata": {},
   "outputs": [
    {
     "name": "stdout",
     "output_type": "stream",
     "text": [
      "SYNC\n",
      "SYNC\n",
      "ONI\n",
      "RONIZED\n",
      "YCOIE\n",
      "SNRNZD\n",
      "DEZINORCNYS\n"
     ]
    }
   ],
   "source": [
    "print(word[0:4])\n",
    "print(word[:4])\n",
    "print(word[5:8])\n",
    "print(word[4:])\n",
    "print(word[1:10:2])\n",
    "print(word[::2])\n",
    "print(word[::-1])"
   ]
  },
  {
   "cell_type": "code",
   "execution_count": 11,
   "metadata": {},
   "outputs": [
    {
     "name": "stdout",
     "output_type": "stream",
     "text": [
      "['vijay', 'Deenanath', 'chauhan']\n"
     ]
    }
   ],
   "source": [
    "word='vijay Deenanath chauhan'\n",
    "a=word.split()\n",
    "print(a)"
   ]
  },
  {
   "cell_type": "code",
   "execution_count": 15,
   "metadata": {},
   "outputs": [
    {
     "name": "stdout",
     "output_type": "stream",
     "text": [
      "vijay\n",
      "deenanath \n",
      "chuahan \n"
     ]
    }
   ],
   "source": [
    "word='vijay deenanath chuahan '\n",
    "fname=word[0:5]\n",
    "mname=word[6:16]\n",
    "lname=word[16:24]\n",
    "print(fname)\n",
    "print(mname)\n",
    "print(lname)"
   ]
  },
  {
   "cell_type": "code",
   "execution_count": 17,
   "metadata": {},
   "outputs": [
    {
     "name": "stdout",
     "output_type": "stream",
     "text": [
      "vijay\n",
      "chuahan\n",
      "deenanath\n"
     ]
    }
   ],
   "source": [
    "word='vijay deenanath chuahan'\n",
    "fname=word[:5]\n",
    "mname=word[-7:]\n",
    "lname=word[6:-8]\n",
    "print(fname)\n",
    "print(mname)\n",
    "print(lname)"
   ]
  }
 ],
 "metadata": {
  "kernelspec": {
   "display_name": "base",
   "language": "python",
   "name": "python3"
  },
  "language_info": {
   "codemirror_mode": {
    "name": "ipython",
    "version": 3
   },
   "file_extension": ".py",
   "mimetype": "text/x-python",
   "name": "python",
   "nbconvert_exporter": "python",
   "pygments_lexer": "ipython3",
   "version": "3.12.4"
  }
 },
 "nbformat": 4,
 "nbformat_minor": 2
}
