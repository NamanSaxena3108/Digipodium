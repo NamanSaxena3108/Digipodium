{
 "cells": [
  {
   "cell_type": "markdown",
   "metadata": {},
   "source": [
    "### Data Structure - List\n",
    "- Creating list\n",
    "- Indexing and slicing (same as string)\n",
    "- Methods- 11Methods\n",
    "- List Comprehension"
   ]
  },
  {
   "cell_type": "code",
   "execution_count": 1,
   "metadata": {},
   "outputs": [],
   "source": [
    "x=[]\n",
    "num_list=[1,2,3,4,5]\n",
    "word_list=['this','that','of','what']\n",
    "bool_list=[True,False,True,False]\n",
    "mixed_list=[1,2,'Three',False]\n",
    "nested_list=[[1,2,3],[4,5,6]]"
   ]
  },
  {
   "cell_type": "code",
   "execution_count": 2,
   "metadata": {},
   "outputs": [
    {
     "name": "stdout",
     "output_type": "stream",
     "text": [
      "[1, 4, 7, 10, 13]\n",
      "[[1, 2, 3], [1, 3, 2], [3, 2, 1]]\n",
      "[1, 1, 1, 1, 1, 1, 1, 1, 1, 1]\n"
     ]
    }
   ],
   "source": [
    "y=list(range(1,16,3))\n",
    "print(y)\n",
    "a=[1,2,3]\n",
    "b=[1,3,2]\n",
    "c=[3,2,1]\n",
    "mat=[a,b,c]  #list from variables\n",
    "print(mat)\n",
    "\n",
    "z=[1]*10   #duplicate list\n",
    "print(z)"
   ]
  },
  {
   "cell_type": "markdown",
   "metadata": {},
   "source": [
    "Rules for list:\n",
    "1. indexed\n",
    "2. ordered\n",
    "3. mutable\n",
    "4. hetrogenous datatype\n",
    "5. can have duplicate values\n",
    "6. represented with []\n",
    "7. list() can used to cast other datastructure to a list"
   ]
  },
  {
   "cell_type": "code",
   "execution_count": 3,
   "metadata": {},
   "outputs": [
    {
     "name": "stdout",
     "output_type": "stream",
     "text": [
      "13\n"
     ]
    }
   ],
   "source": [
    "names=['Satwik','Manas','Shiv','Naman','Arpit','Ritesh',\n",
    "       'Paras','Faheem','Ammar','Esha','Sachin','Shailja',\n",
    "       'Savri']\n",
    "print(len(names))"
   ]
  },
  {
   "cell_type": "code",
   "execution_count": 5,
   "metadata": {},
   "outputs": [
    {
     "name": "stdout",
     "output_type": "stream",
     "text": [
      "Satwik\n",
      "Savri\n",
      "Ritesh\n",
      "Naman\n",
      "Sachin\n"
     ]
    }
   ],
   "source": [
    "print(names[0])       \n",
    "print(names[-1])\n",
    "print(names[5])\n",
    "print(names[3])\n",
    "print(names[10])"
   ]
  },
  {
   "cell_type": "code",
   "execution_count": 6,
   "metadata": {},
   "outputs": [
    {
     "name": "stdout",
     "output_type": "stream",
     "text": [
      "['Satwik', 'Manas', 'Shiv', 'Naman', 'Arpit']\n",
      "['Ammar', 'Esha', 'Sachin', 'Shailja', 'Savri']\n",
      "['Shiv', 'Naman', 'Arpit', 'Ritesh', 'Paras', 'Faheem', 'Ammar', 'Esha', 'Sachin']\n"
     ]
    }
   ],
   "source": [
    "#slicing\n",
    "print(names[:5])\n",
    "print(names[-5:])\n",
    "print(names[2:-2])"
   ]
  },
  {
   "cell_type": "code",
   "execution_count": 7,
   "metadata": {},
   "outputs": [
    {
     "name": "stdout",
     "output_type": "stream",
     "text": [
      "['Savri', 'Shailja', 'Sachin', 'Esha', 'Ammar', 'Faheem', 'Paras', 'Ritesh', 'Arpit', 'Naman', 'Shiv', 'Manas', 'Satwik']\n",
      "['Satwik', 'Shiv', 'Arpit', 'Paras', 'Ammar', 'Sachin', 'Savri']\n",
      "['Manas', 'Naman', 'Ritesh', 'Faheem', 'Esha', 'Shailja']\n"
     ]
    }
   ],
   "source": [
    "print(names[::-1])  #reverse\n",
    "print(names[::2])   # even students\n",
    "print(names[1::2])  #odd Students"
   ]
  },
  {
   "cell_type": "code",
   "execution_count": 10,
   "metadata": {},
   "outputs": [
    {
     "name": "stdout",
     "output_type": "stream",
     "text": [
      "kiwtaS sanaM vihS namaN tiprA hsetiR saraP meehaF rammA ahsE nihcaS ajliahS irvaS "
     ]
    }
   ],
   "source": [
    "\n",
    "for i in names:\n",
    "    print(i[::-1],end=' ')"
   ]
  },
  {
   "cell_type": "markdown",
   "metadata": {},
   "source": [
    "List Methods\n",
    "- add\n",
    "    - append\n",
    "    - extend\n",
    "    - insert\n",
    "- remove\n",
    "    - remove \n",
    "    - pop\n",
    "    - clear\n",
    "- utility\n",
    "    - reverse\n",
    "    - sort\n",
    "    - count\n",
    "    - index\n",
    "    - copy"
   ]
  },
  {
   "cell_type": "code",
   "execution_count": 18,
   "metadata": {},
   "outputs": [],
   "source": [
    "fruits=['apple','banana','cheery','dragonfruit','elderberry','fig']"
   ]
  },
  {
   "cell_type": "code",
   "execution_count": 19,
   "metadata": {},
   "outputs": [
    {
     "name": "stdout",
     "output_type": "stream",
     "text": [
      "['apple', 'banana', 'cheery', 'dragonfruit', 'elderberry', 'fig', 'gauva']\n"
     ]
    }
   ],
   "source": [
    "fruits.append('gauva')\n",
    "print(fruits)"
   ]
  },
  {
   "cell_type": "code",
   "execution_count": 20,
   "metadata": {},
   "outputs": [
    {
     "name": "stdout",
     "output_type": "stream",
     "text": [
      "['apple', 'banana', 'cheery', 'dragonfruit', 'elderberry', 'fig', 'gauva', 'hazelnut', 'iceapple', 'jackfruites']\n"
     ]
    }
   ],
   "source": [
    "fruits.append('hazelnut')\n",
    "fruits.append('iceapple')\n",
    "fruits.append('jackfruites')\n",
    "print(fruits)"
   ]
  },
  {
   "cell_type": "code",
   "execution_count": 21,
   "metadata": {},
   "outputs": [
    {
     "name": "stdout",
     "output_type": "stream",
     "text": [
      "['apple', 'banana', 'cheery', 'dragonfruit', 'elderberry', 'fig', 'gauva', 'hazelnut', 'iceapple', 'jackfruites', [1, 2, 3]]\n"
     ]
    }
   ],
   "source": [
    "fruits.append([1,2,3])    #add this list to fruits in nested  format\n",
    "print(fruits)"
   ]
  },
  {
   "cell_type": "code",
   "execution_count": 22,
   "metadata": {},
   "outputs": [
    {
     "name": "stdout",
     "output_type": "stream",
     "text": [
      "['apple', 'banana', 'cheery', 'dragonfruit', 'elderberry', 'fig', 'gauva', 'hazelnut', 'iceapple', 'jackfruites', [1, 2, 3], 1, 2, 3]\n"
     ]
    }
   ],
   "source": [
    "fruits.extend([1,2,3])    #add each element of list in fruits\n",
    "print(fruits)"
   ]
  },
  {
   "cell_type": "code",
   "execution_count": 40,
   "metadata": {},
   "outputs": [
    {
     "name": "stdout",
     "output_type": "stream",
     "text": [
      "[11, 12, 13, 15, 18, 20]\n"
     ]
    }
   ],
   "source": [
    "x=[11,12,14,15,18,20]\n",
    "#replace value 14 by 13\n",
    "x[2]=13\n",
    "print(x)"
   ]
  },
  {
   "cell_type": "code",
   "execution_count": 41,
   "metadata": {},
   "outputs": [
    {
     "name": "stdout",
     "output_type": "stream",
     "text": [
      "[11, 12, 13, 14, 15, 18, 20]\n"
     ]
    }
   ],
   "source": [
    "#insert 14 at index of 15\n",
    "x.insert(3,14)\n",
    "print(x)"
   ]
  },
  {
   "cell_type": "code",
   "execution_count": 42,
   "metadata": {},
   "outputs": [
    {
     "name": "stdout",
     "output_type": "stream",
     "text": [
      "[11, 12, 13, 14, 15, 16, 17, 18, 19, 20]\n"
     ]
    }
   ],
   "source": [
    "x.insert(5,16)   #x.insert(-2,16)\n",
    "x.insert(6,17)   #x.insert(-2,17)\n",
    "x.insert(-1,19)\n",
    "print(x)"
   ]
  },
  {
   "cell_type": "code",
   "execution_count": 43,
   "metadata": {},
   "outputs": [
    {
     "name": "stdout",
     "output_type": "stream",
     "text": [
      "[11, 12, 13, 14, 15, 16, 17, 18, 19]\n"
     ]
    }
   ],
   "source": [
    "x.remove(20)\n",
    "print(x)"
   ]
  },
  {
   "cell_type": "code",
   "execution_count": 44,
   "metadata": {},
   "outputs": [
    {
     "name": "stdout",
     "output_type": "stream",
     "text": [
      "[1, 1, 2, 2]\n"
     ]
    }
   ],
   "source": [
    "y=[1,1,1,2,2]\n",
    "y.remove(1)  #first occurance only\n",
    "print(y)"
   ]
  },
  {
   "cell_type": "code",
   "execution_count": 46,
   "metadata": {},
   "outputs": [
    {
     "name": "stdout",
     "output_type": "stream",
     "text": [
      "[1, 2, 3, 4]\n"
     ]
    }
   ],
   "source": [
    "z=[1,2,3,4,5]\n",
    "if 5 in z:\n",
    "    z.remove(5)\n",
    "if 6 in z:\n",
    "    z.remove(6)\n",
    "print(z)"
   ]
  },
  {
   "cell_type": "code",
   "execution_count": 48,
   "metadata": {},
   "outputs": [
    {
     "name": "stdout",
     "output_type": "stream",
     "text": [
      "[11, 12, 14, 15, 18]\n",
      "[11, 12, 15, 18]\n"
     ]
    }
   ],
   "source": [
    "x=[11,12,14,15,18,20]\n",
    "x.pop() #last element\n",
    "print(x)\n",
    "x.pop(2)\n",
    "print(x)"
   ]
  },
  {
   "cell_type": "code",
   "execution_count": 49,
   "metadata": {},
   "outputs": [
    {
     "name": "stdout",
     "output_type": "stream",
     "text": [
      "[11, 12, 15]\n",
      "18\n"
     ]
    }
   ],
   "source": [
    "item=x.pop()\n",
    "print(x)\n",
    "print(item)"
   ]
  },
  {
   "cell_type": "code",
   "execution_count": 50,
   "metadata": {},
   "outputs": [
    {
     "name": "stdout",
     "output_type": "stream",
     "text": [
      "[]\n"
     ]
    }
   ],
   "source": [
    "x.clear()\n",
    "print(x)"
   ]
  },
  {
   "cell_type": "code",
   "execution_count": 51,
   "metadata": {},
   "outputs": [
    {
     "name": "stdout",
     "output_type": "stream",
     "text": [
      "[3, 2, 1, [1, 2, 3], 'jackfruites', 'iceapple', 'hazelnut', 'gauva', 'fig', 'elderberry', 'dragonfruit', 'cheery', 'banana', 'apple']\n"
     ]
    }
   ],
   "source": [
    "fruits.reverse()\n",
    "print(fruits)"
   ]
  },
  {
   "cell_type": "code",
   "execution_count": 52,
   "metadata": {},
   "outputs": [
    {
     "name": "stdout",
     "output_type": "stream",
     "text": [
      "[10, 12, 14, 16, 48, 56, 65, 89, 100]\n",
      "[100, 89, 65, 56, 48, 16, 14, 12, 10]\n"
     ]
    }
   ],
   "source": [
    "nums=[12,56,48,16,14,65,89,10,100]\n",
    "nums.sort()   #ascending\n",
    "print(nums)\n",
    "nums.sort(reverse=True)  #decending\n",
    "print(nums)"
   ]
  },
  {
   "cell_type": "code",
   "execution_count": 54,
   "metadata": {},
   "outputs": [
    {
     "name": "stdout",
     "output_type": "stream",
     "text": [
      "6\n",
      "3\n"
     ]
    }
   ],
   "source": [
    "num=[1,2,4,1,2,1,3,5,8,1,1,2,5,1]\n",
    "total=num.count(1)\n",
    "total1=num.count(2)\n",
    "print(total)\n",
    "print(total1)\n"
   ]
  },
  {
   "cell_type": "code",
   "execution_count": 57,
   "metadata": {},
   "outputs": [
    {
     "name": "stdout",
     "output_type": "stream",
     "text": [
      "[3, 2, 1, [1, 2, 3], 'jackfruites', 'iceapple', 'hazelnut', 'gauva', 'fig', 'elderberry', 'dragonfruit', 'cheery', 'banana', 'apple']\n",
      "7\n",
      "12\n"
     ]
    }
   ],
   "source": [
    "print(fruits)\n",
    "print(fruits.index('gauva'))\n",
    "print(fruits.index('banana'))"
   ]
  },
  {
   "cell_type": "markdown",
   "metadata": {},
   "source": [
    "Better to add condition with remove and index as list is a sensitive datastructure"
   ]
  },
  {
   "cell_type": "code",
   "execution_count": 59,
   "metadata": {},
   "outputs": [
    {
     "name": "stdout",
     "output_type": "stream",
     "text": [
      "[1, 2, 3]\n",
      "[1, 2, 3]\n",
      "True\n",
      "[1, 2, 3]\n",
      "[1, 2, 3]\n",
      "False\n"
     ]
    }
   ],
   "source": [
    "x=[1,2,3]\n",
    "y=x #store the reference of x in y.. if change in x it changes in y\n",
    "print(x)\n",
    "print(y)\n",
    "print(y is x)\n",
    "z=x.copy()   #create a seperate copy of item in new memory location..it change in x it does not change in z\n",
    "print(x)\n",
    "print(z)\n",
    "print(z is x)"
   ]
  }
 ],
 "metadata": {
  "kernelspec": {
   "display_name": "base",
   "language": "python",
   "name": "python3"
  },
  "language_info": {
   "codemirror_mode": {
    "name": "ipython",
    "version": 3
   },
   "file_extension": ".py",
   "mimetype": "text/x-python",
   "name": "python",
   "nbconvert_exporter": "python",
   "pygments_lexer": "ipython3",
   "version": "3.12.4"
  }
 },
 "nbformat": 4,
 "nbformat_minor": 2
}
