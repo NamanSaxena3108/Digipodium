{
 "cells": [
  {
   "cell_type": "markdown",
   "metadata": {},
   "source": [
    "# Functions\n",
    "1. predefiend functions\n",
    "    1. built in function (directly available)\n",
    "    2. module function (need to import)\n",
    "        1. python standard library\n",
    "        2. 3rd party functions(pip install library)\n",
    "2. user defined functions\n",
    "    1. non parameteriesd function\n",
    "    2. function with return type\n",
    "    3. parameterizedd function\n",
    "        1. required parameter\n",
    "        2. named argument\n",
    "        3. default parameter\n",
    "        4. variable length argument\n",
    "        5. keyword variable length function\n",
    "    4. Anonymous function(lambda function)\n",
    "    5. Generator function"
   ]
  },
  {
   "cell_type": "code",
   "execution_count": 69,
   "metadata": {},
   "outputs": [
    {
     "name": "stdout",
     "output_type": "stream",
     "text": [
      "Help on built-in function max in module builtins:\n",
      "\n",
      "max(...)\n",
      "    max(iterable, *[, default=obj, key=func]) -> value\n",
      "    max(arg1, arg2, *args, *[, key=func]) -> value\n",
      "\n",
      "    With a single iterable argument, return its biggest item. The\n",
      "    default keyword-only argument specifies an object to return if\n",
      "    the provided iterable is empty.\n",
      "    With two or more arguments, return the largest argument.\n",
      "\n"
     ]
    }
   ],
   "source": [
    "#built in function\n",
    "help(max)"
   ]
  },
  {
   "cell_type": "code",
   "execution_count": 70,
   "metadata": {},
   "outputs": [
    {
     "data": {
      "text/plain": [
       "5"
      ]
     },
     "execution_count": 70,
     "metadata": {},
     "output_type": "execute_result"
    }
   ],
   "source": [
    "eval(\"2+3\")"
   ]
  },
  {
   "cell_type": "code",
   "execution_count": 71,
   "metadata": {},
   "outputs": [
    {
     "data": {
      "text/plain": [
       "4"
      ]
     },
     "execution_count": 71,
     "metadata": {},
     "output_type": "execute_result"
    }
   ],
   "source": [
    "eq= input(\"give me an equation for x\")\n",
    "eval(eq)"
   ]
  },
  {
   "cell_type": "markdown",
   "metadata": {},
   "source": [
    "open() for file handling"
   ]
  },
  {
   "cell_type": "code",
   "execution_count": 72,
   "metadata": {},
   "outputs": [
    {
     "name": "stdout",
     "output_type": "stream",
     "text": [
      "\n"
     ]
    }
   ],
   "source": [
    "print(open('sample.txt').read())"
   ]
  },
  {
   "cell_type": "code",
   "execution_count": 73,
   "metadata": {},
   "outputs": [
    {
     "name": "stdout",
     "output_type": "stream",
     "text": [
      "\n"
     ]
    }
   ],
   "source": [
    "with open('sample.txt') as f:\n",
    "    con=f.read()\n",
    "    print(con)"
   ]
  },
  {
   "cell_type": "code",
   "execution_count": 74,
   "metadata": {},
   "outputs": [],
   "source": [
    "with open('story.txt','w') as f:\n",
    "    f.write(\"this is w mode \\n\")"
   ]
  },
  {
   "cell_type": "code",
   "execution_count": 75,
   "metadata": {},
   "outputs": [],
   "source": [
    "#'a' mode for append mode\n",
    "with open('story.txt','a') as f:\n",
    "    f.write(\"This is written using a/append mode\")"
   ]
  },
  {
   "cell_type": "code",
   "execution_count": 76,
   "metadata": {},
   "outputs": [
    {
     "name": "stdout",
     "output_type": "stream",
     "text": [
      "this is w mode \n",
      "This is written using a/append mode\n"
     ]
    }
   ],
   "source": [
    "with open('story.txt') as f:\n",
    "    con=f.read()\n",
    "    print(con)"
   ]
  },
  {
   "cell_type": "code",
   "execution_count": 77,
   "metadata": {},
   "outputs": [
    {
     "name": "stdout",
     "output_type": "stream",
     "text": [
      "10\n",
      "2\n",
      "1\n",
      "2\n",
      "2\n",
      "8\n",
      "6\n",
      "1\n",
      "1\n",
      "9\n"
     ]
    }
   ],
   "source": [
    "#Python random module\n",
    "import random\n",
    "for i in range(10):\n",
    "    ans=random.randint(1,10) #1<=x<=10\n",
    "    print(ans)"
   ]
  },
  {
   "cell_type": "code",
   "execution_count": 78,
   "metadata": {},
   "outputs": [
    {
     "name": "stdout",
     "output_type": "stream",
     "text": [
      "apple\n",
      "cherry\n",
      "apple\n",
      "apple\n",
      "apple\n",
      "cherry\n",
      "cherry\n",
      "apple\n",
      "cherry\n",
      "cherry\n"
     ]
    }
   ],
   "source": [
    "fruites=['apple','banana','cherry']\n",
    "for i in range(10):\n",
    "    print(random.choice(fruites))"
   ]
  },
  {
   "cell_type": "code",
   "execution_count": 79,
   "metadata": {},
   "outputs": [
    {
     "name": "stdout",
     "output_type": "stream",
     "text": [
      "[1, 1, 10]\n",
      "[8, 7, 9, 10, 1]\n",
      "[1, 6, 7, 4, 10, 2, 3, 9, 8, 5]\n"
     ]
    }
   ],
   "source": [
    "x=[1,2,3,4,5,6,7,8,9,10]\n",
    "print(random.choices(x,k=3)) #in this the value can repaet itself\n",
    "print(random.sample(x,k=5))  #in this the value will not repeat itself\n",
    "random.shuffle(x)\n",
    "print(x)"
   ]
  },
  {
   "cell_type": "code",
   "execution_count": 80,
   "metadata": {},
   "outputs": [
    {
     "name": "stdout",
     "output_type": "stream",
     "text": [
      "2012-12-12 10:05:00\n",
      "1970-01-01 10:05:00\n",
      "2024-08-23 07:41:05.775173\n",
      "1724424065.775173\n",
      "2904-06-08 09:14:45\n",
      "2024-08-23 07:41:05.775173\n",
      "2024-12-01 07:41:05.775173\n",
      "07:41:05.775173\n",
      "2024-08-23\n",
      "23/08/24\n",
      "Aug:08\n"
     ]
    }
   ],
   "source": [
    "from datetime import datetime\n",
    "#12/12/2012\n",
    "doomsday=datetime(2012,12,12,10,5)\n",
    "print(doomsday)\n",
    "#10:05\n",
    "time=datetime(1970,1,1,10,5)\n",
    "print(time)\n",
    "current_time=datetime.now()\n",
    "print(current_time)\n",
    "timestamp=datetime.timestamp(current_time)\n",
    "print(timestamp) #seconds since epach(1970)\n",
    "print(datetime.fromtimestamp(29487946485))\n",
    "\n",
    "from datetime import timedelta\n",
    "\n",
    "today=datetime.now()\n",
    "print(today)\n",
    "print(today + timedelta(days=100))\n",
    "\n",
    "#format time\n",
    "print(today.time())\n",
    "print(today.date())\n",
    "\n",
    "#srtftime\n",
    "print(today.strftime(\"%d/%m/%y\"))\n",
    "print(today.strftime(\"%h:%m\"))"
   ]
  },
  {
   "cell_type": "code",
   "execution_count": 81,
   "metadata": {},
   "outputs": [
    {
     "name": "stdout",
     "output_type": "stream",
     "text": [
      "c:\\Users\\win10\\Documents\\Naman\\day11\n"
     ]
    }
   ],
   "source": [
    "import os\n",
    "BASE_DIR=os.getcwd()\n",
    "print(BASE_DIR)"
   ]
  },
  {
   "cell_type": "code",
   "execution_count": 82,
   "metadata": {},
   "outputs": [
    {
     "name": "stdout",
     "output_type": "stream",
     "text": [
      "['functions.ipynb', 'sample.txt', 'story.txt']\n"
     ]
    }
   ],
   "source": [
    "print(os.listdir())"
   ]
  },
  {
   "cell_type": "code",
   "execution_count": 83,
   "metadata": {},
   "outputs": [
    {
     "name": "stdout",
     "output_type": "stream",
     "text": [
      "['functions.ipynb', 'story.txt']\n"
     ]
    }
   ],
   "source": [
    "#delete file\n",
    "os.unlink('sample.txt')\n",
    "print(os.listdir())"
   ]
  },
  {
   "cell_type": "code",
   "execution_count": 84,
   "metadata": {},
   "outputs": [
    {
     "name": "stdout",
     "output_type": "stream",
     "text": [
      "total content is 25\n"
     ]
    }
   ],
   "source": [
    "content=os.listdir(\"c:/program files\")\n",
    "print(f\"total content is {len(content)}\")"
   ]
  },
  {
   "cell_type": "code",
   "execution_count": 85,
   "metadata": {},
   "outputs": [
    {
     "name": "stdout",
     "output_type": "stream",
     "text": [
      "total content is 11\n"
     ]
    }
   ],
   "source": [
    "content=os.listdir(\"C:/Users/win10/Documents/Naman\")\n",
    "print(f\"total content is {len(content)}\")"
   ]
  },
  {
   "cell_type": "code",
   "execution_count": 86,
   "metadata": {},
   "outputs": [
    {
     "name": "stdout",
     "output_type": "stream",
     "text": [
      "day1                                               False\n",
      "day10                                              False\n",
      "day11                                              False\n",
      "day2                                               False\n",
      "day3                                               False\n",
      "day4                                               False\n",
      "day5                                               False\n",
      "day6                                               False\n",
      "day7                                               False\n",
      "day8                                               False\n",
      "day9                                               False\n"
     ]
    }
   ],
   "source": [
    "for item in content:\n",
    "    path=\"C:/Users/win10/Documents/Naman\"+item\n",
    "    print(item.ljust(50),os.path.isfile(item))"
   ]
  },
  {
   "cell_type": "code",
   "execution_count": 87,
   "metadata": {},
   "outputs": [
    {
     "name": "stdout",
     "output_type": "stream",
     "text": [
      "Path exist\n"
     ]
    }
   ],
   "source": [
    "address=\"C:/Users/win10/Documents/Naman\"\n",
    "if os.path.exists(address):\n",
    "    print(\"Path exist\")\n",
    "else:\n",
    "    print(\"path not exist\")"
   ]
  },
  {
   "cell_type": "code",
   "execution_count": 88,
   "metadata": {},
   "outputs": [],
   "source": [
    "if not os.path.exists(\"folder1\"):\n",
    "    os.mkdir(\"Folder1\")"
   ]
  },
  {
   "cell_type": "code",
   "execution_count": 92,
   "metadata": {},
   "outputs": [],
   "source": [
    "os.makedirs(\"Folder1/Folder2/Folder3\",exist_ok=True)"
   ]
  },
  {
   "cell_type": "code",
   "execution_count": null,
   "metadata": {},
   "outputs": [],
   "source": [
    "for item in content:\n",
    "    path=\"C:/Users/win10/Documents/Naman\"+item\n",
    "    size=os.path.getsize(path)/1024\n",
    "    print(item[:49].ljust(50),str(os.path.isfile(item).ljust(10),size))"
   ]
  }
 ],
 "metadata": {
  "kernelspec": {
   "display_name": "base",
   "language": "python",
   "name": "python3"
  },
  "language_info": {
   "codemirror_mode": {
    "name": "ipython",
    "version": 3
   },
   "file_extension": ".py",
   "mimetype": "text/x-python",
   "name": "python",
   "nbconvert_exporter": "python",
   "pygments_lexer": "ipython3",
   "version": "3.12.4"
  }
 },
 "nbformat": 4,
 "nbformat_minor": 2
}
