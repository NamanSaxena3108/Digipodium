{
 "cells": [
  {
   "cell_type": "code",
   "execution_count": null,
   "metadata": {},
   "outputs": [],
   "source": [
    "from dputils.scrape import Scraper,Tag"
   ]
  },
  {
   "cell_type": "code",
   "execution_count": null,
   "metadata": {},
   "outputs": [],
   "source": [
    "def get_url_from_amazon(url):\n",
    "    sc=Scraper(url)\n",
    "    urlList=sc.get_repeating_date_from_page(\n",
    "        target=Tag('body'),                      #page div tag where we can find it complete block by inspecting\n",
    "        items=Tag('div',cls=\"s-result-item\"),    #Perticular detailed page  div tag where we can find it complete block by inspecting\n",
    "        url=Tag('a',cls=\"a-link-normal\",output=\"href\"),   #Link for opening the perticular page\n",
    "    )\n",
    "    return [item.get('url') for item in urlList if item.get('url')]"
   ]
  },
  {
   "cell_type": "code",
   "execution_count": null,
   "metadata": {},
   "outputs": [],
   "source": [
    "url=\"https://www.amazon.in/s?k=mobile&rh=n%3A1389401031&ref=nb_sb_noss\"\n",
    "get_url_from_amazon(url)"
   ]
  },
  {
   "cell_type": "markdown",
   "metadata": {},
   "source": [
    "# Database Setup"
   ]
  },
  {
   "cell_type": "code",
   "execution_count": null,
   "metadata": {},
   "outputs": [],
   "source": [
    "from sqlalchemy import create_engine\n",
    "from sqlalchemy.orm import sessionmaker,declarative_base\n",
    "from sqlalchemy import Column,Integer,String,Boolean\n",
    "Base=declarative_base()\n",
    "class Products(Base):\n",
    "    __tablename__='products'\n",
    "    id=Column(Integer,primary_key=True)\n",
    "    url=Column(String,unique=True)\n",
    "    title=Column(String)\n",
    "    sprice=Column(String)\n",
    "    oprice=Column(String)\n",
    "    reviews=Column(String)\n",
    "\n",
    "engine=create_engine('sqlite:///amazon.db')\n",
    "Base.metadata.create_all(engine)\n",
    "\n",
    "def opendb():\n",
    "    engine = create_engine('sqlite:///amazon.db')\n",
    "    Session = sessionmaker(bind=engine)\n",
    "    session = Session()\n",
    "    return session"
   ]
  },
  {
   "cell_type": "code",
   "execution_count": null,
   "metadata": {},
   "outputs": [],
   "source": [
    "def get_details_from_url(product_url):\n",
    "    if 'html' in product_url:\n",
    "        return None\n",
    "    if product_url.startswith('/'):\n",
    "        base_url=\"https://www.amazon.in\"\n",
    "        product_url = base_url + product_url\n",
    "    sc=Scraper(product_url)\n",
    "    product=sc.get_data_from_page(\n",
    "        name=Tag('h1',id='title'),\n",
    "        sprice=Tag('span',cls=\"priceToPay\"),\n",
    "        oprice=Tag('span',cls=\"basisPrice\"),\n",
    "        reviews=Tag('span',id=\"acrCustomerReviewText\")\n",
    "    )\n",
    "    return product"
   ]
  },
  {
   "cell_type": "code",
   "execution_count": null,
   "metadata": {},
   "outputs": [],
   "source": [
    "for product_url in get_url_from_amazon(url):\n",
    "    product=get_details_from_url(product_url)\n",
    "    if not product:\n",
    "        continue\n",
    "    if not product['name']:\n",
    "        continue\n",
    "    db=opendb()\n",
    "    item=Products(\n",
    "        url=product_url,\n",
    "        title = product['name'].strip(),\n",
    "        sprice = product['sprice'].strip(),\n",
    "        oprice = product['oprice'].strip(),\n",
    "        reviews = product['reviews'].strip(),\n",
    "    )\n",
    "    try:\n",
    "        db.add(item)\n",
    "        db.commit()\n",
    "    except:\n",
    "        print(\"Product details already in database\")\n",
    "    finally:\n",
    "        db.close()\n",
    "    print(\"Product details added to database\")"
   ]
  },
  {
   "cell_type": "code",
   "execution_count": null,
   "metadata": {},
   "outputs": [],
   "source": []
  }
 ],
 "metadata": {
  "kernelspec": {
   "display_name": "base",
   "language": "python",
   "name": "python3"
  },
  "language_info": {
   "codemirror_mode": {
    "name": "ipython",
    "version": 3
   },
   "file_extension": ".py",
   "mimetype": "text/x-python",
   "name": "python",
   "nbconvert_exporter": "python",
   "pygments_lexer": "ipython3",
   "version": "3.12.4"
  }
 },
 "nbformat": 4,
 "nbformat_minor": 2
}
