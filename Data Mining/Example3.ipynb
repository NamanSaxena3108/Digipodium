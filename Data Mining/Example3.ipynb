{
 "cells": [
  {
   "cell_type": "code",
   "execution_count": 1,
   "metadata": {},
   "outputs": [],
   "source": [
    "from dputils.scrape import Scraper,Tag"
   ]
  },
  {
   "cell_type": "code",
   "execution_count": 2,
   "metadata": {},
   "outputs": [],
   "source": [
    "def get_url_from_amazon(url):\n",
    "    sc=Scraper(url)\n",
    "    urlList=sc.get_repeating_date_from_page(\n",
    "        target=Tag('body'),                      #page div tag where we can find it complete block by inspecting\n",
    "        items=Tag('div',cls=\"s-result-item\"),    #Perticular detailed page  div tag where we can find it complete block by inspecting\n",
    "        url=Tag('a',cls=\"a-link-normal\",output=\"href\"),   #Link for opening the perticular page\n",
    "    )\n",
    "    return [item.get('url') for item in urlList if item.get('url')]"
   ]
  },
  {
   "cell_type": "code",
   "execution_count": null,
   "metadata": {},
   "outputs": [
    {
     "data": {
      "text/plain": [
       "['https://aax-eu.amazon.in/x/c/JPJuyZj_hpF4A0l_Huoh7goAAAGSKdkUYwMAAAH2AQBvbm9fdHhuX2JpZDIgICBvbm9fdHhuX2ltcDEgICAEWnrF/https://www.amazon.in/stores/page/0C5C124C-59FD-418F-A963-9C490E5DE884/?_encoding=UTF8&store_ref=SB_A08785361M9YL0FA20TME-A03236892D0VPPJFFD67K&pd_rd_plhdr=t&aaxitk=8f891704160c6e08fc6cfde21e548803&hsa_cr_id=0&lp_asins=B0BT9CXXXX%2CB0BT9FDZ8N&lp_query=mobile&lp_slot=auto-sparkle-hsa-tetris&ref_=sbx_be_s_sparkle_lsi4d_bkgd&pd_rd_w=KKGAF&content-id=amzn1.sym.df9fe057-524b-4172-ac34-9a1b3c4e647d%3Aamzn1.sym.df9fe057-524b-4172-ac34-9a1b3c4e647d&pf_rd_p=df9fe057-524b-4172-ac34-9a1b3c4e647d&pf_rd_r=MESYFFZ6RJ56XXXT8KX6&pd_rd_wg=hqQYn&pd_rd_r=bd8b6b8e-6b06-4bc1-a999-bc2c68779427',\n",
       " '/sspa/click?ie=UTF8&spc=MTo0MzU4MzY0MTYwMTY2MDU3OjE3MjcyNzg5NDU6c3BfYXRmOjMwMDM0Njc0NjQ3NDMzMjo6MDo6&url=%2FSamsung-Thunder-Storage-Snapdragon-Security%2Fdp%2FB0DG2GY6VZ%2Fref%3Dsr_1_1_sspa%3Fdib%3DeyJ2IjoiMSJ9.wQ9T254XRacqS5wcg7MgPNhdyyKbSw1jBV2BNvZT8M_tBOeepWYXG8dTbOq0eIPjTiDkV4DdxXva1afDM_dAgd1rCb-E_x5Nev0IR3i31GAp8wLIRIfUXNjmYoDXHrxV7ifaHWS3df6KDzUoj2Glmi1ry8J67AJzJPL1n_qBk3EvuTJP29o_3JbZb46T8R5sjsjkd9acX_r09KKnPW0cbL1Ft5K8kUIpAY5TgluQzmPjkjqFRelNvX5KQtcUCmD9h8w-EFh0mUJJHYIxNgNrocF_UP1KR5u7su363cvxhc8.FlqsMacsLLYQh4IEENrdIDiyUNaSTQB1PW9CYEm9594%26dib_tag%3Dse%26keywords%3Dmobile%26qid%3D1727278945%26s%3Delectronics%26sr%3D1-1-spons%26sp_csd%3Dd2lkZ2V0TmFtZT1zcF9hdGY%26psc%3D1',\n",
       " '/sspa/click?ie=UTF8&spc=MTo0MzU4MzY0MTYwMTY2MDU3OjE3MjcyNzg5NDU6c3BfYXRmOjMwMDM0NjYzNTMzMzEzMjo6MDo6&url=%2FiQOO-Titanium-Ultra-Thin-Dimesity-Processor%2Fdp%2FB07WHS99FG%2Fref%3Dsr_1_2_sspa%3Fdib%3DeyJ2IjoiMSJ9.wQ9T254XRacqS5wcg7MgPNhdyyKbSw1jBV2BNvZT8M_tBOeepWYXG8dTbOq0eIPjTiDkV4DdxXva1afDM_dAgd1rCb-E_x5Nev0IR3i31GAp8wLIRIfUXNjmYoDXHrxV7ifaHWS3df6KDzUoj2Glmi1ry8J67AJzJPL1n_qBk3EvuTJP29o_3JbZb46T8R5sjsjkd9acX_r09KKnPW0cbL1Ft5K8kUIpAY5TgluQzmPjkjqFRelNvX5KQtcUCmD9h8w-EFh0mUJJHYIxNgNrocF_UP1KR5u7su363cvxhc8.FlqsMacsLLYQh4IEENrdIDiyUNaSTQB1PW9CYEm9594%26dib_tag%3Dse%26keywords%3Dmobile%26qid%3D1727278945%26s%3Delectronics%26sr%3D1-2-spons%26sp_csd%3Dd2lkZ2V0TmFtZT1zcF9hdGY%26psc%3D1',\n",
       " '/gp/bestsellers/electronics/1805560031/ref=sr_bs_2_1805560031_1',\n",
       " '/Starfrost-Storage-Powered-MediaTek-Display/dp/B0CMTX362W/ref=sr_1_4?dib=eyJ2IjoiMSJ9.wQ9T254XRacqS5wcg7MgPNhdyyKbSw1jBV2BNvZT8M_tBOeepWYXG8dTbOq0eIPjTiDkV4DdxXva1afDM_dAgd1rCb-E_x5Nev0IR3i31GAp8wLIRIfUXNjmYoDXHrxV7ifaHWS3df6KDzUoj2Glmi1ry8J67AJzJPL1n_qBk3EvuTJP29o_3JbZb46T8R5sjsjkd9acX_r09KKnPW0cbL1Ft5K8kUIpAY5TgluQzmPjkjqFRelNvX5KQtcUCmD9h8w-EFh0mUJJHYIxNgNrocF_UP1KR5u7su363cvxhc8.FlqsMacsLLYQh4IEENrdIDiyUNaSTQB1PW9CYEm9594&dib_tag=se&keywords=mobile&qid=1727278945&s=electronics&sr=1-4',\n",
       " '/iQOO-Storage-Dimensity-Camera-Charger/dp/B07WHQS4LB/ref=sr_1_5?dib=eyJ2IjoiMSJ9.wQ9T254XRacqS5wcg7MgPNhdyyKbSw1jBV2BNvZT8M_tBOeepWYXG8dTbOq0eIPjTiDkV4DdxXva1afDM_dAgd1rCb-E_x5Nev0IR3i31GAp8wLIRIfUXNjmYoDXHrxV7ifaHWS3df6KDzUoj2Glmi1ry8J67AJzJPL1n_qBk3EvuTJP29o_3JbZb46T8R5sjsjkd9acX_r09KKnPW0cbL1Ft5K8kUIpAY5TgluQzmPjkjqFRelNvX5KQtcUCmD9h8w-EFh0mUJJHYIxNgNrocF_UP1KR5u7su363cvxhc8.FlqsMacsLLYQh4IEENrdIDiyUNaSTQB1PW9CYEm9594&dib_tag=se&keywords=mobile&qid=1727278945&s=electronics&sr=1-5',\n",
       " 'https://aax-eu.amazon.in/x/c/JOGjg3LUFRzIuqld-Ycx9RoAAAGSKdkUSQMAAAH2AQBvbm9fdHhuX2JpZDIgICBvbm9fdHhuX2ltcDEgICA2CFnG/https://www.amazon.in/dp/B0D78WCNZZ?pd_rd_i=B0D78WCNZZ&pf_rd_p=288d7cd9-bdfb-4778-882a-c15de0f76151&pf_rd_r=MESYFFZ6RJ56XXXT8KX6&pd_rd_wg=ZDeXw&pd_rd_w=u6fjK&pd_rd_r=1f5acee1-4d38-4345-b94d-e50d01a73aba',\n",
       " '/POCO-C65-Matte-Black-128GB/dp/B0CQG9N4Z3/ref=sr_1_6?dib=eyJ2IjoiMSJ9.wQ9T254XRacqS5wcg7MgPNhdyyKbSw1jBV2BNvZT8M_tBOeepWYXG8dTbOq0eIPjTiDkV4DdxXva1afDM_dAgd1rCb-E_x5Nev0IR3i31GAp8wLIRIfUXNjmYoDXHrxV7ifaHWS3df6KDzUoj2Glmi1ry8J67AJzJPL1n_qBk3EvuTJP29o_3JbZb46T8R5sjsjkd9acX_r09KKnPW0cbL1Ft5K8kUIpAY5TgluQzmPjkjqFRelNvX5KQtcUCmD9h8w-EFh0mUJJHYIxNgNrocF_UP1KR5u7su363cvxhc8.FlqsMacsLLYQh4IEENrdIDiyUNaSTQB1PW9CYEm9594&dib_tag=se&keywords=mobile&qid=1727278945&s=electronics&sr=1-6',\n",
       " '/POCO-C65-Pastel-Blue-128GB/dp/B0CQG4RX37/ref=sr_1_7?dib=eyJ2IjoiMSJ9.wQ9T254XRacqS5wcg7MgPNhdyyKbSw1jBV2BNvZT8M_tBOeepWYXG8dTbOq0eIPjTiDkV4DdxXva1afDM_dAgd1rCb-E_x5Nev0IR3i31GAp8wLIRIfUXNjmYoDXHrxV7ifaHWS3df6KDzUoj2Glmi1ry8J67AJzJPL1n_qBk3EvuTJP29o_3JbZb46T8R5sjsjkd9acX_r09KKnPW0cbL1Ft5K8kUIpAY5TgluQzmPjkjqFRelNvX5KQtcUCmD9h8w-EFh0mUJJHYIxNgNrocF_UP1KR5u7su363cvxhc8.FlqsMacsLLYQh4IEENrdIDiyUNaSTQB1PW9CYEm9594&dib_tag=se&keywords=mobile&qid=1727278945&s=electronics&sr=1-7',\n",
       " '/Redmi-Startrail-Storage-MediaTek-Dimensity/dp/B0CNX82VVQ/ref=sr_1_8?dib=eyJ2IjoiMSJ9.wQ9T254XRacqS5wcg7MgPNhdyyKbSw1jBV2BNvZT8M_tBOeepWYXG8dTbOq0eIPjTiDkV4DdxXva1afDM_dAgd1rCb-E_x5Nev0IR3i31GAp8wLIRIfUXNjmYoDXHrxV7ifaHWS3df6KDzUoj2Glmi1ry8J67AJzJPL1n_qBk3EvuTJP29o_3JbZb46T8R5sjsjkd9acX_r09KKnPW0cbL1Ft5K8kUIpAY5TgluQzmPjkjqFRelNvX5KQtcUCmD9h8w-EFh0mUJJHYIxNgNrocF_UP1KR5u7su363cvxhc8.FlqsMacsLLYQh4IEENrdIDiyUNaSTQB1PW9CYEm9594&dib_tag=se&keywords=mobile&qid=1727278945&s=electronics&sr=1-8',\n",
       " '/realme-Storage-Comfort-Resistance-48-Month/dp/B0D947DTLT/ref=sr_1_9?dib=eyJ2IjoiMSJ9.wQ9T254XRacqS5wcg7MgPNhdyyKbSw1jBV2BNvZT8M_tBOeepWYXG8dTbOq0eIPjTiDkV4DdxXva1afDM_dAgd1rCb-E_x5Nev0IR3i31GAp8wLIRIfUXNjmYoDXHrxV7ifaHWS3df6KDzUoj2Glmi1ry8J67AJzJPL1n_qBk3EvuTJP29o_3JbZb46T8R5sjsjkd9acX_r09KKnPW0cbL1Ft5K8kUIpAY5TgluQzmPjkjqFRelNvX5KQtcUCmD9h8w-EFh0mUJJHYIxNgNrocF_UP1KR5u7su363cvxhc8.FlqsMacsLLYQh4IEENrdIDiyUNaSTQB1PW9CYEm9594&dib_tag=se&keywords=mobile&qid=1727278945&s=electronics&sr=1-9',\n",
       " '/Starfrost-Storage-Powered-MediaTek-Display/dp/B0CMTY5P4V/ref=sr_1_10?dib=eyJ2IjoiMSJ9.wQ9T254XRacqS5wcg7MgPNhdyyKbSw1jBV2BNvZT8M_tBOeepWYXG8dTbOq0eIPjTiDkV4DdxXva1afDM_dAgd1rCb-E_x5Nev0IR3i31GAp8wLIRIfUXNjmYoDXHrxV7ifaHWS3df6KDzUoj2Glmi1ry8J67AJzJPL1n_qBk3EvuTJP29o_3JbZb46T8R5sjsjkd9acX_r09KKnPW0cbL1Ft5K8kUIpAY5TgluQzmPjkjqFRelNvX5KQtcUCmD9h8w-EFh0mUJJHYIxNgNrocF_UP1KR5u7su363cvxhc8.FlqsMacsLLYQh4IEENrdIDiyUNaSTQB1PW9CYEm9594&dib_tag=se&keywords=mobile&qid=1727278945&s=electronics&sr=1-10',\n",
       " '/realme-Leather-Storage-5000mAh-Durable/dp/B0D54DBLRV/ref=sr_1_11?dib=eyJ2IjoiMSJ9.wQ9T254XRacqS5wcg7MgPNhdyyKbSw1jBV2BNvZT8M_tBOeepWYXG8dTbOq0eIPjTiDkV4DdxXva1afDM_dAgd1rCb-E_x5Nev0IR3i31GAp8wLIRIfUXNjmYoDXHrxV7ifaHWS3df6KDzUoj2Glmi1ry8J67AJzJPL1n_qBk3EvuTJP29o_3JbZb46T8R5sjsjkd9acX_r09KKnPW0cbL1Ft5K8kUIpAY5TgluQzmPjkjqFRelNvX5KQtcUCmD9h8w-EFh0mUJJHYIxNgNrocF_UP1KR5u7su363cvxhc8.FlqsMacsLLYQh4IEENrdIDiyUNaSTQB1PW9CYEm9594&dib_tag=se&keywords=mobile&qid=1727278945&s=electronics&sr=1-11',\n",
       " '/POCO-C61-Ethereal-Blue-64GB/dp/B0CYBLHZPW/ref=sr_1_12?dib=eyJ2IjoiMSJ9.wQ9T254XRacqS5wcg7MgPNhdyyKbSw1jBV2BNvZT8M_tBOeepWYXG8dTbOq0eIPjTiDkV4DdxXva1afDM_dAgd1rCb-E_x5Nev0IR3i31GAp8wLIRIfUXNjmYoDXHrxV7ifaHWS3df6KDzUoj2Glmi1ry8J67AJzJPL1n_qBk3EvuTJP29o_3JbZb46T8R5sjsjkd9acX_r09KKnPW0cbL1Ft5K8kUIpAY5TgluQzmPjkjqFRelNvX5KQtcUCmD9h8w-EFh0mUJJHYIxNgNrocF_UP1KR5u7su363cvxhc8.FlqsMacsLLYQh4IEENrdIDiyUNaSTQB1PW9CYEm9594&dib_tag=se&keywords=mobile&qid=1727278945&s=electronics&sr=1-12',\n",
       " '/POCO-Pastel-Green-128GB-Storage/dp/B0CY299SKS/ref=sr_1_13?dib=eyJ2IjoiMSJ9.wQ9T254XRacqS5wcg7MgPNhdyyKbSw1jBV2BNvZT8M_tBOeepWYXG8dTbOq0eIPjTiDkV4DdxXva1afDM_dAgd1rCb-E_x5Nev0IR3i31GAp8wLIRIfUXNjmYoDXHrxV7ifaHWS3df6KDzUoj2Glmi1ry8J67AJzJPL1n_qBk3EvuTJP29o_3JbZb46T8R5sjsjkd9acX_r09KKnPW0cbL1Ft5K8kUIpAY5TgluQzmPjkjqFRelNvX5KQtcUCmD9h8w-EFh0mUJJHYIxNgNrocF_UP1KR5u7su363cvxhc8.FlqsMacsLLYQh4IEENrdIDiyUNaSTQB1PW9CYEm9594&dib_tag=se&keywords=mobile&qid=1727278945&s=electronics&sr=1-13',\n",
       " '/OnePlus-Super-Silver-128GB-Storage/dp/B0D5YCYS1G/ref=sr_1_14?dib=eyJ2IjoiMSJ9.wQ9T254XRacqS5wcg7MgPNhdyyKbSw1jBV2BNvZT8M_tBOeepWYXG8dTbOq0eIPjTiDkV4DdxXva1afDM_dAgd1rCb-E_x5Nev0IR3i31GAp8wLIRIfUXNjmYoDXHrxV7ifaHWS3df6KDzUoj2Glmi1ry8J67AJzJPL1n_qBk3EvuTJP29o_3JbZb46T8R5sjsjkd9acX_r09KKnPW0cbL1Ft5K8kUIpAY5TgluQzmPjkjqFRelNvX5KQtcUCmD9h8w-EFh0mUJJHYIxNgNrocF_UP1KR5u7su363cvxhc8.FlqsMacsLLYQh4IEENrdIDiyUNaSTQB1PW9CYEm9594&dib_tag=se&keywords=mobile&qid=1727278945&s=electronics&sr=1-14',\n",
       " '/sspa/click?ie=UTF8&spc=MTo0MzU4MzY0MTYwMTY2MDU3OjE3MjcyNzg5NDU6c3BfbXRmOjMwMDMzNjk5NTE4OTIzMjo6MDo6&url=%2Frealme-Segments-Dimensity-Motorsports-Inspired%2Fdp%2FB0DDTXJ2MX%2Fref%3Dsr_1_15_sspa%3Fdib%3DeyJ2IjoiMSJ9.wQ9T254XRacqS5wcg7MgPNhdyyKbSw1jBV2BNvZT8M_tBOeepWYXG8dTbOq0eIPjTiDkV4DdxXva1afDM_dAgd1rCb-E_x5Nev0IR3i31GAp8wLIRIfUXNjmYoDXHrxV7ifaHWS3df6KDzUoj2Glmi1ry8J67AJzJPL1n_qBk3EvuTJP29o_3JbZb46T8R5sjsjkd9acX_r09KKnPW0cbL1Ft5K8kUIpAY5TgluQzmPjkjqFRelNvX5KQtcUCmD9h8w-EFh0mUJJHYIxNgNrocF_UP1KR5u7su363cvxhc8.FlqsMacsLLYQh4IEENrdIDiyUNaSTQB1PW9CYEm9594%26dib_tag%3Dse%26keywords%3Dmobile%26qid%3D1727278945%26s%3Delectronics%26sr%3D1-15-spons%26sp_csd%3Dd2lkZ2V0TmFtZT1zcF9tdGY%26psc%3D1',\n",
       " '/sspa/click?ie=UTF8&spc=MTo0MzU4MzY0MTYwMTY2MDU3OjE3MjcyNzg5NDU6c3BfbXRmOjMwMDE0MTY1NTY3MzYzMjo6MDo6&url=%2FiQOO-Conqueror-Snapdragon-processor-Supercomputing%2Fdp%2FB07WFPLWFB%2Fref%3Dsr_1_16_sspa%3Fdib%3DeyJ2IjoiMSJ9.wQ9T254XRacqS5wcg7MgPNhdyyKbSw1jBV2BNvZT8M_tBOeepWYXG8dTbOq0eIPjTiDkV4DdxXva1afDM_dAgd1rCb-E_x5Nev0IR3i31GAp8wLIRIfUXNjmYoDXHrxV7ifaHWS3df6KDzUoj2Glmi1ry8J67AJzJPL1n_qBk3EvuTJP29o_3JbZb46T8R5sjsjkd9acX_r09KKnPW0cbL1Ft5K8kUIpAY5TgluQzmPjkjqFRelNvX5KQtcUCmD9h8w-EFh0mUJJHYIxNgNrocF_UP1KR5u7su363cvxhc8.FlqsMacsLLYQh4IEENrdIDiyUNaSTQB1PW9CYEm9594%26dib_tag%3Dse%26keywords%3Dmobile%26qid%3D1727278945%26s%3Delectronics%26sr%3D1-16-spons%26sp_csd%3Dd2lkZ2V0TmFtZT1zcF9tdGY%26psc%3D1',\n",
       " '/Motorola-Brilliant-Blue-128GB-Storage/dp/B0DDY9HMJG/ref=sr_1_17?dib=eyJ2IjoiMSJ9.wQ9T254XRacqS5wcg7MgPNhdyyKbSw1jBV2BNvZT8M_tBOeepWYXG8dTbOq0eIPjTiDkV4DdxXva1afDM_dAgd1rCb-E_x5Nev0IR3i31GAp8wLIRIfUXNjmYoDXHrxV7ifaHWS3df6KDzUoj2Glmi1ry8J67AJzJPL1n_qBk3EvuTJP29o_3JbZb46T8R5sjsjkd9acX_r09KKnPW0cbL1Ft5K8kUIpAY5TgluQzmPjkjqFRelNvX5KQtcUCmD9h8w-EFh0mUJJHYIxNgNrocF_UP1KR5u7su363cvxhc8.FlqsMacsLLYQh4IEENrdIDiyUNaSTQB1PW9CYEm9594&dib_tag=se&keywords=mobile&qid=1727278945&s=electronics&sr=1-17',\n",
       " '/Redmi-Starlight-Storage-MediaTek-Dimensity/dp/B0CNX89QR8/ref=sr_1_18?dib=eyJ2IjoiMSJ9.wQ9T254XRacqS5wcg7MgPNhdyyKbSw1jBV2BNvZT8M_tBOeepWYXG8dTbOq0eIPjTiDkV4DdxXva1afDM_dAgd1rCb-E_x5Nev0IR3i31GAp8wLIRIfUXNjmYoDXHrxV7ifaHWS3df6KDzUoj2Glmi1ry8J67AJzJPL1n_qBk3EvuTJP29o_3JbZb46T8R5sjsjkd9acX_r09KKnPW0cbL1Ft5K8kUIpAY5TgluQzmPjkjqFRelNvX5KQtcUCmD9h8w-EFh0mUJJHYIxNgNrocF_UP1KR5u7su363cvxhc8.FlqsMacsLLYQh4IEENrdIDiyUNaSTQB1PW9CYEm9594&dib_tag=se&keywords=mobile&qid=1727278945&s=electronics&sr=1-18',\n",
       " '/Redmi-Startrail-Storage-MediaTek-Dimensity/dp/B0CNX6WVG5/ref=sr_1_19?dib=eyJ2IjoiMSJ9.wQ9T254XRacqS5wcg7MgPNhdyyKbSw1jBV2BNvZT8M_tBOeepWYXG8dTbOq0eIPjTiDkV4DdxXva1afDM_dAgd1rCb-E_x5Nev0IR3i31GAp8wLIRIfUXNjmYoDXHrxV7ifaHWS3df6KDzUoj2Glmi1ry8J67AJzJPL1n_qBk3EvuTJP29o_3JbZb46T8R5sjsjkd9acX_r09KKnPW0cbL1Ft5K8kUIpAY5TgluQzmPjkjqFRelNvX5KQtcUCmD9h8w-EFh0mUJJHYIxNgNrocF_UP1KR5u7su363cvxhc8.FlqsMacsLLYQh4IEENrdIDiyUNaSTQB1PW9CYEm9594&dib_tag=se&keywords=mobile&qid=1727278945&s=electronics&sr=1-19',\n",
       " '/POCO-Orion-Blue-128GB-Storage/dp/B0CQVRKCSY/ref=sr_1_20?dib=eyJ2IjoiMSJ9.wQ9T254XRacqS5wcg7MgPNhdyyKbSw1jBV2BNvZT8M_tBOeepWYXG8dTbOq0eIPjTiDkV4DdxXva1afDM_dAgd1rCb-E_x5Nev0IR3i31GAp8wLIRIfUXNjmYoDXHrxV7ifaHWS3df6KDzUoj2Glmi1ry8J67AJzJPL1n_qBk3EvuTJP29o_3JbZb46T8R5sjsjkd9acX_r09KKnPW0cbL1Ft5K8kUIpAY5TgluQzmPjkjqFRelNvX5KQtcUCmD9h8w-EFh0mUJJHYIxNgNrocF_UP1KR5u7su363cvxhc8.FlqsMacsLLYQh4IEENrdIDiyUNaSTQB1PW9CYEm9594&dib_tag=se&keywords=mobile&qid=1727278945&s=electronics&sr=1-20',\n",
       " '/iQOO-Titanium-Ultra-Thin-Dimesity-Processor/dp/B07WHS99FG/ref=sr_1_21?dib=eyJ2IjoiMSJ9.wQ9T254XRacqS5wcg7MgPNhdyyKbSw1jBV2BNvZT8M_tBOeepWYXG8dTbOq0eIPjTiDkV4DdxXva1afDM_dAgd1rCb-E_x5Nev0IR3i31GAp8wLIRIfUXNjmYoDXHrxV7ifaHWS3df6KDzUoj2Glmi1ry8J67AJzJPL1n_qBk3EvuTJP29o_3JbZb46T8R5sjsjkd9acX_r09KKnPW0cbL1Ft5K8kUIpAY5TgluQzmPjkjqFRelNvX5KQtcUCmD9h8w-EFh0mUJJHYIxNgNrocF_UP1KR5u7su363cvxhc8.FlqsMacsLLYQh4IEENrdIDiyUNaSTQB1PW9CYEm9594&dib_tag=se&keywords=mobile&qid=1727278945&s=electronics&sr=1-21',\n",
       " '/OnePlus-Nord-Chromatic-128GB-Storage/dp/B0BY8MCQ9S/ref=sr_1_22?dib=eyJ2IjoiMSJ9.wQ9T254XRacqS5wcg7MgPNhdyyKbSw1jBV2BNvZT8M_tBOeepWYXG8dTbOq0eIPjTiDkV4DdxXva1afDM_dAgd1rCb-E_x5Nev0IR3i31GAp8wLIRIfUXNjmYoDXHrxV7ifaHWS3df6KDzUoj2Glmi1ry8J67AJzJPL1n_qBk3EvuTJP29o_3JbZb46T8R5sjsjkd9acX_r09KKnPW0cbL1Ft5K8kUIpAY5TgluQzmPjkjqFRelNvX5KQtcUCmD9h8w-EFh0mUJJHYIxNgNrocF_UP1KR5u7su363cvxhc8.FlqsMacsLLYQh4IEENrdIDiyUNaSTQB1PW9CYEm9594&dib_tag=se&keywords=mobile&qid=1727278945&s=electronics&sr=1-22',\n",
       " '/Starshine-Storage-Powered-MediaTek-Display/dp/B0CMTWJ5RV/ref=sr_1_23?dib=eyJ2IjoiMSJ9.wQ9T254XRacqS5wcg7MgPNhdyyKbSw1jBV2BNvZT8M_tBOeepWYXG8dTbOq0eIPjTiDkV4DdxXva1afDM_dAgd1rCb-E_x5Nev0IR3i31GAp8wLIRIfUXNjmYoDXHrxV7ifaHWS3df6KDzUoj2Glmi1ry8J67AJzJPL1n_qBk3EvuTJP29o_3JbZb46T8R5sjsjkd9acX_r09KKnPW0cbL1Ft5K8kUIpAY5TgluQzmPjkjqFRelNvX5KQtcUCmD9h8w-EFh0mUJJHYIxNgNrocF_UP1KR5u7su363cvxhc8.FlqsMacsLLYQh4IEENrdIDiyUNaSTQB1PW9CYEm9594&dib_tag=se&keywords=mobile&qid=1727278945&s=electronics&sr=1-23',\n",
       " '/OnePlus-11R-Solar-128GB-Storage/dp/B0CZDV8P9T/ref=sr_1_24?dib=eyJ2IjoiMSJ9.wQ9T254XRacqS5wcg7MgPNhdyyKbSw1jBV2BNvZT8M_tBOeepWYXG8dTbOq0eIPjTiDkV4DdxXva1afDM_dAgd1rCb-E_x5Nev0IR3i31GAp8wLIRIfUXNjmYoDXHrxV7ifaHWS3df6KDzUoj2Glmi1ry8J67AJzJPL1n_qBk3EvuTJP29o_3JbZb46T8R5sjsjkd9acX_r09KKnPW0cbL1Ft5K8kUIpAY5TgluQzmPjkjqFRelNvX5KQtcUCmD9h8w-EFh0mUJJHYIxNgNrocF_UP1KR5u7su363cvxhc8.FlqsMacsLLYQh4IEENrdIDiyUNaSTQB1PW9CYEm9594&dib_tag=se&keywords=mobile&qid=1727278945&s=electronics&sr=1-24',\n",
       " '/Samsung-Galaxy-Jazzy-Green-Storage/dp/B0CY8D33MQ/ref=sr_1_25?dib=eyJ2IjoiMSJ9.wQ9T254XRacqS5wcg7MgPNhdyyKbSw1jBV2BNvZT8M_tBOeepWYXG8dTbOq0eIPjTiDkV4DdxXva1afDM_dAgd1rCb-E_x5Nev0IR3i31GAp8wLIRIfUXNjmYoDXHrxV7ifaHWS3df6KDzUoj2Glmi1ry8J67AJzJPL1n_qBk3EvuTJP29o_3JbZb46T8R5sjsjkd9acX_r09KKnPW0cbL1Ft5K8kUIpAY5TgluQzmPjkjqFRelNvX5KQtcUCmD9h8w-EFh0mUJJHYIxNgNrocF_UP1KR5u7su363cvxhc8.FlqsMacsLLYQh4IEENrdIDiyUNaSTQB1PW9CYEm9594&dib_tag=se&keywords=mobile&qid=1727278945&s=electronics&sr=1-25',\n",
       " '/realme-Storage-Comfort-Resistance-48-Month/dp/B0D945V84N/ref=sr_1_26?dib=eyJ2IjoiMSJ9.wQ9T254XRacqS5wcg7MgPNhdyyKbSw1jBV2BNvZT8M_tBOeepWYXG8dTbOq0eIPjTiDkV4DdxXva1afDM_dAgd1rCb-E_x5Nev0IR3i31GAp8wLIRIfUXNjmYoDXHrxV7ifaHWS3df6KDzUoj2Glmi1ry8J67AJzJPL1n_qBk3EvuTJP29o_3JbZb46T8R5sjsjkd9acX_r09KKnPW0cbL1Ft5K8kUIpAY5TgluQzmPjkjqFRelNvX5KQtcUCmD9h8w-EFh0mUJJHYIxNgNrocF_UP1KR5u7su363cvxhc8.FlqsMacsLLYQh4IEENrdIDiyUNaSTQB1PW9CYEm9594&dib_tag=se&keywords=mobile&qid=1727278945&s=electronics&sr=1-26',\n",
       " '/Samsung-Galaxy-F15-Black-Storage/dp/B0CY8FR4R7/ref=sr_1_27?dib=eyJ2IjoiMSJ9.wQ9T254XRacqS5wcg7MgPNhdyyKbSw1jBV2BNvZT8M_tBOeepWYXG8dTbOq0eIPjTiDkV4DdxXva1afDM_dAgd1rCb-E_x5Nev0IR3i31GAp8wLIRIfUXNjmYoDXHrxV7ifaHWS3df6KDzUoj2Glmi1ry8J67AJzJPL1n_qBk3EvuTJP29o_3JbZb46T8R5sjsjkd9acX_r09KKnPW0cbL1Ft5K8kUIpAY5TgluQzmPjkjqFRelNvX5KQtcUCmD9h8w-EFh0mUJJHYIxNgNrocF_UP1KR5u7su363cvxhc8.FlqsMacsLLYQh4IEENrdIDiyUNaSTQB1PW9CYEm9594&dib_tag=se&keywords=mobile&qid=1727278945&s=electronics&sr=1-27',\n",
       " '/Motorola-Brilliant-Green-128GB-Storage/dp/B0DDYBQWLW/ref=sr_1_28?dib=eyJ2IjoiMSJ9.wQ9T254XRacqS5wcg7MgPNhdyyKbSw1jBV2BNvZT8M_tBOeepWYXG8dTbOq0eIPjTiDkV4DdxXva1afDM_dAgd1rCb-E_x5Nev0IR3i31GAp8wLIRIfUXNjmYoDXHrxV7ifaHWS3df6KDzUoj2Glmi1ry8J67AJzJPL1n_qBk3EvuTJP29o_3JbZb46T8R5sjsjkd9acX_r09KKnPW0cbL1Ft5K8kUIpAY5TgluQzmPjkjqFRelNvX5KQtcUCmD9h8w-EFh0mUJJHYIxNgNrocF_UP1KR5u7su363cvxhc8.FlqsMacsLLYQh4IEENrdIDiyUNaSTQB1PW9CYEm9594&dib_tag=se&keywords=mobile&qid=1727278945&s=electronics&sr=1-28',\n",
       " '/sspa/click?ie=UTF8&spc=MTo0MzU4MzY0MTYwMTY2MDU3OjE3MjcyNzg5NDU6c3BfYnRmOjMwMDI5NTc4MDE0NTczMjo6MDo6&url=%2FRedmi-Orchid-Largest-Display-Segment%2Fdp%2FB0D78W2HF5%2Fref%3Dsr_1_29_sspa%3Fdib%3DeyJ2IjoiMSJ9.wQ9T254XRacqS5wcg7MgPNhdyyKbSw1jBV2BNvZT8M_tBOeepWYXG8dTbOq0eIPjTiDkV4DdxXva1afDM_dAgd1rCb-E_x5Nev0IR3i31GAp8wLIRIfUXNjmYoDXHrxV7ifaHWS3df6KDzUoj2Glmi1ry8J67AJzJPL1n_qBk3EvuTJP29o_3JbZb46T8R5sjsjkd9acX_r09KKnPW0cbL1Ft5K8kUIpAY5TgluQzmPjkjqFRelNvX5KQtcUCmD9h8w-EFh0mUJJHYIxNgNrocF_UP1KR5u7su363cvxhc8.FlqsMacsLLYQh4IEENrdIDiyUNaSTQB1PW9CYEm9594%26dib_tag%3Dse%26keywords%3Dmobile%26qid%3D1727278945%26s%3Delectronics%26sr%3D1-29-spons%26sp_csd%3Dd2lkZ2V0TmFtZT1zcF9idGY%26psc%3D1',\n",
       " '/sspa/click?ie=UTF8&spc=MTo0MzU4MzY0MTYwMTY2MDU3OjE3MjcyNzg5NDU6c3BfYnRmOjMwMDExODY0NjI2NDczMjo6MDo6&url=%2FRedmi-Stealth-Bezel-Less-Slimmest-Pro-Grade%2Fdp%2FB0CQPHMWR3%2Fref%3Dsr_1_30_sspa%3Fdib%3DeyJ2IjoiMSJ9.wQ9T254XRacqS5wcg7MgPNhdyyKbSw1jBV2BNvZT8M_tBOeepWYXG8dTbOq0eIPjTiDkV4DdxXva1afDM_dAgd1rCb-E_x5Nev0IR3i31GAp8wLIRIfUXNjmYoDXHrxV7ifaHWS3df6KDzUoj2Glmi1ry8J67AJzJPL1n_qBk3EvuTJP29o_3JbZb46T8R5sjsjkd9acX_r09KKnPW0cbL1Ft5K8kUIpAY5TgluQzmPjkjqFRelNvX5KQtcUCmD9h8w-EFh0mUJJHYIxNgNrocF_UP1KR5u7su363cvxhc8.FlqsMacsLLYQh4IEENrdIDiyUNaSTQB1PW9CYEm9594%26dib_tag%3Dse%26keywords%3Dmobile%26qid%3D1727278945%26s%3Delectronics%26sr%3D1-30-spons%26sp_csd%3Dd2lkZ2V0TmFtZT1zcF9idGY%26psc%3D1',\n",
       " 'https://aax-eu.amazon.in/x/c/JPWi3SCtJELAFQ2W0j0_TfkAAAGSKdkURAMAAAH2AQBvbm9fdHhuX2JpZDEgICBvbm9fdHhuX2ltcDEgICCMS7Ix/https://www.amazon.in/dp/B0797ZP4ZV?pd_rd_i=B0797ZP4ZV&pf_rd_p=3353ca56-2043-45f1-9c2e-99dccef31d9d&pf_rd_r=MESYFFZ6RJ56XXXT8KX6&pd_rd_wg=M4Y0w&pd_rd_w=TFJCV&pd_rd_r=380c23a8-0b2c-46bc-ba20-fd0a481b22a6',\n",
       " 'https://aax-eu.amazon.in/x/c/JN7OOi9K1SjleAf9ywGapI4AAAGSKdkVIwMAAAH2AQBvbm9fdHhuX2JpZDIgICBvbm9fdHhuX2ltcDEgICASAy3v/https://www.amazon.in/stores/page/0C5C124C-59FD-418F-A963-9C490E5DE884/?_encoding=UTF8&store_ref=SB_A08785361M9YL0FA20TME-A03236892D0VPPJFFD67K&pd_rd_plhdr=t&aaxitk=8f891704160c6e08fc6cfde21e548803&hsa_cr_id=0&lp_asins=B0BT9CXXXX%2CB0BT9FDZ8N&lp_query=mobile&lp_slot=desktop-hsa-3psl&ref_=sbx_be_s_3psl_mbd_mb0_bkgd&pd_rd_w=vJLUE&content-id=amzn1.sym.f1a4d09d-a292-48da-a86f-03294c9a41ef%3Aamzn1.sym.f1a4d09d-a292-48da-a86f-03294c9a41ef&pf_rd_p=f1a4d09d-a292-48da-a86f-03294c9a41ef&pf_rd_r=MESYFFZ6RJ56XXXT8KX6&pd_rd_wg=klFIY&pd_rd_r=0663e964-1d0f-4087-a5ef-2cb653458012',\n",
       " '/gp/help/customer/display.html?nodeId=201889520']"
      ]
     },
     "execution_count": 3,
     "metadata": {},
     "output_type": "execute_result"
    }
   ],
   "source": [
    "url=\"https://www.amazon.in/s?k=mobile&rh=n%3A1389401031&ref=nb_sb_noss\"\n",
    "get_url_from_amazon(url)"
   ]
  },
  {
   "cell_type": "markdown",
   "metadata": {},
   "source": [
    "# Database Setup"
   ]
  },
  {
   "cell_type": "code",
   "execution_count": 4,
   "metadata": {},
   "outputs": [],
   "source": [
    "from sqlalchemy import create_engine\n",
    "from sqlalchemy.orm import sessionmaker,declarative_base\n",
    "from sqlalchemy import Column,Integer,String,Boolean\n",
    "Base=declarative_base()\n",
    "class Products(Base):\n",
    "    __tablename__='products'\n",
    "    id=Column(Integer,primary_key=True)\n",
    "    url=Column(String,unique=True)\n",
    "    title=Column(String)\n",
    "    sprice=Column(String)\n",
    "    oprice=Column(String)\n",
    "    reviews=Column(String)\n",
    "\n",
    "engine=create_engine('sqlite:///amazon.db')\n",
    "Base.metadata.create_all(engine)\n",
    "\n",
    "def opendb():\n",
    "    engine = create_engine('sqlite:///amazon.db')\n",
    "    Session = sessionmaker(bind=engine)\n",
    "    session = Session()\n",
    "    return session"
   ]
  },
  {
   "cell_type": "code",
   "execution_count": 5,
   "metadata": {},
   "outputs": [],
   "source": [
    "def get_details_from_url(product_url):\n",
    "    if 'html' in product_url:\n",
    "        return None\n",
    "    if product_url.startswith('/'):\n",
    "        base_url=\"https://www.amazon.in\"\n",
    "        product_url = base_url + product_url\n",
    "    sc=Scraper(product_url)\n",
    "    product=sc.get_data_from_page(\n",
    "        name=Tag('h1',id='title'),\n",
    "        sprice=Tag('span',cls=\"priceToPay\"),\n",
    "        oprice=Tag('span',cls=\"basisPrice\"),\n",
    "        reviews=Tag('span',id=\"acrCustomerReviewText\")\n",
    "    )\n",
    "    return product"
   ]
  },
  {
   "cell_type": "code",
   "execution_count": 6,
   "metadata": {},
   "outputs": [
    {
     "name": "stdout",
     "output_type": "stream",
     "text": [
      "Product details added to database\n",
      "Product details added to database\n",
      "Product details added to database\n",
      "Product details added to database\n",
      "Product details added to database\n",
      "Product details added to database\n",
      "Product details added to database\n",
      "Product details added to database\n",
      "Product details added to database\n",
      "Product details added to database\n",
      "Product details added to database\n",
      "Product details added to database\n",
      "Product details added to database\n",
      "Product details added to database\n",
      "Product details added to database\n",
      "Product details added to database\n",
      "Product details added to database\n",
      "Product details added to database\n"
     ]
    }
   ],
   "source": [
    "for product_url in get_url_from_amazon(url):\n",
    "    product=get_details_from_url(product_url)\n",
    "    if not product:\n",
    "        continue\n",
    "    if not product['name']:\n",
    "        continue\n",
    "    db=opendb()\n",
    "    item=Products(\n",
    "        url=product_url,\n",
    "        title = product['name'].strip(),\n",
    "        sprice = product['sprice'].strip(),\n",
    "        oprice = product['oprice'].strip(),\n",
    "        reviews = product['reviews'].strip(),\n",
    "    )\n",
    "    try:\n",
    "        db.add(item)\n",
    "        db.commit()\n",
    "    except:\n",
    "        print(\"Product details already in database\")\n",
    "    finally:\n",
    "        db.close()\n",
    "    print(\"Product details added to database\")"
   ]
  },
  {
   "cell_type": "code",
   "execution_count": null,
   "metadata": {},
   "outputs": [],
   "source": []
  }
 ],
 "metadata": {
  "kernelspec": {
   "display_name": "base",
   "language": "python",
   "name": "python3"
  },
  "language_info": {
   "codemirror_mode": {
    "name": "ipython",
    "version": 3
   },
   "file_extension": ".py",
   "mimetype": "text/x-python",
   "name": "python",
   "nbconvert_exporter": "python",
   "pygments_lexer": "ipython3",
   "version": "3.12.4"
  }
 },
 "nbformat": 4,
 "nbformat_minor": 2
}
