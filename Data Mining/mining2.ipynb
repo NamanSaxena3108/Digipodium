{
 "cells": [
  {
   "cell_type": "code",
   "execution_count": 9,
   "metadata": {},
   "outputs": [],
   "source": [
    "from dputils.scrape import Scraper,Tag"
   ]
  },
  {
   "cell_type": "code",
   "execution_count": 22,
   "metadata": {},
   "outputs": [
    {
     "data": {
      "text/plain": [
       "'https://www.amazon.in/Acer-i7-1255U-Premium-AL15-52-Keyboard/dp/B0D4VPTMD5/ref=sr_1_4?crid=1DZGNO5IER2U0&dib=eyJ2IjoiMSJ9.hCefk9gWpfUFcwI9Z_X1M0j-uxJa6A5hOYHD_XmwBm82lmD5fOGEi-E8EN73hts4Gr9DaOAJlaDnTrYsR-dg3_xjwwOKsdJHIm1mVFvVOqVsT0gbQvAF-f5SxnpYUvVQ32vrn39KrNR78hMpnOOUOG_wdhk_PUEhsGHL22u4x2rt59tAfgWd6VMYYLJtslh20LXvFprvjxZL3xdjGQazh9D96LxSSyqxaxI9Q-4EqHZOxVNfLltBo56rAgX2nQmFL26cuLUjDgJGsawDV0rikax-OSa1pkGJI07b1dapmtc.AbUm4TfvK_7iLGQYAlGyRJ7qZ0JLRwLyNlmswcdmsAY&dib_tag=se&keywords=laptop+with+i7+13th+gen+processor&qid=1727188410&refinements=p_36%3A-8560000%2Cp_89%3AASUS%7CAcer%7CDell%7CLenovo%7CSamsung%2Cp_n_condition-type%3A8609960031%2Cp_n_feature_thirteen_browse-bin%3A12598163031&rnid=12598141031&s=computers&sprefix=laptop+with+i7+%2Caps%2C299&sr=1-4'"
      ]
     },
     "execution_count": 22,
     "metadata": {},
     "output_type": "execute_result"
    }
   ],
   "source": [
    "url=\"https://www.amazon.in/Acer-i7-1255U-Premium-AL15-52-Keyboard/dp/B0D4VPTMD5/ref=sr_1_4?crid=1DZGNO5IER2U0&dib=eyJ2IjoiMSJ9.hCefk9gWpfUFcwI9Z_X1M0j-uxJa6A5hOYHD_XmwBm82lmD5fOGEi-E8EN73hts4Gr9DaOAJlaDnTrYsR-dg3_xjwwOKsdJHIm1mVFvVOqVsT0gbQvAF-f5SxnpYUvVQ32vrn39KrNR78hMpnOOUOG_wdhk_PUEhsGHL22u4x2rt59tAfgWd6VMYYLJtslh20LXvFprvjxZL3xdjGQazh9D96LxSSyqxaxI9Q-4EqHZOxVNfLltBo56rAgX2nQmFL26cuLUjDgJGsawDV0rikax-OSa1pkGJI07b1dapmtc.AbUm4TfvK_7iLGQYAlGyRJ7qZ0JLRwLyNlmswcdmsAY&dib_tag=se&keywords=laptop+with+i7+13th+gen+processor&qid=1727188410&refinements=p_36%3A-8560000%2Cp_89%3AASUS%7CAcer%7CDell%7CLenovo%7CSamsung%2Cp_n_condition-type%3A8609960031%2Cp_n_feature_thirteen_browse-bin%3A12598163031&rnid=12598141031&s=computers&sprefix=laptop+with+i7+%2Caps%2C299&sr=1-4\"\n",
    "sc=Scraper(url)\n",
    "sc.url"
   ]
  },
  {
   "cell_type": "code",
   "execution_count": null,
   "metadata": {},
   "outputs": [],
   "source": [
    "print(sc.soup.text)"
   ]
  },
  {
   "cell_type": "code",
   "execution_count": 44,
   "metadata": {},
   "outputs": [
    {
     "data": {
      "text/plain": [
       "{'title': '        Acer Aspire Lite 12th Gen Intel Core i7-1255U Premium Metal Laptop (Win11 Home/16 GB RAM/1 TB SSD/MS Office) AL15-52, 39.62cm (15.6\") Full HD Display, Metal Body, Backlit Keyboard, Steel Gray, 1.59KG       ',\n",
       " 'price': '55,990.',\n",
       " 'discount': '-30%',\n",
       " 'deal': ' Kickstarter deal ',\n",
       " 'image': 'https://m.media-amazon.com/images/I/41urguBZTeL._SX300_SY300_QL70_ML2_.jpg'}"
      ]
     },
     "execution_count": 44,
     "metadata": {},
     "output_type": "execute_result"
    }
   ],
   "source": [
    "title=Tag('span',cls=\"a-size-large product-title-word-break\")\n",
    "price=Tag('span',cls=\"a-price-whole\")\n",
    "discount=Tag('span',cls=\"a-size-large a-color-price savingPriceOverride aok-align-center reinventPriceSavingsPercentageMargin savingsPercentage\")\n",
    "prime=Tag('span',cls=\"a-size-small dealBadgeTextColor a-text-bold\")\n",
    "image=Tag('img',cls=\"a-dynamic-image a-stretch-vertical\",output='src')\n",
    "sc.get_data_from_page(title=title,\n",
    "                      price=price,\n",
    "                      discount=discount,\n",
    "                      deal=prime,\n",
    "                      image=image)"
   ]
  },
  {
   "cell_type": "code",
   "execution_count": null,
   "metadata": {},
   "outputs": [],
   "source": []
  }
 ],
 "metadata": {
  "kernelspec": {
   "display_name": "base",
   "language": "python",
   "name": "python3"
  },
  "language_info": {
   "codemirror_mode": {
    "name": "ipython",
    "version": 3
   },
   "file_extension": ".py",
   "mimetype": "text/x-python",
   "name": "python",
   "nbconvert_exporter": "python",
   "pygments_lexer": "ipython3",
   "version": "3.12.7"
  }
 },
 "nbformat": 4,
 "nbformat_minor": 2
}
