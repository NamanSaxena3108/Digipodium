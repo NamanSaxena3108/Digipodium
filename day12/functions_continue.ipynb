{
 "cells": [
  {
   "cell_type": "markdown",
   "metadata": {},
   "source": [
    "### User defined Functions\n",
    "- resuable code\n",
    "- easy to debug\n",
    "- make code verbose"
   ]
  },
  {
   "cell_type": "code",
   "execution_count": 11,
   "metadata": {},
   "outputs": [],
   "source": [
    "#declaration\n",
    "def calculate_area(length,width):\n",
    "    area=length*width\n",
    "    return area"
   ]
  },
  {
   "cell_type": "code",
   "execution_count": 12,
   "metadata": {},
   "outputs": [
    {
     "data": {
      "text/plain": [
       "5000"
      ]
     },
     "execution_count": 12,
     "metadata": {},
     "output_type": "execute_result"
    }
   ],
   "source": [
    "#use == call\n",
    "calculate_area(100,50)"
   ]
  },
  {
   "cell_type": "markdown",
   "metadata": {},
   "source": [
    "### Types of Functions\n",
    "1. non parameterized\n",
    "2. on basis of return\n",
    "    1. non-return type\n",
    "    2. return type\n",
    "3. on the basis of parameter\n",
    "    1. required parameter\n",
    "    2. default parameter\n",
    "    3. variable length \n",
    "    4. keyword variable length\n",
    "4. anonymous function(lambda function) "
   ]
  },
  {
   "cell_type": "code",
   "execution_count": 13,
   "metadata": {},
   "outputs": [],
   "source": [
    "def roll_dice():\n",
    "    import random\n",
    "    print(f\"Rolled {random.randint(1,6)}\")"
   ]
  },
  {
   "cell_type": "code",
   "execution_count": 14,
   "metadata": {},
   "outputs": [
    {
     "name": "stdout",
     "output_type": "stream",
     "text": [
      "Rolled 2\n"
     ]
    }
   ],
   "source": [
    "roll_dice()"
   ]
  },
  {
   "cell_type": "code",
   "execution_count": 15,
   "metadata": {},
   "outputs": [],
   "source": [
    "def count_files_in_current_files():\n",
    "    import os\n",
    "    size=len(os.listdir())\n",
    "    print(f\"Folder:{os.getcwd().split('/')[-1]}\")\n",
    "    print(f\"Total files in folder{size}\")"
   ]
  },
  {
   "cell_type": "code",
   "execution_count": 16,
   "metadata": {},
   "outputs": [
    {
     "name": "stdout",
     "output_type": "stream",
     "text": [
      "Folder:c:\\Users\\win-10\\Documents\\day12\n",
      "Total files in folder1\n"
     ]
    }
   ],
   "source": [
    "count_files_in_current_files()"
   ]
  },
  {
   "cell_type": "code",
   "execution_count": 17,
   "metadata": {},
   "outputs": [],
   "source": [
    "def word_count(sentence):\n",
    "    words=sentence.split()\n",
    "    return len(words)"
   ]
  },
  {
   "cell_type": "code",
   "execution_count": 18,
   "metadata": {},
   "outputs": [
    {
     "name": "stdout",
     "output_type": "stream",
     "text": [
      "5\n",
      "4\n",
      "9\n"
     ]
    }
   ],
   "source": [
    "c=word_count('hi my name is naman')\n",
    "print(c)\n",
    "\n",
    "c2=word_count('we are learnin python')\n",
    "print(c2)\n",
    "\n",
    "print(c+c2)"
   ]
  },
  {
   "cell_type": "code",
   "execution_count": 19,
   "metadata": {},
   "outputs": [
    {
     "name": "stdout",
     "output_type": "stream",
     "text": [
      "392.69908169872417\n"
     ]
    }
   ],
   "source": [
    "def area_of_circle(radius):\n",
    "    import math\n",
    "    area=math.pi*radius**2\n",
    "    return area\n",
    "\n",
    "print(area_of_circle(5)+area_of_circle(10))"
   ]
  },
  {
   "cell_type": "code",
   "execution_count": 20,
   "metadata": {},
   "outputs": [],
   "source": [
    "def task(item,action):\n",
    "    if action=='count':\n",
    "        return len(item)\n",
    "    elif action=='sum':\n",
    "        return sum(item)\n",
    "    elif action=='mean':\n",
    "        return sum(item)/len(item)\n",
    "    else:\n",
    "        return \"Invalid function\""
   ]
  },
  {
   "cell_type": "code",
   "execution_count": 21,
   "metadata": {},
   "outputs": [
    {
     "name": "stdout",
     "output_type": "stream",
     "text": [
      "3 124\n"
     ]
    }
   ],
   "source": [
    "t1=task([23,45,56],'count')\n",
    "t2=task([23,45,56],'sum')\n",
    "print(t1,t2)"
   ]
  },
  {
   "cell_type": "code",
   "execution_count": 22,
   "metadata": {},
   "outputs": [],
   "source": [
    "def get_stats(numList):\n",
    "    size=len(numList)\n",
    "    total=sum(numList)\n",
    "    mean=total/size\n",
    "    mx=max(numList)\n",
    "    mn=min(numList)\n",
    "    return size,total,mean,mx,mn"
   ]
  },
  {
   "cell_type": "code",
   "execution_count": 23,
   "metadata": {},
   "outputs": [
    {
     "data": {
      "text/plain": [
       "(6, 18, 3.0, 6, 1)"
      ]
     },
     "execution_count": 23,
     "metadata": {},
     "output_type": "execute_result"
    }
   ],
   "source": [
    "get_stats([1,2,3,5,6,1])"
   ]
  },
  {
   "cell_type": "code",
   "execution_count": 24,
   "metadata": {},
   "outputs": [],
   "source": [
    "def get_stats(numList):\n",
    "    size=len(numList)\n",
    "    total=sum(numList)\n",
    "    mean=total/size\n",
    "    mx=max(numList)\n",
    "    mn=min(numList)\n",
    "    return {\n",
    "        'size':size,'total':total,'mean':mean,'max':mx,'min':mn\n",
    "    }"
   ]
  },
  {
   "cell_type": "code",
   "execution_count": 25,
   "metadata": {},
   "outputs": [
    {
     "data": {
      "text/plain": [
       "{'size': 6, 'total': 18, 'mean': 3.0, 'max': 6, 'min': 1}"
      ]
     },
     "execution_count": 25,
     "metadata": {},
     "output_type": "execute_result"
    }
   ],
   "source": [
    "get_stats([1,2,3,5,6,1])"
   ]
  },
  {
   "cell_type": "code",
   "execution_count": 29,
   "metadata": {},
   "outputs": [],
   "source": [
    "def adder(a,b,c):\n",
    "    return a+b+c"
   ]
  },
  {
   "cell_type": "code",
   "execution_count": 35,
   "metadata": {},
   "outputs": [
    {
     "name": "stdout",
     "output_type": "stream",
     "text": [
      "6\n",
      "25\n",
      "25\n"
     ]
    }
   ],
   "source": [
    "print(adder(1,2,3))\n",
    "print(adder(b=10,c=10,a=5))\n",
    "print(adder(a=10,b=5,c=10))"
   ]
  },
  {
   "cell_type": "code",
   "execution_count": 36,
   "metadata": {},
   "outputs": [],
   "source": [
    "def adder_v2(a,b,c=10):\n",
    "    return a+b+c"
   ]
  },
  {
   "cell_type": "code",
   "execution_count": 37,
   "metadata": {},
   "outputs": [
    {
     "name": "stdout",
     "output_type": "stream",
     "text": [
      "40\n",
      "50\n",
      "40\n",
      "51\n"
     ]
    }
   ],
   "source": [
    "print(adder_v2(10,20))\n",
    "print(adder_v2(10,20,20))\n",
    "print(adder_v2(10,20,c=10))\n",
    "print(adder_v2(b=10,a=21,c=20))"
   ]
  }
 ],
 "metadata": {
  "kernelspec": {
   "display_name": "Python 3",
   "language": "python",
   "name": "python3"
  },
  "language_info": {
   "codemirror_mode": {
    "name": "ipython",
    "version": 3
   },
   "file_extension": ".py",
   "mimetype": "text/x-python",
   "name": "python",
   "nbconvert_exporter": "python",
   "pygments_lexer": "ipython3",
   "version": "3.11.5"
  }
 },
 "nbformat": 4,
 "nbformat_minor": 2
}
