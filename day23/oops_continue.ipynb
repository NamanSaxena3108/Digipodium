{
 "cells": [
  {
   "cell_type": "markdown",
   "metadata": {},
   "source": [
    "# OOPS\n",
    "- Classes and Objects\n",
    "    - Methods(Instance Variable)\n",
    "    - Constructor\n",
    "    - Methods\n",
    "- Data clasess\n",
    "- Inheritance\n",
    "    - Simple inheritance\n",
    "    - Multiple inheritance"
   ]
  },
  {
   "cell_type": "code",
   "execution_count": 63,
   "metadata": {},
   "outputs": [],
   "source": [
    "a=10"
   ]
  },
  {
   "cell_type": "code",
   "execution_count": 64,
   "metadata": {},
   "outputs": [],
   "source": [
    "class A:\n",
    "    value=10"
   ]
  },
  {
   "cell_type": "code",
   "execution_count": 65,
   "metadata": {},
   "outputs": [
    {
     "name": "stdout",
     "output_type": "stream",
     "text": [
      "10\n"
     ]
    }
   ],
   "source": [
    "a=A()  #object Creation of class A\n",
    "print(a.value)  #10"
   ]
  },
  {
   "cell_type": "code",
   "execution_count": 66,
   "metadata": {},
   "outputs": [],
   "source": [
    "class square:\n",
    "    #class variable==static method\n",
    "    side=10\n",
    "    #insatance method -> 1st parameter is self\n",
    "    def area(self):\n",
    "        return self.side**2\n",
    "    def perimeter(self):\n",
    "        return self.side*4\n",
    "    #class method == similar to static method in java\n",
    "    def faltu():\n",
    "        return \"Faltu method\""
   ]
  },
  {
   "cell_type": "code",
   "execution_count": 67,
   "metadata": {},
   "outputs": [
    {
     "data": {
      "text/plain": [
       "'Faltu method'"
      ]
     },
     "execution_count": 67,
     "metadata": {},
     "output_type": "execute_result"
    }
   ],
   "source": [
    "square.side #static variable\n",
    "square.faltu() #class method"
   ]
  },
  {
   "cell_type": "code",
   "execution_count": 68,
   "metadata": {},
   "outputs": [
    {
     "name": "stdout",
     "output_type": "stream",
     "text": [
      "400\n",
      "80\n"
     ]
    }
   ],
   "source": [
    "s=square()\n",
    "s.side=20\n",
    "print(s.area())\n",
    "print(s.perimeter())"
   ]
  },
  {
   "cell_type": "code",
   "execution_count": 69,
   "metadata": {},
   "outputs": [
    {
     "name": "stdout",
     "output_type": "stream",
     "text": [
      "25\n",
      "20\n"
     ]
    }
   ],
   "source": [
    "s2=square()\n",
    "s2.side=5\n",
    "print(s2.area())\n",
    "print(s2.perimeter())"
   ]
  },
  {
   "cell_type": "markdown",
   "metadata": {},
   "source": [
    "# Constructor\n",
    "'''\n",
    "__init__(self,...)\n",
    "'''"
   ]
  },
  {
   "cell_type": "code",
   "execution_count": 70,
   "metadata": {},
   "outputs": [],
   "source": [
    "class Person:\n",
    "    #constructor\n",
    "    def __init__(self,n,a,g):\n",
    "        #Instance Variable\n",
    "        self.name=n\n",
    "        self.age=a\n",
    "        self.gender=g\n",
    "    \n",
    "    def show(self):\n",
    "        print(\"Name: \", self.name)\n",
    "        print(\"Age: \", self.age)\n",
    "        print(\"Gender: \", self.gender)"
   ]
  },
  {
   "cell_type": "code",
   "execution_count": 71,
   "metadata": {},
   "outputs": [],
   "source": [
    "p1=Person(\"Hari\",14,\"male\")\n",
    "p2=Person(\"Rohan\",15,\"male\")\n",
    "p3=Person(\"Sita\",20,\"female\")"
   ]
  },
  {
   "cell_type": "code",
   "execution_count": 72,
   "metadata": {},
   "outputs": [
    {
     "data": {
      "text/plain": [
       "__main__.Person"
      ]
     },
     "execution_count": 72,
     "metadata": {},
     "output_type": "execute_result"
    }
   ],
   "source": [
    "Person"
   ]
  },
  {
   "cell_type": "code",
   "execution_count": 73,
   "metadata": {},
   "outputs": [
    {
     "data": {
      "text/plain": [
       "<__main__.Person at 0x21c56916c30>"
      ]
     },
     "execution_count": 73,
     "metadata": {},
     "output_type": "execute_result"
    }
   ],
   "source": [
    "p1"
   ]
  },
  {
   "cell_type": "code",
   "execution_count": 74,
   "metadata": {},
   "outputs": [
    {
     "name": "stdout",
     "output_type": "stream",
     "text": [
      "Name:  Hari\n",
      "Age:  14\n",
      "Gender:  male\n",
      "None\n",
      "Name:  Rohan\n",
      "Age:  15\n",
      "Gender:  male\n",
      "None\n",
      "Name:  Sita\n",
      "Age:  20\n",
      "Gender:  female\n",
      "None\n"
     ]
    }
   ],
   "source": [
    "print(p1.show())\n",
    "print(p2.show())\n",
    "print(p3.show())"
   ]
  },
  {
   "cell_type": "code",
   "execution_count": 75,
   "metadata": {},
   "outputs": [],
   "source": [
    "class calculator:\n",
    "    def add(self,a,b):\n",
    "        return a+b\n",
    "    def subtract(self,a,b):\n",
    "        return a-b\n",
    "    def multiply(self,a,b):\n",
    "        return a*b\n",
    "    def divide(self,a,b):\n",
    "        return a/b"
   ]
  },
  {
   "cell_type": "code",
   "execution_count": 76,
   "metadata": {},
   "outputs": [
    {
     "name": "stdout",
     "output_type": "stream",
     "text": [
      "30\n",
      "-10\n",
      "200\n",
      "0.5\n"
     ]
    }
   ],
   "source": [
    "c=calculator()\n",
    "print(c.add(10,20))\n",
    "print(c.subtract(10,20))\n",
    "print(c.multiply(10,20))\n",
    "print(c.divide(10,20))"
   ]
  },
  {
   "cell_type": "markdown",
   "metadata": {},
   "source": [
    "# Data Classes"
   ]
  },
  {
   "cell_type": "code",
   "execution_count": 77,
   "metadata": {},
   "outputs": [],
   "source": [
    "from dataclasses import dataclass\n",
    "\n",
    "@dataclass\n",
    "class Product:\n",
    "    name:str\n",
    "    price:float\n",
    "    qty:int\n",
    "\n",
    "products=[\n",
    "    Product(\"Apple\", 1.00, 10),\n",
    "    Product(\"Banana\", 0.50, 20),\n",
    "    Product(\"Orange\", 1.50, 15)\n",
    "]"
   ]
  },
  {
   "cell_type": "code",
   "execution_count": 78,
   "metadata": {},
   "outputs": [
    {
     "name": "stdout",
     "output_type": "stream",
     "text": [
      "Apple 10.0\n",
      "Banana 10.0\n",
      "Orange 22.5\n"
     ]
    }
   ],
   "source": [
    "for item in products:\n",
    "    print(item.name,item.price*item.qty)"
   ]
  },
  {
   "cell_type": "code",
   "execution_count": 79,
   "metadata": {},
   "outputs": [
    {
     "data": {
      "text/plain": [
       "[Product(name='Apple', price=1.0, qty=10),\n",
       " Product(name='Banana', price=0.5, qty=20),\n",
       " Product(name='Orange', price=1.5, qty=15)]"
      ]
     },
     "execution_count": 79,
     "metadata": {},
     "output_type": "execute_result"
    }
   ],
   "source": [
    "products"
   ]
  },
  {
   "cell_type": "code",
   "execution_count": 80,
   "metadata": {},
   "outputs": [
    {
     "data": {
      "text/plain": [
       "[<__main__.Person at 0x21c56916c30>,\n",
       " <__main__.Person at 0x21c56914ef0>,\n",
       " <__main__.Person at 0x21c56904fe0>]"
      ]
     },
     "execution_count": 80,
     "metadata": {},
     "output_type": "execute_result"
    }
   ],
   "source": [
    "[p1,p2,p3]"
   ]
  },
  {
   "cell_type": "markdown",
   "metadata": {},
   "source": [
    "### dunder mathods -> fucntions that starts and ends with double underscore"
   ]
  },
  {
   "cell_type": "code",
   "execution_count": 81,
   "metadata": {},
   "outputs": [],
   "source": [
    "class Dog:\n",
    "    def __init__(self,breed,color,gender,age,name):\n",
    "        self.breed=breed\n",
    "        self.color=color\n",
    "        self.gender=gender\n",
    "        self.age=age\n",
    "        self.name=name\n",
    "    \n",
    "    def bark(self):\n",
    "        print(\"Barking\")\n",
    "    def  eat(self,food):\n",
    "        print(f\"{self.name} eating {food}\")\n",
    "    def  sleep(self,duration):\n",
    "        print(f\"{self.name} slept for {duration}\")\n",
    "    def __str__(self):\n",
    "        return f\"Name: {self.name}, Breed: {self.breed}\""
   ]
  },
  {
   "cell_type": "code",
   "execution_count": 82,
   "metadata": {},
   "outputs": [
    {
     "name": "stdout",
     "output_type": "stream",
     "text": [
      "Shadow slept for 5\n",
      "Name: Shadow, Breed: German Shephard\n"
     ]
    }
   ],
   "source": [
    "d=Dog(\"German Shephard\",\"Brown\",\"male\",4,\"Shadow\")\n",
    "d.sleep(5)\n",
    "print(d)"
   ]
  },
  {
   "cell_type": "markdown",
   "metadata": {},
   "source": [
    "# Inheritance"
   ]
  },
  {
   "cell_type": "code",
   "execution_count": 83,
   "metadata": {},
   "outputs": [],
   "source": [
    "class SuperList(list):\n",
    "    def sum(self):\n",
    "        total=0\n",
    "        for item in self:\n",
    "            if isinstance(item,(int,float)):\n",
    "                total+=item\n",
    "        return total\n",
    "    def mean(self):\n",
    "        return self.sum()/self.size()\n",
    "    def size(self):\n",
    "        return len([i for i in self if isinstance(i,(int,float))])"
   ]
  },
  {
   "cell_type": "code",
   "execution_count": 84,
   "metadata": {},
   "outputs": [
    {
     "name": "stdout",
     "output_type": "stream",
     "text": [
      "15\n",
      "20\n",
      "4.0\n"
     ]
    }
   ],
   "source": [
    "s1=SuperList([1,2,3,4,5])\n",
    "print(s1.sum())\n",
    "s2=SuperList(['A',1,2,3,4,'B','C',10])\n",
    "print(s2.sum())\n",
    "print(s2.mean())"
   ]
  },
  {
   "cell_type": "code",
   "execution_count": 85,
   "metadata": {},
   "outputs": [],
   "source": [
    "class A:\n",
    "    def __init__(self,value):\n",
    "        self.value = value"
   ]
  },
  {
   "cell_type": "markdown",
   "metadata": {},
   "source": [
    "### Multi Level Inheritance\n",
    "class A -> class B(A) -> class C(B)"
   ]
  },
  {
   "cell_type": "code",
   "execution_count": 86,
   "metadata": {},
   "outputs": [],
   "source": [
    "class AA(A):\n",
    "    def __init__(self,value,other_value):\n",
    "        super().__init__(value)\n",
    "        self.other_value=other_value"
   ]
  },
  {
   "cell_type": "code",
   "execution_count": 87,
   "metadata": {},
   "outputs": [],
   "source": [
    "class AAA(AA):\n",
    "    def __init__(self,first_value,second_value,third_value):\n",
    "        super().__init__(first_value,second_value)\n",
    "        self.third_value=third_value"
   ]
  },
  {
   "cell_type": "code",
   "execution_count": 88,
   "metadata": {},
   "outputs": [
    {
     "name": "stdout",
     "output_type": "stream",
     "text": [
      "10 20 30\n"
     ]
    }
   ],
   "source": [
    "obj=AAA(10,20,30)\n",
    "print(obj.value,obj.other_value,obj.third_value)"
   ]
  },
  {
   "cell_type": "markdown",
   "metadata": {},
   "source": [
    "### Multiple Inheritance\n",
    "class A,class B -> class C(A,B)"
   ]
  },
  {
   "cell_type": "code",
   "execution_count": 89,
   "metadata": {},
   "outputs": [],
   "source": [
    "class FileManager:\n",
    "    def __init__(self, file):\n",
    "        self.file = file\n",
    "    def  read(self):\n",
    "        pass\n",
    "    def  write(self):\n",
    "        pass\n",
    "    def append(self):\n",
    "        pass"
   ]
  },
  {
   "cell_type": "code",
   "execution_count": 90,
   "metadata": {},
   "outputs": [],
   "source": [
    "class FolderManager:\n",
    "    def create(self):\n",
    "        pass\n",
    "    def delete(self):\n",
    "        pass\n",
    "    def rename(self):\n",
    "        pass"
   ]
  },
  {
   "cell_type": "code",
   "execution_count": 91,
   "metadata": {},
   "outputs": [],
   "source": [
    "class OSManager(FileManager,FolderManager):\n",
    "    def __init__(self, file):\n",
    "        super().__init__(file)\n",
    "    "
   ]
  },
  {
   "cell_type": "code",
   "execution_count": 92,
   "metadata": {},
   "outputs": [],
   "source": [
    "os=OSManager(\"file.txt\")"
   ]
  },
  {
   "cell_type": "markdown",
   "metadata": {},
   "source": [
    "### Operator Overloading\n",
    "Overloading a method means defining multiple methods with the same name but different parameters."
   ]
  },
  {
   "cell_type": "code",
   "execution_count": 93,
   "metadata": {},
   "outputs": [],
   "source": [
    "class Person:\n",
    "    def __init__(self, name, age):\n",
    "        self.name = name\n",
    "        self.age = age\n",
    "    #<\n",
    "    def __lt__(self,other):\n",
    "        return self.age < other.age\n",
    "    #+\n",
    "    def __add__(self,other):\n",
    "        return self.age+other.age\n",
    "    \n",
    "    #Representation \n",
    "    def __repr__(self):\n",
    "        return self.__str__()\n",
    "    \n",
    "    #to String\n",
    "    def __str__(self):\n",
    "        return f\"{self.name} , {self.age}\""
   ]
  },
  {
   "cell_type": "code",
   "execution_count": 94,
   "metadata": {},
   "outputs": [
    {
     "data": {
      "text/plain": [
       "[Hari , 50, Sita , 30, Ram , 25, Gita , 23]"
      ]
     },
     "execution_count": 94,
     "metadata": {},
     "output_type": "execute_result"
    }
   ],
   "source": [
    "p1=Person(\"Hari\",50)\n",
    "p2=Person(\"Sita\",30)\n",
    "p3=Person(\"Ram\",25)\n",
    "p4=Person(\"Gita\",23)\n",
    "people=[p1,p2,p3,p4]\n",
    "people"
   ]
  },
  {
   "cell_type": "code",
   "execution_count": 97,
   "metadata": {},
   "outputs": [
    {
     "name": "stdout",
     "output_type": "stream",
     "text": [
      "Hari , 50\n",
      "Sita , 30\n",
      "Ram , 25\n"
     ]
    }
   ],
   "source": [
    "print(p1)\n",
    "print(p2)\n",
    "print(p3)"
   ]
  },
  {
   "cell_type": "code",
   "execution_count": 95,
   "metadata": {},
   "outputs": [
    {
     "name": "stdout",
     "output_type": "stream",
     "text": [
      "Gita\n",
      "Ram\n",
      "Sita\n",
      "Hari\n"
     ]
    }
   ],
   "source": [
    "people.sort()\n",
    "for p in people:\n",
    "    print(p.name)"
   ]
  },
  {
   "cell_type": "code",
   "execution_count": 96,
   "metadata": {},
   "outputs": [
    {
     "data": {
      "text/plain": [
       "80"
      ]
     },
     "execution_count": 96,
     "metadata": {},
     "output_type": "execute_result"
    }
   ],
   "source": [
    "p1+p2"
   ]
  }
 ],
 "metadata": {
  "kernelspec": {
   "display_name": "base",
   "language": "python",
   "name": "python3"
  },
  "language_info": {
   "codemirror_mode": {
    "name": "ipython",
    "version": 3
   },
   "file_extension": ".py",
   "mimetype": "text/x-python",
   "name": "python",
   "nbconvert_exporter": "python",
   "pygments_lexer": "ipython3",
   "version": "3.12.4"
  }
 },
 "nbformat": 4,
 "nbformat_minor": 2
}
