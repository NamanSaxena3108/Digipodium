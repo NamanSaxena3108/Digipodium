{
 "cells": [
  {
   "cell_type": "markdown",
   "metadata": {},
   "source": [
    "# OOPS\n",
    "- Classes and Objects\n",
    "    - Methods(Instance Variable)\n",
    "    - Constructor\n",
    "    - Methods\n",
    "- Data clasess\n",
    "- Inheritance\n",
    "    - Simple inheritance\n",
    "    - Multiple inheritance"
   ]
  },
  {
   "cell_type": "code",
   "execution_count": 14,
   "metadata": {},
   "outputs": [],
   "source": [
    "a=10"
   ]
  },
  {
   "cell_type": "code",
   "execution_count": 15,
   "metadata": {},
   "outputs": [],
   "source": [
    "class A:\n",
    "    value=10"
   ]
  },
  {
   "cell_type": "code",
   "execution_count": 16,
   "metadata": {},
   "outputs": [
    {
     "name": "stdout",
     "output_type": "stream",
     "text": [
      "10\n"
     ]
    }
   ],
   "source": [
    "a=A()  #object Creation of class A\n",
    "print(a.value)  #10"
   ]
  },
  {
   "cell_type": "code",
   "execution_count": 17,
   "metadata": {},
   "outputs": [],
   "source": [
    "class square:\n",
    "    #class variable==static method\n",
    "    side=10\n",
    "    #insatance method -> 1st parameter is self\n",
    "    def area(self):\n",
    "        return self.side**2\n",
    "    def perimeter(self):\n",
    "        return self.side*4\n",
    "    #class method == similar to static method in java\n",
    "    def faltu():\n",
    "        return \"Faltu method\""
   ]
  },
  {
   "cell_type": "code",
   "execution_count": 26,
   "metadata": {},
   "outputs": [
    {
     "data": {
      "text/plain": [
       "'Faltu method'"
      ]
     },
     "execution_count": 26,
     "metadata": {},
     "output_type": "execute_result"
    }
   ],
   "source": [
    "square.side #static variable\n",
    "square.faltu() #class method"
   ]
  },
  {
   "cell_type": "code",
   "execution_count": 24,
   "metadata": {},
   "outputs": [
    {
     "name": "stdout",
     "output_type": "stream",
     "text": [
      "400\n",
      "80\n"
     ]
    }
   ],
   "source": [
    "s=square()\n",
    "s.side=20\n",
    "print(s.area())\n",
    "print(s.perimeter())"
   ]
  },
  {
   "cell_type": "code",
   "execution_count": 25,
   "metadata": {},
   "outputs": [
    {
     "name": "stdout",
     "output_type": "stream",
     "text": [
      "25\n",
      "20\n"
     ]
    }
   ],
   "source": [
    "s2=square()\n",
    "s2.side=5\n",
    "print(s2.area())\n",
    "print(s2.perimeter())"
   ]
  },
  {
   "cell_type": "markdown",
   "metadata": {},
   "source": [
    "# Constructor\n",
    "'''\n",
    "__init__(self,...)\n",
    "'''"
   ]
  },
  {
   "cell_type": "code",
   "execution_count": 27,
   "metadata": {},
   "outputs": [],
   "source": [
    "class Person:\n",
    "    #constructor\n",
    "    def __init__(self,n,a,g):\n",
    "        #Instance Variable\n",
    "        self.name=n\n",
    "        self.age=a\n",
    "        self.gender=g\n",
    "    \n",
    "    def show(self):\n",
    "        print(\"Name: \", self.name)\n",
    "        print(\"Age: \", self.age)\n",
    "        print(\"Gender: \", self.gender)"
   ]
  },
  {
   "cell_type": "code",
   "execution_count": 28,
   "metadata": {},
   "outputs": [],
   "source": [
    "p1=Person(\"Hari\",14,\"male\")\n",
    "p2=Person(\"Rohan\",15,\"male\")\n",
    "p3=Person(\"Sita\",20,\"female\")"
   ]
  },
  {
   "cell_type": "code",
   "execution_count": 31,
   "metadata": {},
   "outputs": [
    {
     "data": {
      "text/plain": [
       "__main__.Person"
      ]
     },
     "execution_count": 31,
     "metadata": {},
     "output_type": "execute_result"
    }
   ],
   "source": [
    "Person"
   ]
  },
  {
   "cell_type": "code",
   "execution_count": 32,
   "metadata": {},
   "outputs": [
    {
     "data": {
      "text/plain": [
       "<__main__.Person at 0x1dbff83c710>"
      ]
     },
     "execution_count": 32,
     "metadata": {},
     "output_type": "execute_result"
    }
   ],
   "source": [
    "p1"
   ]
  },
  {
   "cell_type": "code",
   "execution_count": 34,
   "metadata": {},
   "outputs": [
    {
     "name": "stdout",
     "output_type": "stream",
     "text": [
      "Name:  Hari\n",
      "Age:  14\n",
      "Gender:  male\n",
      "None\n",
      "Name:  Rohan\n",
      "Age:  15\n",
      "Gender:  male\n",
      "None\n",
      "Name:  Sita\n",
      "Age:  20\n",
      "Gender:  female\n",
      "None\n"
     ]
    }
   ],
   "source": [
    "print(p1.show())\n",
    "print(p2.show())\n",
    "print(p3.show())"
   ]
  },
  {
   "cell_type": "code",
   "execution_count": 35,
   "metadata": {},
   "outputs": [],
   "source": [
    "class calculator:\n",
    "    def add(self,a,b):\n",
    "        return a+b\n",
    "    def subtract(self,a,b):\n",
    "        return a-b\n",
    "    def multiply(self,a,b):\n",
    "        return a*b\n",
    "    def divide(self,a,b):\n",
    "        return a/b"
   ]
  },
  {
   "cell_type": "code",
   "execution_count": 36,
   "metadata": {},
   "outputs": [
    {
     "name": "stdout",
     "output_type": "stream",
     "text": [
      "30\n",
      "-10\n",
      "200\n",
      "0.5\n"
     ]
    }
   ],
   "source": [
    "c=calculator()\n",
    "print(c.add(10,20))\n",
    "print(c.subtract(10,20))\n",
    "print(c.multiply(10,20))\n",
    "print(c.divide(10,20))"
   ]
  },
  {
   "cell_type": "markdown",
   "metadata": {},
   "source": [
    "# Data Classes"
   ]
  },
  {
   "cell_type": "code",
   "execution_count": 37,
   "metadata": {},
   "outputs": [],
   "source": [
    "from dataclasses import dataclass\n",
    "\n",
    "@dataclass\n",
    "class Product:\n",
    "    name:str\n",
    "    price:float\n",
    "    qty:int\n",
    "\n",
    "products=[\n",
    "    Product(\"Apple\", 1.00, 10),\n",
    "    Product(\"Banana\", 0.50, 20),\n",
    "    Product(\"Orange\", 1.50, 15)\n",
    "]"
   ]
  },
  {
   "cell_type": "code",
   "execution_count": 39,
   "metadata": {},
   "outputs": [
    {
     "name": "stdout",
     "output_type": "stream",
     "text": [
      "Apple 10.0\n",
      "Banana 10.0\n",
      "Orange 22.5\n"
     ]
    }
   ],
   "source": [
    "for item in products:\n",
    "    print(item.name,item.price*item.qty)"
   ]
  },
  {
   "cell_type": "code",
   "execution_count": 40,
   "metadata": {},
   "outputs": [
    {
     "data": {
      "text/plain": [
       "[Product(name='Apple', price=1.0, qty=10),\n",
       " Product(name='Banana', price=0.5, qty=20),\n",
       " Product(name='Orange', price=1.5, qty=15)]"
      ]
     },
     "execution_count": 40,
     "metadata": {},
     "output_type": "execute_result"
    }
   ],
   "source": [
    "products"
   ]
  },
  {
   "cell_type": "code",
   "execution_count": 43,
   "metadata": {},
   "outputs": [
    {
     "data": {
      "text/plain": [
       "[<__main__.Person at 0x1dbff83c710>,\n",
       " <__main__.Person at 0x1dbff83f650>,\n",
       " <__main__.Person at 0x1dbff83e2d0>]"
      ]
     },
     "execution_count": 43,
     "metadata": {},
     "output_type": "execute_result"
    }
   ],
   "source": [
    "[p1,p2,p3]"
   ]
  },
  {
   "cell_type": "markdown",
   "metadata": {},
   "source": [
    "### dunder mathods -> fucntions that starts and ends with double underscore"
   ]
  },
  {
   "cell_type": "code",
   "execution_count": 44,
   "metadata": {},
   "outputs": [],
   "source": [
    "class Dog:\n",
    "    def __init__(self,breed,color,gender,age,name):\n",
    "        self.breed=breed\n",
    "        self.color=color\n",
    "        self.gender=gender\n",
    "        self.age=age\n",
    "        self.name=name\n",
    "    \n",
    "    def bark(self):\n",
    "        print(\"Barking\")\n",
    "    def  eat(self,food):\n",
    "        print(f\"{self.name} eating {food}\")\n",
    "    def  sleep(self,duration):\n",
    "        print(f\"{self.name} slept for {duration}\")\n",
    "    def __str__(self):\n",
    "        return f\"Name: {self.name}, Breed: {self.breed}\""
   ]
  },
  {
   "cell_type": "code",
   "execution_count": 47,
   "metadata": {},
   "outputs": [
    {
     "name": "stdout",
     "output_type": "stream",
     "text": [
      "Shadow slept for 5\n",
      "Name: Shadow, Breed: German Shephard\n"
     ]
    }
   ],
   "source": [
    "d=Dog(\"German Shephard\",\"Brown\",\"male\",4,\"Shadow\")\n",
    "d.sleep(5)\n",
    "print(d)"
   ]
  },
  {
   "cell_type": "markdown",
   "metadata": {},
   "source": [
    "# Inheritance"
   ]
  },
  {
   "cell_type": "code",
   "execution_count": 56,
   "metadata": {},
   "outputs": [],
   "source": [
    "class SuperList(list):\n",
    "    def sum(self):\n",
    "        total=0\n",
    "        for item in self:\n",
    "            if isinstance(item,(int,float)):\n",
    "                total+=item\n",
    "        return total\n",
    "    def mean(self):\n",
    "        return self.sum()/self.size()\n",
    "    def size(self):\n",
    "        return len([i for i in self if isinstance(i,(int,float))])"
   ]
  },
  {
   "cell_type": "code",
   "execution_count": 59,
   "metadata": {},
   "outputs": [
    {
     "name": "stdout",
     "output_type": "stream",
     "text": [
      "15\n",
      "20\n",
      "4.0\n"
     ]
    }
   ],
   "source": [
    "s1=SuperList([1,2,3,4,5])\n",
    "print(s1.sum())\n",
    "s2=SuperList(['A',1,2,3,4,'B','C',10])\n",
    "print(s2.sum())\n",
    "print(s2.mean())"
   ]
  }
 ],
 "metadata": {
  "kernelspec": {
   "display_name": "base",
   "language": "python",
   "name": "python3"
  },
  "language_info": {
   "codemirror_mode": {
    "name": "ipython",
    "version": 3
   },
   "file_extension": ".py",
   "mimetype": "text/x-python",
   "name": "python",
   "nbconvert_exporter": "python",
   "pygments_lexer": "ipython3",
   "version": "3.12.4"
  }
 },
 "nbformat": 4,
 "nbformat_minor": 2
}
