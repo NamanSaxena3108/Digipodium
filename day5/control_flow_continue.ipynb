{
 "cells": [
  {
   "cell_type": "markdown",
   "metadata": {},
   "source": [
    "### Loops\n",
    "- step based loop(for loop)\n",
    "- condition based loop(while loop)"
   ]
  },
  {
   "cell_type": "markdown",
   "metadata": {},
   "source": []
  },
  {
   "cell_type": "code",
   "execution_count": 1,
   "metadata": {},
   "outputs": [
    {
     "name": "stdout",
     "output_type": "stream",
     "text": [
      "1\n",
      "2\n",
      "3\n",
      "4\n",
      "5\n",
      "6\n"
     ]
    }
   ],
   "source": [
    "number=[1,2,3,4,5,6]\n",
    "for i in number:\n",
    "    print(i)"
   ]
  },
  {
   "cell_type": "code",
   "execution_count": 3,
   "metadata": {},
   "outputs": [
    {
     "name": "stdout",
     "output_type": "stream",
     "text": [
      "sony\n",
      "apple\n",
      "lenovo\n",
      "samsung\n"
     ]
    }
   ],
   "source": [
    "brands=['sony','apple','lenovo','samsung']\n",
    "for names in brands:\n",
    "    print(names)"
   ]
  },
  {
   "cell_type": "markdown",
   "metadata": {},
   "source": [
    "### Iterable\n",
    "- list\n",
    "- string\n",
    "- tuple\n",
    "- set\n",
    "- dict\n",
    "- range\n",
    "- generator\n"
   ]
  },
  {
   "cell_type": "code",
   "execution_count": 4,
   "metadata": {},
   "outputs": [
    {
     "name": "stdout",
     "output_type": "stream",
     "text": [
      "j\n",
      "o\n",
      "u\n",
      "r\n",
      "n\n",
      "e\n",
      "y\n"
     ]
    }
   ],
   "source": [
    "word = \"journey\"\n",
    "for char in word:\n",
    "    print(char)"
   ]
  },
  {
   "cell_type": "code",
   "execution_count": 6,
   "metadata": {},
   "outputs": [
    {
     "name": "stdout",
     "output_type": "stream",
     "text": [
      "11\n",
      "22\n",
      "33\n",
      "44\n",
      "55\n",
      "66\n"
     ]
    }
   ],
   "source": [
    "for i in {11,22,33,44,55,66}:\n",
    "    print(i)"
   ]
  },
  {
   "cell_type": "markdown",
   "metadata": {},
   "source": [
    "\"\"\" 'range' function for the 'for loop'\n",
    "\n",
    "'range(stop)' - 0 to stop-1\n",
    "\n",
    "'range(start,stop)' - start to stop-1\n",
    "\n",
    "'range(start,stop,step)' - start to stop-1 with step \"\"\""
   ]
  },
  {
   "cell_type": "code",
   "execution_count": 8,
   "metadata": {},
   "outputs": [
    {
     "name": "stdout",
     "output_type": "stream",
     "text": [
      "0 1 2 3 4 5 6 7 8 9 "
     ]
    }
   ],
   "source": [
    "for i in range(10):\n",
    "    print(i,end=\" \")"
   ]
  },
  {
   "cell_type": "code",
   "execution_count": 10,
   "metadata": {},
   "outputs": [
    {
     "name": "stdout",
     "output_type": "stream",
     "text": [
      "5 6 7 8 9 10 "
     ]
    }
   ],
   "source": [
    "for i in range(5,11):\n",
    "    print(i,end=\" \")"
   ]
  },
  {
   "cell_type": "code",
   "execution_count": 11,
   "metadata": {},
   "outputs": [
    {
     "name": "stdout",
     "output_type": "stream",
     "text": [
      "5 7 9 11 13 "
     ]
    }
   ],
   "source": [
    "for i in range (5,15,2):\n",
    "    print(i,end=' ')"
   ]
  },
  {
   "cell_type": "code",
   "execution_count": 13,
   "metadata": {},
   "outputs": [
    {
     "name": "stdout",
     "output_type": "stream",
     "text": [
      "10 9 8 7 6 5 4 3 2 1 "
     ]
    }
   ],
   "source": [
    "#reverse loop\n",
    "for i in range(10,0,-1):\n",
    "    print(i,end=\" \")"
   ]
  },
  {
   "cell_type": "code",
   "execution_count": 18,
   "metadata": {},
   "outputs": [
    {
     "name": "stdout",
     "output_type": "stream",
     "text": [
      "-5 -4 -3 -2 -1 0 1 2 3 4 5 "
     ]
    }
   ],
   "source": [
    "for i in range(-5,6):\n",
    "    print(i,end=' ')"
   ]
  },
  {
   "cell_type": "code",
   "execution_count": 19,
   "metadata": {},
   "outputs": [
    {
     "name": "stdout",
     "output_type": "stream",
     "text": [
      "5050\n"
     ]
    }
   ],
   "source": [
    "total=0\n",
    "for i in range(1,101):\n",
    "    total += i\n",
    "print(total)"
   ]
  },
  {
   "cell_type": "code",
   "execution_count": 20,
   "metadata": {},
   "outputs": [
    {
     "data": {
      "text/plain": [
       "5050"
      ]
     },
     "execution_count": 20,
     "metadata": {},
     "output_type": "execute_result"
    }
   ],
   "source": [
    "sum(list(range(1,101)))"
   ]
  },
  {
   "cell_type": "code",
   "execution_count": 29,
   "metadata": {},
   "outputs": [
    {
     "name": "stdout",
     "output_type": "stream",
     "text": [
      "ben\n",
      "satyam\n",
      "maniratnam\n"
     ]
    }
   ],
   "source": [
    "#find the largest word in the list\n",
    "words=['ben','satyam','maniratnam','ray','soham']\n",
    "largest_word=\"\"\n",
    "for i in words:\n",
    "    if len(i)>len(largest_word):\n",
    "        largest_word = i\n",
    "        print(i)"
   ]
  },
  {
   "cell_type": "markdown",
   "metadata": {},
   "source": [
    "### Break statement"
   ]
  },
  {
   "cell_type": "code",
   "execution_count": 33,
   "metadata": {},
   "outputs": [
    {
     "name": "stdout",
     "output_type": "stream",
     "text": [
      "0 1 2 3 4 The End\n"
     ]
    }
   ],
   "source": [
    "for i in range(10):\n",
    "    if i == 5:\n",
    "        break\n",
    "    print(i,end=\" \")\n",
    "print(\"The End\")"
   ]
  },
  {
   "cell_type": "code",
   "execution_count": 34,
   "metadata": {},
   "outputs": [
    {
     "name": "stdout",
     "output_type": "stream",
     "text": [
      "1\n",
      "2\n",
      "4\n",
      "5\n",
      "7\n",
      "9\n",
      "4\n",
      "6\n",
      "zero found\n"
     ]
    }
   ],
   "source": [
    "data=[1,2,4,5,7,9,4,6,0,4,9,8,4,6,7,1]\n",
    "for i in data:\n",
    "    if i==0:\n",
    "        print(\"zero found\")\n",
    "        break      #stop the loop\n",
    "    print(i)"
   ]
  },
  {
   "cell_type": "code",
   "execution_count": 49,
   "metadata": {},
   "outputs": [
    {
     "name": "stdout",
     "output_type": "stream",
     "text": [
      "1\n",
      "4\n",
      "16\n",
      "25\n",
      "49\n",
      "81\n",
      "16\n",
      "36\n",
      "16\n",
      "81\n"
     ]
    }
   ],
   "source": [
    "data=[1,2,4,5,7,9,4,6,0,4,9]\n",
    "for i in data:\n",
    "    if i==0:\n",
    "        continue    #skip to next item\n",
    "    print(i**2)"
   ]
  },
  {
   "cell_type": "markdown",
   "metadata": {},
   "source": [
    "### keyword with loops\n",
    "- enumerate\n",
    "- zip\n"
   ]
  },
  {
   "cell_type": "code",
   "execution_count": 37,
   "metadata": {},
   "outputs": [
    {
     "name": "stdout",
     "output_type": "stream",
     "text": [
      "0 apple\n",
      "1 banana\n",
      "2 mango\n",
      "3 orange\n",
      "4 kiwi\n"
     ]
    }
   ],
   "source": [
    "fruit=['apple','banana','mango','orange','kiwi']\n",
    "for idx,name in enumerate(fruit):\n",
    "    print(idx,name)"
   ]
  },
  {
   "cell_type": "code",
   "execution_count": 42,
   "metadata": {},
   "outputs": [
    {
     "name": "stdout",
     "output_type": "stream",
     "text": [
      "0 23\n",
      "1 55\n",
      "2 42\n",
      "3 84\n",
      "4 91\n"
     ]
    }
   ],
   "source": [
    "numbers=[23,56,44,87,95]\n",
    "for idx,number in enumerate(numbers):\n",
    "    print(idx,number-idx)"
   ]
  },
  {
   "cell_type": "code",
   "execution_count": 43,
   "metadata": {},
   "outputs": [
    {
     "name": "stdout",
     "output_type": "stream",
     "text": [
      "12\n",
      "24\n",
      "36\n",
      "48\n",
      "60\n"
     ]
    }
   ],
   "source": [
    "x=[1,2,3,4,5]\n",
    "y=[11,22,33,44,55]\n",
    "for i,j in zip(x,y):\n",
    "    print(i+j)"
   ]
  },
  {
   "cell_type": "code",
   "execution_count": 48,
   "metadata": {},
   "outputs": [
    {
     "name": "stdout",
     "output_type": "stream",
     "text": [
      "123 j\n",
      "246 e\n",
      "369 l\n",
      "492 l\n",
      "615 o\n"
     ]
    }
   ],
   "source": [
    "x=[1,2,3,4,5]\n",
    "y=[11,22,33,44,55]\n",
    "z=[111,222,333,444,555,666]\n",
    "w='jelloooo'\n",
    "for i,j,k,l in zip(x,y,z,w):\n",
    "    print(i+j+k,l)"
   ]
  },
  {
   "cell_type": "code",
   "execution_count": 39,
   "metadata": {},
   "outputs": [
    {
     "name": "stdout",
     "output_type": "stream",
     "text": [
      "[(1, 5, 9), (2, 6, 10), (3, 7, 11), (4, 8, 12)]\n"
     ]
    }
   ],
   "source": [
    "list1=[1,2,3,4]\n",
    "list2=[5,6,7,8]\n",
    "list3=[9,10,11,12]\n",
    "a=list(zip(list1,list2,list3))\n",
    "print(a)"
   ]
  },
  {
   "cell_type": "code",
   "execution_count": 52,
   "metadata": {},
   "outputs": [
    {
     "name": "stdout",
     "output_type": "stream",
     "text": [
      "7\n"
     ]
    }
   ],
   "source": [
    "#count the number of vowels in a sentence\n",
    "sentence=\"This is a very good day\"\n",
    "count=0\n",
    "for i in sentence:\n",
    "    if i==\"a\":\n",
    "        count +=1\n",
    "    elif i==\"e\":\n",
    "        count +=1\n",
    "    elif i==\"i\":\n",
    "        count +=1\n",
    "    elif i==\"o\":\n",
    "        count +=1\n",
    "    elif i==\"u\":\n",
    "        count +=1\n",
    "print(count)"
   ]
  },
  {
   "cell_type": "markdown",
   "metadata": {},
   "source": [
    "OR"
   ]
  },
  {
   "cell_type": "code",
   "execution_count": 53,
   "metadata": {},
   "outputs": [
    {
     "name": "stdout",
     "output_type": "stream",
     "text": [
      "7\n"
     ]
    }
   ],
   "source": [
    "sentence=\"This is a very good day\"\n",
    "count=0\n",
    "for i in sentence:\n",
    "    if i in 'aeiou':\n",
    "        count+=1\n",
    "print(count)"
   ]
  }
 ],
 "metadata": {
  "kernelspec": {
   "display_name": "base",
   "language": "python",
   "name": "python3"
  },
  "language_info": {
   "codemirror_mode": {
    "name": "ipython",
    "version": 3
   },
   "file_extension": ".py",
   "mimetype": "text/x-python",
   "name": "python",
   "nbconvert_exporter": "python",
   "pygments_lexer": "ipython3",
   "version": "3.12.4"
  }
 },
 "nbformat": 4,
 "nbformat_minor": 2
}
