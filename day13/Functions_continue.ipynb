{
  "nbformat": 4,
  "nbformat_minor": 0,
  "metadata": {
    "colab": {
      "provenance": []
    },
    "kernelspec": {
      "name": "python3",
      "display_name": "Python 3"
    },
    "language_info": {
      "name": "python"
    }
  },
  "cells": [
    {
      "cell_type": "markdown",
      "source": [
        "- Variable arguments\n",
        "- Keyword variable argument\n",
        "- Lambda functions"
      ],
      "metadata": {
        "id": "fMkiH-m4Hs_1"
      }
    },
    {
      "cell_type": "code",
      "source": [
        "def multiply(*args):\n",
        "  print(args)\n",
        "  print(len(args))"
      ],
      "metadata": {
        "id": "KqBtspOKH78N"
      },
      "execution_count": 8,
      "outputs": []
    },
    {
      "cell_type": "code",
      "source": [
        "multiply(1,2,3,4,5)"
      ],
      "metadata": {
        "colab": {
          "base_uri": "https://localhost:8080/"
        },
        "id": "Jv2pb011Ib6m",
        "outputId": "ec369671-ee34-4a8a-fc0b-0adec6c253ee"
      },
      "execution_count": 9,
      "outputs": [
        {
          "output_type": "stream",
          "name": "stdout",
          "text": [
            "(1, 2, 3, 4, 5)\n",
            "5\n"
          ]
        }
      ]
    },
    {
      "cell_type": "code",
      "source": [
        "multiply(11,12,45)"
      ],
      "metadata": {
        "colab": {
          "base_uri": "https://localhost:8080/"
        },
        "id": "aCaiS9uUIeiK",
        "outputId": "593d4678-5835-4aad-a457-bb30a73b715a"
      },
      "execution_count": 10,
      "outputs": [
        {
          "output_type": "stream",
          "name": "stdout",
          "text": [
            "(11, 12, 45)\n",
            "3\n"
          ]
        }
      ]
    },
    {
      "cell_type": "code",
      "source": [
        "def getlength(*args):\n",
        "  result=[]\n",
        "  for item in args:\n",
        "    result.append(len(item))\n",
        "  return result"
      ],
      "metadata": {
        "id": "Yt5ZictdJIn9"
      },
      "execution_count": 12,
      "outputs": []
    },
    {
      "cell_type": "code",
      "source": [
        "getlength(\"apple\",\"banana\",\"cherry\")"
      ],
      "metadata": {
        "colab": {
          "base_uri": "https://localhost:8080/"
        },
        "id": "YNudgw0GJ_Fo",
        "outputId": "e7e67b92-6ec1-41df-dc3c-7ab1bcea50da"
      },
      "execution_count": 14,
      "outputs": [
        {
          "output_type": "execute_result",
          "data": {
            "text/plain": [
              "[5, 6, 6]"
            ]
          },
          "metadata": {},
          "execution_count": 14
        }
      ]
    },
    {
      "cell_type": "code",
      "source": [
        "calc_expense(apple=10,banana=20,cherry=30)"
      ],
      "metadata": {
        "colab": {
          "base_uri": "https://localhost:8080/"
        },
        "id": "WMSs8ZqaL17e",
        "outputId": "ddb33d6b-8be1-4405-ffc1-9a81ea654f48"
      },
      "execution_count": 16,
      "outputs": [
        {
          "output_type": "stream",
          "name": "stdout",
          "text": [
            "{'apple': 10, 'banana': 20, 'cherry': 30}\n",
            "3\n"
          ]
        }
      ]
    },
    {
      "cell_type": "code",
      "source": [
        "#**kwargs -> variable length keyword arguments\n",
        "def calc_expense(**data):\n",
        "  print(data)\n",
        "  print(len(data))"
      ],
      "metadata": {
        "id": "SiPjqJzKKPCc"
      },
      "execution_count": 15,
      "outputs": []
    },
    {
      "cell_type": "code",
      "source": [
        "def laptop_info(filename='laptop.txt',**specs):\n",
        "  with open(filename,'w') as file:\n",
        "    for key,value in specs.items():\n",
        "      file.write(f'{key}={value}\\n')\n",
        "    print(\"Specs Saved\")"
      ],
      "metadata": {
        "id": "YlvfNUFzL63L"
      },
      "execution_count": 17,
      "outputs": []
    },
    {
      "cell_type": "code",
      "source": [
        "laptop_info(\"old_laptop.txt\",brand='lenovo',model='ideapad',ram='4Gb',os='linux')\n",
        "laptop_info(\"new_laptop.txt\",brand='legion 5 pro',ram='16Gb',graphics=\"RTX3060\",storage='1TB SSD')"
      ],
      "metadata": {
        "colab": {
          "base_uri": "https://localhost:8080/"
        },
        "id": "kuLP4YnvM89I",
        "outputId": "a127e815-22f0-400f-ddfc-0a5af9513f90"
      },
      "execution_count": 18,
      "outputs": [
        {
          "output_type": "stream",
          "name": "stdout",
          "text": [
            "Specs Saved\n",
            "Specs Saved\n"
          ]
        }
      ]
    },
    {
      "cell_type": "code",
      "source": [
        "laptop_info()"
      ],
      "metadata": {
        "colab": {
          "base_uri": "https://localhost:8080/"
        },
        "id": "Y_jAS9CyNe2P",
        "outputId": "beeb4a28-0501-48d3-fd0a-785bf880e5be"
      },
      "execution_count": 19,
      "outputs": [
        {
          "output_type": "stream",
          "name": "stdout",
          "text": [
            "Specs Saved\n"
          ]
        }
      ]
    },
    {
      "cell_type": "markdown",
      "source": [
        "Anonymous Function\n"
      ],
      "metadata": {
        "id": "oLdJtsK0OdNE"
      }
    },
    {
      "cell_type": "code",
      "source": [
        "def f(x):\n",
        "  return x**2+10\n",
        "\n",
        "f(5)"
      ],
      "metadata": {
        "colab": {
          "base_uri": "https://localhost:8080/"
        },
        "id": "d3Bdfc8zNtQt",
        "outputId": "e1bc7bba-e70c-4a34-c146-a9c63662960f"
      },
      "execution_count": 21,
      "outputs": [
        {
          "output_type": "execute_result",
          "data": {
            "text/plain": [
              "35"
            ]
          },
          "metadata": {},
          "execution_count": 21
        }
      ]
    },
    {
      "cell_type": "code",
      "source": [
        "f1=lambda x:x**2+10\n",
        "f1(5)"
      ],
      "metadata": {
        "colab": {
          "base_uri": "https://localhost:8080/"
        },
        "id": "ulafk-zFPD5J",
        "outputId": "a2d70358-e73d-4c27-afbd-ff5c1bc6fb27"
      },
      "execution_count": 22,
      "outputs": [
        {
          "output_type": "execute_result",
          "data": {
            "text/plain": [
              "35"
            ]
          },
          "metadata": {},
          "execution_count": 22
        }
      ]
    },
    {
      "cell_type": "code",
      "source": [
        "g=lambda x,y:(x+y)+(x*y)/2\n",
        "g(10,20)"
      ],
      "metadata": {
        "colab": {
          "base_uri": "https://localhost:8080/"
        },
        "id": "F8zRPhogPOpS",
        "outputId": "f943c556-31eb-432d-8ead-07202b19ee75"
      },
      "execution_count": 24,
      "outputs": [
        {
          "output_type": "execute_result",
          "data": {
            "text/plain": [
              "130.0"
            ]
          },
          "metadata": {},
          "execution_count": 24
        }
      ]
    },
    {
      "cell_type": "markdown",
      "source": [
        "### Map and Filter function with lambda function"
      ],
      "metadata": {
        "id": "eUbJbLpfQMNu"
      }
    },
    {
      "cell_type": "code",
      "source": [
        "data=['1','2','3','4','5']\n",
        "map(int,data)  #Lazy Object"
      ],
      "metadata": {
        "colab": {
          "base_uri": "https://localhost:8080/"
        },
        "id": "_PS2f8pmP_B1",
        "outputId": "61750eb3-495b-48fb-b188-c4bd8d62736e"
      },
      "execution_count": 25,
      "outputs": [
        {
          "output_type": "execute_result",
          "data": {
            "text/plain": [
              "<map at 0x7aa09e1811b0>"
            ]
          },
          "metadata": {},
          "execution_count": 25
        }
      ]
    },
    {
      "cell_type": "code",
      "source": [
        "result=[int(i) for i in data]  #Comprehension\n",
        "print(result)"
      ],
      "metadata": {
        "colab": {
          "base_uri": "https://localhost:8080/"
        },
        "id": "eOl3C1hYRJ7D",
        "outputId": "77de3e88-fe8a-4f63-f0e9-6cab3beebb9b"
      },
      "execution_count": 28,
      "outputs": [
        {
          "output_type": "stream",
          "name": "stdout",
          "text": [
            "[1, 2, 3, 4, 5]\n"
          ]
        }
      ]
    },
    {
      "cell_type": "code",
      "source": [
        "data=['1','2','3','4','5']\n",
        "list(map(int,data)) #Lazy Object -> List"
      ],
      "metadata": {
        "colab": {
          "base_uri": "https://localhost:8080/"
        },
        "id": "VLmG1J7UQ3Fk",
        "outputId": "4cfdd1ee-e1ef-4651-e9af-23533e9bb3b1"
      },
      "execution_count": 29,
      "outputs": [
        {
          "output_type": "execute_result",
          "data": {
            "text/plain": [
              "[1, 2, 3, 4, 5]"
            ]
          },
          "metadata": {},
          "execution_count": 29
        }
      ]
    },
    {
      "cell_type": "code",
      "source": [
        "data=[1,2,5,6,19,54,32]\n",
        "list(map(lambda x:x**2,data))"
      ],
      "metadata": {
        "colab": {
          "base_uri": "https://localhost:8080/"
        },
        "id": "9eusat8gQ540",
        "outputId": "a84959c0-b3ad-45f9-8210-c850f79b2c40"
      },
      "execution_count": 30,
      "outputs": [
        {
          "output_type": "execute_result",
          "data": {
            "text/plain": [
              "[1, 4, 25, 36, 361, 2916, 1024]"
            ]
          },
          "metadata": {},
          "execution_count": 30
        }
      ]
    },
    {
      "cell_type": "code",
      "source": [
        "for i in map(lambda x:x**2,data):\n",
        "  print(i)"
      ],
      "metadata": {
        "colab": {
          "base_uri": "https://localhost:8080/"
        },
        "id": "J_kWZSzeRsFU",
        "outputId": "0f5e6731-8afd-476b-d426-034169c33642"
      },
      "execution_count": 31,
      "outputs": [
        {
          "output_type": "stream",
          "name": "stdout",
          "text": [
            "1\n",
            "4\n",
            "25\n",
            "36\n",
            "361\n",
            "2916\n",
            "1024\n"
          ]
        }
      ]
    },
    {
      "cell_type": "markdown",
      "source": [
        "Generator Function"
      ],
      "metadata": {
        "id": "mGGcgh_4SZHt"
      }
    },
    {
      "cell_type": "code",
      "source": [
        "def getlength(*args):\n",
        "  for item in args:\n",
        "    yield len(item)"
      ],
      "metadata": {
        "id": "33gmD0IMR1uO"
      },
      "execution_count": 32,
      "outputs": []
    },
    {
      "cell_type": "code",
      "source": [
        "list(getlength(\"apple\",\"banana\",\"cherry\",'word'))"
      ],
      "metadata": {
        "colab": {
          "base_uri": "https://localhost:8080/"
        },
        "id": "e6O0uNXiSsH7",
        "outputId": "5566b5e9-6f39-457b-c488-be51de9b79f2"
      },
      "execution_count": 34,
      "outputs": [
        {
          "output_type": "execute_result",
          "data": {
            "text/plain": [
              "[5, 6, 6, 4]"
            ]
          },
          "metadata": {},
          "execution_count": 34
        }
      ]
    }
  ]
}